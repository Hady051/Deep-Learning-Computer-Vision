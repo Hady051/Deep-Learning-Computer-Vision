{
 "cells": [
  {
   "metadata": {},
   "cell_type": "markdown",
   "source": "## Reshaping",
   "id": "a39fbd5de4e3de"
  },
  {
   "cell_type": "code",
   "id": "initial_id",
   "metadata": {
    "collapsed": true,
    "ExecuteTime": {
     "end_time": "2025-06-27T12:02:33.414787Z",
     "start_time": "2025-06-27T12:02:33.302076Z"
    }
   },
   "source": [
    "import numpy as np\n",
    "\n",
    "x = np.arange(9)\n",
    "print(x)"
   ],
   "outputs": [
    {
     "name": "stdout",
     "output_type": "stream",
     "text": [
      "[0 1 2 3 4 5 6 7 8]\n"
     ]
    }
   ],
   "execution_count": 1
  },
  {
   "metadata": {
    "ExecuteTime": {
     "end_time": "2025-06-27T12:02:33.676023Z",
     "start_time": "2025-06-27T12:02:33.669977Z"
    }
   },
   "cell_type": "code",
   "source": [
    "x = x.reshape(3, 3)\n",
    "print(x)"
   ],
   "id": "cbfa25d12121c3cc",
   "outputs": [
    {
     "name": "stdout",
     "output_type": "stream",
     "text": [
      "[[0 1 2]\n",
      " [3 4 5]\n",
      " [6 7 8]]\n"
     ]
    }
   ],
   "execution_count": 2
  },
  {
   "metadata": {
    "ExecuteTime": {
     "end_time": "2025-06-27T12:02:33.731724Z",
     "start_time": "2025-06-27T12:02:33.727705Z"
    }
   },
   "cell_type": "code",
   "source": [
    "y = np.arange(18).reshape(2, 3, 3)\n",
    "print(y)"
   ],
   "id": "ea7c46b0aaa8ed8",
   "outputs": [
    {
     "name": "stdout",
     "output_type": "stream",
     "text": [
      "[[[ 0  1  2]\n",
      "  [ 3  4  5]\n",
      "  [ 6  7  8]]\n",
      "\n",
      " [[ 9 10 11]\n",
      "  [12 13 14]\n",
      "  [15 16 17]]]\n"
     ]
    }
   ],
   "execution_count": 3
  },
  {
   "metadata": {
    "ExecuteTime": {
     "end_time": "2025-06-27T12:02:33.818837Z",
     "start_time": "2025-06-27T12:02:33.810507Z"
    }
   },
   "cell_type": "code",
   "source": [
    "y = np.arange(18).reshape(3, 3, 2)\n",
    "print(y)"
   ],
   "id": "b832968047018bd",
   "outputs": [
    {
     "name": "stdout",
     "output_type": "stream",
     "text": [
      "[[[ 0  1]\n",
      "  [ 2  3]\n",
      "  [ 4  5]]\n",
      "\n",
      " [[ 6  7]\n",
      "  [ 8  9]\n",
      "  [10 11]]\n",
      "\n",
      " [[12 13]\n",
      "  [14 15]\n",
      "  [16 17]]]\n"
     ]
    }
   ],
   "execution_count": 4
  }
 ],
 "metadata": {
  "kernelspec": {
   "display_name": "Python 3",
   "language": "python",
   "name": "python3"
  },
  "language_info": {
   "codemirror_mode": {
    "name": "ipython",
    "version": 2
   },
   "file_extension": ".py",
   "mimetype": "text/x-python",
   "name": "python",
   "nbconvert_exporter": "python",
   "pygments_lexer": "ipython2",
   "version": "2.7.6"
  }
 },
 "nbformat": 4,
 "nbformat_minor": 5
}
