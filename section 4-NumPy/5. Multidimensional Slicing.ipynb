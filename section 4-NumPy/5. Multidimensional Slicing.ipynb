{
 "cells": [
  {
   "metadata": {},
   "cell_type": "markdown",
   "source": "## Multidim Slicing",
   "id": "a6300f0d84bfd4c3"
  },
  {
   "metadata": {
    "ExecuteTime": {
     "end_time": "2025-06-27T12:05:23.038549Z",
     "start_time": "2025-06-27T12:05:22.926260Z"
    }
   },
   "cell_type": "code",
   "source": [
    "import numpy as np\n",
    "\n",
    "x = np.arange(18).reshape(3, 2, 3)\n",
    "print(x)\n",
    "print(x[2, 1])"
   ],
   "id": "2c4099889df28f37",
   "outputs": [
    {
     "name": "stdout",
     "output_type": "stream",
     "text": [
      "[[[ 0  1  2]\n",
      "  [ 3  4  5]]\n",
      "\n",
      " [[ 6  7  8]\n",
      "  [ 9 10 11]]\n",
      "\n",
      " [[12 13 14]\n",
      "  [15 16 17]]]\n",
      "[15 16 17]\n"
     ]
    }
   ],
   "execution_count": 1
  },
  {
   "metadata": {
    "ExecuteTime": {
     "end_time": "2025-06-27T12:05:23.258798Z",
     "start_time": "2025-06-27T12:05:23.254597Z"
    }
   },
   "cell_type": "code",
   "source": [
    "x = np.arange(18).reshape(3, 2, 3)\n",
    "\n",
    "print(x)"
   ],
   "id": "3442cd5429d55c9d",
   "outputs": [
    {
     "name": "stdout",
     "output_type": "stream",
     "text": [
      "[[[ 0  1  2]\n",
      "  [ 3  4  5]]\n",
      "\n",
      " [[ 6  7  8]\n",
      "  [ 9 10 11]]\n",
      "\n",
      " [[12 13 14]\n",
      "  [15 16 17]]]\n"
     ]
    }
   ],
   "execution_count": 2
  },
  {
   "metadata": {
    "ExecuteTime": {
     "end_time": "2025-06-27T12:05:23.330245Z",
     "start_time": "2025-06-27T12:05:23.323549Z"
    }
   },
   "cell_type": "code",
   "source": [
    "# / indexing\n",
    "print(x[1, 1, 1])"
   ],
   "id": "794efeb46e8d0993",
   "outputs": [
    {
     "name": "stdout",
     "output_type": "stream",
     "text": [
      "10\n"
     ]
    }
   ],
   "execution_count": 3
  },
  {
   "metadata": {
    "ExecuteTime": {
     "end_time": "2025-06-27T12:05:23.363399Z",
     "start_time": "2025-06-27T12:05:23.356605Z"
    }
   },
   "cell_type": "code",
   "source": [
    "# / slicing\n",
    "print(x[1, 0:2, 0:3])\n",
    "\n",
    "print(x[1, 0:, 0:])\n",
    "\n",
    "print(x[1, :, :])\n",
    "\n",
    "print(x[ : , 0, 0] )\n",
    "\n",
    "print(x[ : , : , :  :2])"
   ],
   "id": "3a0de367ef08d38b",
   "outputs": [
    {
     "name": "stdout",
     "output_type": "stream",
     "text": [
      "[[ 6  7  8]\n",
      " [ 9 10 11]]\n",
      "[[ 6  7  8]\n",
      " [ 9 10 11]]\n",
      "[[ 6  7  8]\n",
      " [ 9 10 11]]\n",
      "[ 0  6 12]\n",
      "[[[ 0  2]\n",
      "  [ 3  5]]\n",
      "\n",
      " [[ 6  8]\n",
      "  [ 9 11]]\n",
      "\n",
      " [[12 14]\n",
      "  [15 17]]]\n"
     ]
    }
   ],
   "execution_count": 4
  },
  {
   "metadata": {},
   "cell_type": "markdown",
   "source": "### Conditional Selection",
   "id": "58a68e8f8e968a99"
  },
  {
   "cell_type": "code",
   "id": "initial_id",
   "metadata": {
    "collapsed": true,
    "ExecuteTime": {
     "end_time": "2025-06-27T12:05:23.396812Z",
     "start_time": "2025-06-27T12:05:23.389493Z"
    }
   },
   "source": [
    "import numpy as np\n",
    "\n",
    "x = np.arange(18).reshape(3, 2, 3)\n",
    "\n",
    "comparison_operation = x > 5\n",
    "\n",
    "print(comparison_operation)\n",
    "\n",
    "print(x[comparison_operation])\n",
    "\n",
    "print(x[x > 5])"
   ],
   "outputs": [
    {
     "name": "stdout",
     "output_type": "stream",
     "text": [
      "[[[False False False]\n",
      "  [False False False]]\n",
      "\n",
      " [[ True  True  True]\n",
      "  [ True  True  True]]\n",
      "\n",
      " [[ True  True  True]\n",
      "  [ True  True  True]]]\n",
      "[ 6  7  8  9 10 11 12 13 14 15 16 17]\n",
      "[ 6  7  8  9 10 11 12 13 14 15 16 17]\n"
     ]
    }
   ],
   "execution_count": 5
  }
 ],
 "metadata": {
  "kernelspec": {
   "display_name": "Python 3",
   "language": "python",
   "name": "python3"
  },
  "language_info": {
   "codemirror_mode": {
    "name": "ipython",
    "version": 2
   },
   "file_extension": ".py",
   "mimetype": "text/x-python",
   "name": "python",
   "nbconvert_exporter": "python",
   "pygments_lexer": "ipython2",
   "version": "2.7.6"
  }
 },
 "nbformat": 4,
 "nbformat_minor": 5
}
