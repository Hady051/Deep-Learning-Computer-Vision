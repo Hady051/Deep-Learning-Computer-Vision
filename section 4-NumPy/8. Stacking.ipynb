{
 "cells": [
  {
   "metadata": {},
   "cell_type": "markdown",
   "source": "# Stacking",
   "id": "4b25b486bc9a2ded"
  },
  {
   "metadata": {
    "ExecuteTime": {
     "end_time": "2025-06-27T12:19:23.089356Z",
     "start_time": "2025-06-27T12:19:22.978950Z"
    }
   },
   "cell_type": "code",
   "source": "import numpy as np",
   "id": "5e28a1cfd10595d1",
   "outputs": [],
   "execution_count": 1
  },
  {
   "metadata": {},
   "cell_type": "markdown",
   "source": "### H-Stack",
   "id": "731b13f4d910b7fb"
  },
  {
   "metadata": {
    "ExecuteTime": {
     "end_time": "2025-06-27T12:19:23.305468Z",
     "start_time": "2025-06-27T12:19:23.299344Z"
    }
   },
   "cell_type": "code",
   "source": [
    "x = np.arange(4).reshape(2,2)\n",
    "print('x = \\n', x)\n",
    "\n",
    "y = np.arange(4, 8).reshape(2,2)\n",
    "print('y = \\n', y)"
   ],
   "id": "1eee125115d7f30c",
   "outputs": [
    {
     "name": "stdout",
     "output_type": "stream",
     "text": [
      "x = \n",
      " [[0 1]\n",
      " [2 3]]\n",
      "y = \n",
      " [[4 5]\n",
      " [6 7]]\n"
     ]
    }
   ],
   "execution_count": 2
  },
  {
   "metadata": {
    "ExecuteTime": {
     "end_time": "2025-06-27T12:19:23.336754Z",
     "start_time": "2025-06-27T12:19:23.330647Z"
    }
   },
   "cell_type": "code",
   "source": [
    "z = np.hstack( (x,y) )\n",
    "print('z = \\n', z)"
   ],
   "id": "918a7cc6818d1172",
   "outputs": [
    {
     "name": "stdout",
     "output_type": "stream",
     "text": [
      "z = \n",
      " [[0 1 4 5]\n",
      " [2 3 6 7]]\n"
     ]
    }
   ],
   "execution_count": 3
  },
  {
   "metadata": {},
   "cell_type": "markdown",
   "source": "### V-Stack",
   "id": "f69ac3671e42f6dd"
  },
  {
   "metadata": {
    "ExecuteTime": {
     "end_time": "2025-06-27T12:19:23.361853Z",
     "start_time": "2025-06-27T12:19:23.355926Z"
    }
   },
   "cell_type": "code",
   "source": [
    "x = np.arange(4).reshape(2,2)\n",
    "print('x = \\n', x)\n",
    "\n",
    "y = np.arange(4, 8).reshape(2,2)\n",
    "print('y = \\n', y)"
   ],
   "id": "af99b6168e9e963f",
   "outputs": [
    {
     "name": "stdout",
     "output_type": "stream",
     "text": [
      "x = \n",
      " [[0 1]\n",
      " [2 3]]\n",
      "y = \n",
      " [[4 5]\n",
      " [6 7]]\n"
     ]
    }
   ],
   "execution_count": 4
  },
  {
   "metadata": {
    "ExecuteTime": {
     "end_time": "2025-06-27T12:19:23.388842Z",
     "start_time": "2025-06-27T12:19:23.383572Z"
    }
   },
   "cell_type": "code",
   "source": [
    "z = np.vstack( (x,y) )\n",
    "print('z = \\n', z)"
   ],
   "id": "71dcefed5431c919",
   "outputs": [
    {
     "name": "stdout",
     "output_type": "stream",
     "text": [
      "z = \n",
      " [[0 1]\n",
      " [2 3]\n",
      " [4 5]\n",
      " [6 7]]\n"
     ]
    }
   ],
   "execution_count": 5
  },
  {
   "metadata": {},
   "cell_type": "markdown",
   "source": "### Concatenate",
   "id": "28e5729f1911587"
  },
  {
   "metadata": {
    "ExecuteTime": {
     "end_time": "2025-06-27T12:19:23.421437Z",
     "start_time": "2025-06-27T12:19:23.413759Z"
    }
   },
   "cell_type": "code",
   "source": [
    "x = np.arange(4).reshape(2,2)\n",
    "print('x = \\n', x)\n",
    "\n",
    "y = np.arange(4,8).reshape(2,2)\n",
    "print('y = \\n', y)"
   ],
   "id": "c9019897f729b142",
   "outputs": [
    {
     "name": "stdout",
     "output_type": "stream",
     "text": [
      "x = \n",
      " [[0 1]\n",
      " [2 3]]\n",
      "y = \n",
      " [[4 5]\n",
      " [6 7]]\n"
     ]
    }
   ],
   "execution_count": 6
  },
  {
   "metadata": {
    "ExecuteTime": {
     "end_time": "2025-06-27T12:19:23.455536Z",
     "start_time": "2025-06-27T12:19:23.449424Z"
    }
   },
   "cell_type": "code",
   "source": [
    "z = np.concatenate( (x,y), axis=1)  # horizontal stacking\n",
    "print('z = \\n', z)\n",
    "\n",
    "w = np.hstack( (x,y) )\n",
    "print('w = \\n', w)\n",
    "\n",
    "print(z == w)"
   ],
   "id": "64c8e03b9493358e",
   "outputs": [
    {
     "name": "stdout",
     "output_type": "stream",
     "text": [
      "z = \n",
      " [[0 1 4 5]\n",
      " [2 3 6 7]]\n",
      "w = \n",
      " [[0 1 4 5]\n",
      " [2 3 6 7]]\n",
      "[[ True  True  True  True]\n",
      " [ True  True  True  True]]\n"
     ]
    }
   ],
   "execution_count": 7
  },
  {
   "metadata": {
    "ExecuteTime": {
     "end_time": "2025-06-27T12:19:23.487216Z",
     "start_time": "2025-06-27T12:19:23.481841Z"
    }
   },
   "cell_type": "code",
   "source": [
    "z = np.concatenate( (x,y), axis=0) # vertical stacking\n",
    "print('z = \\n', z)"
   ],
   "id": "8129feb3885f4681",
   "outputs": [
    {
     "name": "stdout",
     "output_type": "stream",
     "text": [
      "z = \n",
      " [[0 1]\n",
      " [2 3]\n",
      " [4 5]\n",
      " [6 7]]\n"
     ]
    }
   ],
   "execution_count": 8
  },
  {
   "metadata": {},
   "cell_type": "markdown",
   "source": "### Depth Stacking",
   "id": "e008451a618592d2"
  },
  {
   "cell_type": "code",
   "id": "initial_id",
   "metadata": {
    "collapsed": true,
    "ExecuteTime": {
     "end_time": "2025-06-27T12:19:23.532623Z",
     "start_time": "2025-06-27T12:19:23.524988Z"
    }
   },
   "source": [
    "x = np.arange(4).reshape(2,2)\n",
    "print('x = \\n', x)\n",
    "print(x.shape)\n",
    "\n",
    "y = np.arange(4,8).reshape(2,2)\n",
    "print('y = \\n', y)\n",
    "print(y.shape)"
   ],
   "outputs": [
    {
     "name": "stdout",
     "output_type": "stream",
     "text": [
      "x = \n",
      " [[0 1]\n",
      " [2 3]]\n",
      "(2, 2)\n",
      "y = \n",
      " [[4 5]\n",
      " [6 7]]\n",
      "(2, 2)\n"
     ]
    }
   ],
   "execution_count": 9
  },
  {
   "metadata": {
    "ExecuteTime": {
     "end_time": "2025-06-27T12:19:23.559368Z",
     "start_time": "2025-06-27T12:19:23.552016Z"
    }
   },
   "cell_type": "code",
   "source": [
    "depth_stack = np.dstack( (x, y) )\n",
    "print('depth stack = \\n', depth_stack)\n",
    "\n",
    "print(depth_stack.shape)"
   ],
   "id": "7a3fcde5bdbd2a65",
   "outputs": [
    {
     "name": "stdout",
     "output_type": "stream",
     "text": [
      "depth stack = \n",
      " [[[0 4]\n",
      "  [1 5]]\n",
      "\n",
      " [[2 6]\n",
      "  [3 7]]]\n",
      "(2, 2, 2)\n"
     ]
    }
   ],
   "execution_count": 10
  },
  {
   "metadata": {},
   "cell_type": "markdown",
   "source": "### Col-Stack",
   "id": "3e94860c79428c44"
  },
  {
   "metadata": {
    "ExecuteTime": {
     "end_time": "2025-06-27T12:19:23.592709Z",
     "start_time": "2025-06-27T12:19:23.587342Z"
    }
   },
   "cell_type": "code",
   "source": [
    "x = np.arange(4).reshape(2,2)\n",
    "print('x = \\n', x)\n",
    "print(x.shape)\n",
    "\n",
    "y = np.arange(4,8).reshape(2,2)\n",
    "print('y = \\n', y)\n",
    "print(y.shape)"
   ],
   "id": "ae4e1cd07fd42c6",
   "outputs": [
    {
     "name": "stdout",
     "output_type": "stream",
     "text": [
      "x = \n",
      " [[0 1]\n",
      " [2 3]]\n",
      "(2, 2)\n",
      "y = \n",
      " [[4 5]\n",
      " [6 7]]\n",
      "(2, 2)\n"
     ]
    }
   ],
   "execution_count": 11
  },
  {
   "metadata": {
    "ExecuteTime": {
     "end_time": "2025-06-27T12:19:23.623477Z",
     "start_time": "2025-06-27T12:19:23.617871Z"
    }
   },
   "cell_type": "code",
   "source": [
    "col_stack = np.column_stack( (x, y) )\n",
    "print('col stack = \\n', col_stack)\n",
    "print(col_stack.shape)"
   ],
   "id": "623831a2acf22583",
   "outputs": [
    {
     "name": "stdout",
     "output_type": "stream",
     "text": [
      "col stack = \n",
      " [[0 1 4 5]\n",
      " [2 3 6 7]]\n",
      "(2, 4)\n"
     ]
    }
   ],
   "execution_count": 12
  },
  {
   "metadata": {
    "ExecuteTime": {
     "end_time": "2025-06-27T12:19:23.646369Z",
     "start_time": "2025-06-27T12:19:23.640146Z"
    }
   },
   "cell_type": "code",
   "source": [
    "h_stack = np.hstack( (x,y) )\n",
    "print(h_stack)"
   ],
   "id": "e4817f9fbf68f6ba",
   "outputs": [
    {
     "name": "stdout",
     "output_type": "stream",
     "text": [
      "[[0 1 4 5]\n",
      " [2 3 6 7]]\n"
     ]
    }
   ],
   "execution_count": 13
  },
  {
   "metadata": {},
   "cell_type": "markdown",
   "source": "### Row_Stack",
   "id": "d5394ae15622b66"
  },
  {
   "metadata": {
    "ExecuteTime": {
     "end_time": "2025-06-27T12:19:23.668691Z",
     "start_time": "2025-06-27T12:19:23.663141Z"
    }
   },
   "cell_type": "code",
   "source": [
    "x = np.arange(4).reshape(2,2)\n",
    "print('x = \\n', x)\n",
    "print(x.shape)\n",
    "\n",
    "y = np.arange(4,8).reshape(2,2)\n",
    "print('y = \\n', y)\n",
    "print(y.shape)"
   ],
   "id": "e03b1762691ee331",
   "outputs": [
    {
     "name": "stdout",
     "output_type": "stream",
     "text": [
      "x = \n",
      " [[0 1]\n",
      " [2 3]]\n",
      "(2, 2)\n",
      "y = \n",
      " [[4 5]\n",
      " [6 7]]\n",
      "(2, 2)\n"
     ]
    }
   ],
   "execution_count": 14
  },
  {
   "metadata": {
    "ExecuteTime": {
     "end_time": "2025-06-27T12:19:23.716221Z",
     "start_time": "2025-06-27T12:19:23.710696Z"
    }
   },
   "cell_type": "code",
   "source": [
    "row_stack = np.row_stack( (x,y) )   ## depricated (not used anymore)\n",
    "print('row stack = \\n', row_stack)\n",
    "print(row_stack.shape)"
   ],
   "id": "781c39b6cca7e330",
   "outputs": [
    {
     "name": "stdout",
     "output_type": "stream",
     "text": [
      "row stack = \n",
      " [[0 1]\n",
      " [2 3]\n",
      " [4 5]\n",
      " [6 7]]\n",
      "(4, 2)\n"
     ]
    }
   ],
   "execution_count": 15
  },
  {
   "metadata": {
    "ExecuteTime": {
     "end_time": "2025-06-27T12:19:23.826316Z",
     "start_time": "2025-06-27T12:19:23.816919Z"
    }
   },
   "cell_type": "code",
   "source": [
    "v_stack = np.vstack( (x,y) )\n",
    "print(v_stack)"
   ],
   "id": "d5791a9c03004a51",
   "outputs": [
    {
     "name": "stdout",
     "output_type": "stream",
     "text": [
      "[[0 1]\n",
      " [2 3]\n",
      " [4 5]\n",
      " [6 7]]\n"
     ]
    }
   ],
   "execution_count": 16
  },
  {
   "metadata": {},
   "cell_type": "markdown",
   "source": "",
   "id": "f39d3644001fcf4"
  }
 ],
 "metadata": {
  "kernelspec": {
   "display_name": "Python 3",
   "language": "python",
   "name": "python3"
  },
  "language_info": {
   "codemirror_mode": {
    "name": "ipython",
    "version": 2
   },
   "file_extension": ".py",
   "mimetype": "text/x-python",
   "name": "python",
   "nbconvert_exporter": "python",
   "pygments_lexer": "ipython2",
   "version": "2.7.6"
  }
 },
 "nbformat": 4,
 "nbformat_minor": 5
}
