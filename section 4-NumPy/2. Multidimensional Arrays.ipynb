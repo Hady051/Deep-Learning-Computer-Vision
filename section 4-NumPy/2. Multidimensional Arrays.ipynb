{
 "cells": [
  {
   "metadata": {},
   "cell_type": "markdown",
   "source": "# Multi-array",
   "id": "ad689a2c2eb620b7"
  },
  {
   "cell_type": "code",
   "id": "initial_id",
   "metadata": {
    "collapsed": true,
    "ExecuteTime": {
     "end_time": "2025-06-27T11:59:24.784970Z",
     "start_time": "2025-06-27T11:59:24.668671Z"
    }
   },
   "source": [
    "import numpy as np\n",
    "\n",
    "\n",
    "x = np.arange(3)  # / n = 3\n",
    "y = np.arange(3)\n",
    "z = np.arange(3)\n",
    "\n",
    "multi_array = np.array([x, y, z])\n",
    "\n",
    "print(multi_array)\n",
    "print(multi_array.shape)         # (3,3)"
   ],
   "outputs": [
    {
     "name": "stdout",
     "output_type": "stream",
     "text": [
      "[[0 1 2]\n",
      " [0 1 2]\n",
      " [0 1 2]]\n",
      "(3, 3)\n"
     ]
    }
   ],
   "execution_count": 1
  },
  {
   "metadata": {},
   "cell_type": "markdown",
   "source": "### np.linspace",
   "id": "5126b7be86fa149a"
  },
  {
   "metadata": {
    "ExecuteTime": {
     "end_time": "2025-06-27T11:59:24.807236Z",
     "start_time": "2025-06-27T11:59:24.800893Z"
    }
   },
   "cell_type": "code",
   "source": [
    "import numpy as np\n",
    "\n",
    "#w = np.linspace(2, 10, 8)\n",
    "#print('w = ', w)\n",
    "\n",
    "b = np.arange(1, 30, 3)\n",
    "print('b = ', b)\n",
    "\n",
    "c = np.linspace(1, 30, 3)\n",
    "print('c = ', c)\n",
    "\n",
    "d = np.linspace(1, 30, 3, False)\n",
    "print('d = ', d)"
   ],
   "id": "7ffa78aef16a2fc5",
   "outputs": [
    {
     "name": "stdout",
     "output_type": "stream",
     "text": [
      "b =  [ 1  4  7 10 13 16 19 22 25 28]\n",
      "c =  [ 1.  15.5 30. ]\n",
      "d =  [ 1.         10.66666667 20.33333333]\n"
     ]
    }
   ],
   "execution_count": 2
  },
  {
   "metadata": {},
   "cell_type": "markdown",
   "source": "### multi-array indexing",
   "id": "649461e070207b72"
  },
  {
   "metadata": {
    "ExecuteTime": {
     "end_time": "2025-06-27T11:59:25.053524Z",
     "start_time": "2025-06-27T11:59:25.046142Z"
    }
   },
   "cell_type": "code",
   "source": [
    "import numpy as np\n",
    "\n",
    "x = np.arange(1, 4)  # / n = 3\n",
    "y = np.arange(4, 7)\n",
    "z = np.arange(7, 10)\n",
    "\n",
    "multi_array = np.array([x, y, z])\n",
    "\n",
    "print(multi_array)\n",
    "print(multi_array.shape)\n",
    "\n",
    "print(multi_array[0, 2])  # row 0 and col 2\n",
    "print(multi_array[1, 1])\n",
    "\n",
    "print(multi_array.dtype)  # int 64\n",
    "\n",
    "multi_array = np.array([x, y, z], dtype = np.int32)\n",
    "print(multi_array.dtype)  # int 32"
   ],
   "id": "15ef9e1e58fffd6b",
   "outputs": [
    {
     "name": "stdout",
     "output_type": "stream",
     "text": [
      "[[1 2 3]\n",
      " [4 5 6]\n",
      " [7 8 9]]\n",
      "(3, 3)\n",
      "3\n",
      "5\n",
      "int32\n",
      "int32\n"
     ]
    }
   ],
   "execution_count": 3
  },
  {
   "metadata": {},
   "cell_type": "markdown",
   "source": "___",
   "id": "ec85225ec4894add"
  }
 ],
 "metadata": {
  "kernelspec": {
   "display_name": "Python 3",
   "language": "python",
   "name": "python3"
  },
  "language_info": {
   "codemirror_mode": {
    "name": "ipython",
    "version": 2
   },
   "file_extension": ".py",
   "mimetype": "text/x-python",
   "name": "python",
   "nbconvert_exporter": "python",
   "pygments_lexer": "ipython2",
   "version": "2.7.6"
  }
 },
 "nbformat": 4,
 "nbformat_minor": 5
}
