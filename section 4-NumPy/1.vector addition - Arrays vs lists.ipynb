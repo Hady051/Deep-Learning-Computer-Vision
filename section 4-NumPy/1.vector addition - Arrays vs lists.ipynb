{
 "cells": [
  {
   "metadata": {},
   "cell_type": "markdown",
   "source": "# Lists",
   "id": "e3142e04fdf98a3e"
  },
  {
   "metadata": {
    "ExecuteTime": {
     "end_time": "2025-06-27T11:55:38.726419Z",
     "start_time": "2025-06-27T11:55:38.404903Z"
    }
   },
   "cell_type": "code",
   "source": [
    "list_two = list(range(1, 4) ) ** 2\n",
    "\n",
    "list_three = list(range(1, 4) )\n",
    "\n",
    "list_sum = []\n",
    "\n",
    "for index in range(3):   # 0, 1, 2\n",
    "    list_two[index] = list_two[index] ** 2\n",
    "    list_three[index] = list_three[index] ** 3\n",
    "    list_sum.append(list_two[index] + list_three[index] )\n",
    "\n",
    "print(list_sum)"
   ],
   "id": "da5a76e8b9d88324",
   "outputs": [
    {
     "ename": "TypeError",
     "evalue": "unsupported operand type(s) for ** or pow(): 'list' and 'int'",
     "output_type": "error",
     "traceback": [
      "\u001B[1;31m---------------------------------------------------------------------------\u001B[0m",
      "\u001B[1;31mTypeError\u001B[0m                                 Traceback (most recent call last)",
      "Cell \u001B[1;32mIn[1], line 1\u001B[0m\n\u001B[1;32m----> 1\u001B[0m list_two \u001B[38;5;241m=\u001B[39m \u001B[38;5;28;43mlist\u001B[39;49m\u001B[43m(\u001B[49m\u001B[38;5;28;43mrange\u001B[39;49m\u001B[43m(\u001B[49m\u001B[38;5;241;43m1\u001B[39;49m\u001B[43m,\u001B[49m\u001B[43m \u001B[49m\u001B[38;5;241;43m4\u001B[39;49m\u001B[43m)\u001B[49m\u001B[43m \u001B[49m\u001B[43m)\u001B[49m\u001B[43m \u001B[49m\u001B[38;5;241;43m*\u001B[39;49m\u001B[38;5;241;43m*\u001B[39;49m\u001B[43m \u001B[49m\u001B[38;5;241;43m2\u001B[39;49m\n\u001B[0;32m      3\u001B[0m list_three \u001B[38;5;241m=\u001B[39m \u001B[38;5;28mlist\u001B[39m(\u001B[38;5;28mrange\u001B[39m(\u001B[38;5;241m1\u001B[39m, \u001B[38;5;241m4\u001B[39m) )\n\u001B[0;32m      5\u001B[0m list_sum \u001B[38;5;241m=\u001B[39m []\n",
      "\u001B[1;31mTypeError\u001B[0m: unsupported operand type(s) for ** or pow(): 'list' and 'int'"
     ]
    }
   ],
   "execution_count": 1
  },
  {
   "metadata": {},
   "cell_type": "markdown",
   "source": "### numpy arrays",
   "id": "ca27042818f79235"
  },
  {
   "metadata": {
    "ExecuteTime": {
     "end_time": "2025-06-27T11:56:09.948686Z",
     "start_time": "2025-06-27T11:56:09.811471Z"
    }
   },
   "cell_type": "code",
   "source": [
    "import numpy as np\n",
    "\n",
    "array_two = np.arange(1, 4) ** 2\n",
    "print(array_two)\n",
    "\n",
    "array_three = np.arange(1, 4) ** 3\n",
    "print(array_three)\n",
    "\n",
    "print('The sum of the 2 arrays: ', array_two + array_three)"
   ],
   "id": "1e13fcdd90af7803",
   "outputs": [
    {
     "name": "stdout",
     "output_type": "stream",
     "text": [
      "[1 4 9]\n",
      "[ 1  8 27]\n",
      "The sum of the 2 arrays:  [ 2 12 36]\n"
     ]
    }
   ],
   "execution_count": 2
  },
  {
   "metadata": {},
   "cell_type": "markdown",
   "source": "### numpy math functions",
   "id": "f89129fd3bf91ffa"
  },
  {
   "metadata": {
    "ExecuteTime": {
     "end_time": "2025-06-27T11:56:28.861713Z",
     "start_time": "2025-06-27T11:56:28.848343Z"
    }
   },
   "cell_type": "code",
   "source": [
    "import numpy as np\n",
    "\n",
    "\n",
    "pow_array = np.power(np.array([1, 2, 3]), 4 )\n",
    "print(pow_array)\n",
    "\n",
    "neg_array = np.negative(np.array([2, 4, 6, -5]) )\n",
    "print(neg_array)\n",
    "\n",
    "sample_array = np.array([2, 4, 6])\n",
    "\n",
    "exp_array = np.exp(sample_array)\n",
    "print(exp_array)\n",
    "\n",
    "log_array = np.log(sample_array)\n",
    "print(log_array)\n",
    "\n",
    "sin_array = np.sin(sample_array)\n",
    "print(sin_array)"
   ],
   "id": "9f4ac63582b1e4a5",
   "outputs": [
    {
     "name": "stdout",
     "output_type": "stream",
     "text": [
      "[ 1 16 81]\n",
      "[-2 -4 -6  5]\n",
      "[  7.3890561   54.59815003 403.42879349]\n",
      "[0.69314718 1.38629436 1.79175947]\n",
      "[ 0.90929743 -0.7568025  -0.2794155 ]\n"
     ]
    }
   ],
   "execution_count": 4
  }
 ],
 "metadata": {
  "kernelspec": {
   "display_name": "Python 3",
   "language": "python",
   "name": "python3"
  },
  "language_info": {
   "codemirror_mode": {
    "name": "ipython",
    "version": 2
   },
   "file_extension": ".py",
   "mimetype": "text/x-python",
   "name": "python",
   "nbconvert_exporter": "python",
   "pygments_lexer": "ipython2",
   "version": "2.7.6"
  }
 },
 "nbformat": 4,
 "nbformat_minor": 5
}
