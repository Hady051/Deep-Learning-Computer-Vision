{
 "cells": [
  {
   "metadata": {},
   "cell_type": "markdown",
   "source": "## Matrix Multiplication",
   "id": "9298c2552bedc43"
  },
  {
   "metadata": {
    "ExecuteTime": {
     "end_time": "2025-06-27T12:12:20.564999Z",
     "start_time": "2025-06-27T12:12:20.292662Z"
    }
   },
   "cell_type": "code",
   "source": "import numpy as np",
   "id": "39980a1ed6beec12",
   "outputs": [],
   "execution_count": 1
  },
  {
   "cell_type": "code",
   "id": "initial_id",
   "metadata": {
    "collapsed": true,
    "ExecuteTime": {
     "end_time": "2025-06-27T12:12:20.767267Z",
     "start_time": "2025-06-27T12:12:20.762241Z"
    }
   },
   "source": [
    "mat_a = np.matrix([0, 3, 5, 5, 5, 2]).reshape(2,3)\n",
    "print('mat A = \\n', mat_a)\n",
    "mat_b = np.matrix([3, 4, 3, -2, 4, -2]).reshape(3, 2)\n",
    "print('mat B = \\n', mat_b)"
   ],
   "outputs": [
    {
     "name": "stdout",
     "output_type": "stream",
     "text": [
      "mat A = \n",
      " [[0 3 5]\n",
      " [5 5 2]]\n",
      "mat B = \n",
      " [[ 3  4]\n",
      " [ 3 -2]\n",
      " [ 4 -2]]\n"
     ]
    }
   ],
   "execution_count": 2
  },
  {
   "metadata": {
    "ExecuteTime": {
     "end_time": "2025-06-27T12:12:20.813094Z",
     "start_time": "2025-06-27T12:12:20.807519Z"
    }
   },
   "cell_type": "code",
   "source": [
    "mat_ab = mat_a * mat_b\n",
    "print('mat AB = \\n', mat_ab)"
   ],
   "id": "576647305a90cb1d",
   "outputs": [
    {
     "name": "stdout",
     "output_type": "stream",
     "text": [
      "mat AB = \n",
      " [[ 29 -16]\n",
      " [ 38   6]]\n"
     ]
    }
   ],
   "execution_count": 3
  },
  {
   "metadata": {
    "ExecuteTime": {
     "end_time": "2025-06-27T12:12:20.967915Z",
     "start_time": "2025-06-27T12:12:20.854466Z"
    }
   },
   "cell_type": "code",
   "source": [
    "mat_AB = np.matmul(mat_a, mat_b)\n",
    "print('mat_AB = \\n', mat_AB)"
   ],
   "id": "fcf68416fdd64e89",
   "outputs": [
    {
     "name": "stdout",
     "output_type": "stream",
     "text": [
      "mat_AB = \n",
      " [[ 29 -16]\n",
      " [ 38   6]]\n"
     ]
    }
   ],
   "execution_count": 4
  },
  {
   "metadata": {
    "ExecuteTime": {
     "end_time": "2025-06-27T12:12:20.988041Z",
     "start_time": "2025-06-27T12:12:20.982730Z"
    }
   },
   "cell_type": "code",
   "source": "print(mat_a @ mat_b)",
   "id": "ae9f99d5a8d4ad68",
   "outputs": [
    {
     "name": "stdout",
     "output_type": "stream",
     "text": [
      "[[ 29 -16]\n",
      " [ 38   6]]\n"
     ]
    }
   ],
   "execution_count": 5
  }
 ],
 "metadata": {
  "kernelspec": {
   "display_name": "Python 3",
   "language": "python",
   "name": "python3"
  },
  "language_info": {
   "codemirror_mode": {
    "name": "ipython",
    "version": 2
   },
   "file_extension": ".py",
   "mimetype": "text/x-python",
   "name": "python",
   "nbconvert_exporter": "python",
   "pygments_lexer": "ipython2",
   "version": "2.7.6"
  }
 },
 "nbformat": 4,
 "nbformat_minor": 5
}
