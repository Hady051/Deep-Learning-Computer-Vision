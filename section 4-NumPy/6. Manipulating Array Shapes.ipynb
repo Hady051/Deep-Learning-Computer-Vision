{
 "cells": [
  {
   "metadata": {},
   "cell_type": "markdown",
   "source": "# Manipulating Array Shapes",
   "id": "53e4afa65c0c1679"
  },
  {
   "metadata": {
    "ExecuteTime": {
     "end_time": "2025-06-27T12:09:55.982242Z",
     "start_time": "2025-06-27T12:09:55.831068Z"
    }
   },
   "cell_type": "code",
   "source": "import numpy as np",
   "id": "f3247bdf487881c5",
   "outputs": [],
   "execution_count": 2
  },
  {
   "metadata": {},
   "cell_type": "markdown",
   "source": "### ravel() and flatten()",
   "id": "de34fa0bce92199"
  },
  {
   "metadata": {
    "ExecuteTime": {
     "end_time": "2025-06-27T12:09:55.994436Z",
     "start_time": "2025-06-27T12:09:55.987857Z"
    }
   },
   "cell_type": "code",
   "source": [
    "import numpy as np\n",
    "\n",
    "x = np.arange(9).reshape(3, 3)\n",
    "print(x)\n",
    "\n",
    "raveled_array = x.ravel()\n",
    "print(raveled_array)\n",
    "\n",
    "flattened_array = x.flatten()\n",
    "print(flattened_array)\n",
    "\n",
    "raveled_array[2] = 547841\n",
    "print('raveled_array = ', raveled_array)\n",
    "print('x = ', x)"
   ],
   "id": "b0586225baa533dc",
   "outputs": [
    {
     "name": "stdout",
     "output_type": "stream",
     "text": [
      "[[0 1 2]\n",
      " [3 4 5]\n",
      " [6 7 8]]\n",
      "[0 1 2 3 4 5 6 7 8]\n",
      "[0 1 2 3 4 5 6 7 8]\n",
      "raveled_array =  [     0      1 547841      3      4      5      6      7      8]\n",
      "x =  [[     0      1 547841]\n",
      " [     3      4      5]\n",
      " [     6      7      8]]\n"
     ]
    }
   ],
   "execution_count": 3
  },
  {
   "metadata": {},
   "cell_type": "markdown",
   "source": "### Shape and Transpose",
   "id": "645772097d7cb3f8"
  },
  {
   "metadata": {
    "ExecuteTime": {
     "end_time": "2025-06-27T12:09:56.061953Z",
     "start_time": "2025-06-27T12:09:56.056046Z"
    }
   },
   "cell_type": "code",
   "source": [
    "y = np.arange(9)\n",
    "y.shape = (3, 3)\n",
    "print(y)\n",
    "\n",
    "print(y.transpose())"
   ],
   "id": "c2b60e3497bbc344",
   "outputs": [
    {
     "name": "stdout",
     "output_type": "stream",
     "text": [
      "[[0 1 2]\n",
      " [3 4 5]\n",
      " [6 7 8]]\n",
      "[[0 3 6]\n",
      " [1 4 7]\n",
      " [2 5 8]]\n"
     ]
    }
   ],
   "execution_count": 4
  },
  {
   "metadata": {},
   "cell_type": "markdown",
   "source": "### Resizing",
   "id": "d044dabb837846a5"
  },
  {
   "metadata": {
    "ExecuteTime": {
     "end_time": "2025-06-27T12:09:56.086964Z",
     "start_time": "2025-06-27T12:09:56.079982Z"
    }
   },
   "cell_type": "code",
   "source": [
    "y = np.arange(9)\n",
    "y.shape = (3, 3)\n",
    "print('y = ', y)\n",
    "\n",
    "y = np.resize(y, (6, 6) )\n",
    "\n",
    "print('new y = ', y)"
   ],
   "id": "9dbe1940d69a4c76",
   "outputs": [
    {
     "name": "stdout",
     "output_type": "stream",
     "text": [
      "y =  [[0 1 2]\n",
      " [3 4 5]\n",
      " [6 7 8]]\n",
      "new y =  [[0 1 2 3 4 5]\n",
      " [6 7 8 0 1 2]\n",
      " [3 4 5 6 7 8]\n",
      " [0 1 2 3 4 5]\n",
      " [6 7 8 0 1 2]\n",
      " [3 4 5 6 7 8]]\n"
     ]
    }
   ],
   "execution_count": 5
  },
  {
   "metadata": {},
   "cell_type": "markdown",
   "source": "### Zeros, Ones and Eye",
   "id": "cda6bdaeacbcbdb2"
  },
  {
   "metadata": {
    "ExecuteTime": {
     "end_time": "2025-06-27T12:09:56.134546Z",
     "start_time": "2025-06-27T12:09:56.125645Z"
    }
   },
   "cell_type": "code",
   "source": [
    "print(np.zeros(6, dtype=int))\n",
    "\n",
    "print(np.zeros((2, 3), dtype=int))\n",
    "\n",
    "print(np.eye(3) )"
   ],
   "id": "1e525de9335cfeb4",
   "outputs": [
    {
     "name": "stdout",
     "output_type": "stream",
     "text": [
      "[0 0 0 0 0 0]\n",
      "[[0 0 0]\n",
      " [0 0 0]]\n",
      "[[1. 0. 0.]\n",
      " [0. 1. 0.]\n",
      " [0. 0. 1.]]\n"
     ]
    }
   ],
   "execution_count": 6
  },
  {
   "metadata": {},
   "cell_type": "markdown",
   "source": "### Creating Arrays with Random Numbers",
   "id": "81b1fda9817d0ee1"
  },
  {
   "metadata": {
    "ExecuteTime": {
     "end_time": "2025-06-27T12:09:56.489594Z",
     "start_time": "2025-06-27T12:09:56.171077Z"
    }
   },
   "cell_type": "code",
   "source": [
    "x = np.random.rand(4, 4)\n",
    "print(x)"
   ],
   "id": "2b486db29fbb32bb",
   "outputs": [
    {
     "name": "stdout",
     "output_type": "stream",
     "text": [
      "[[0.39196996 0.73405923 0.25415578 0.98721103]\n",
      " [0.86890606 0.91739825 0.64956386 0.4937492 ]\n",
      " [0.35658275 0.08774806 0.83359397 0.57559618]\n",
      " [0.14223617 0.86092098 0.26858414 0.14760317]]\n"
     ]
    }
   ],
   "execution_count": 7
  }
 ],
 "metadata": {
  "kernelspec": {
   "display_name": "Python 3",
   "language": "python",
   "name": "python3"
  },
  "language_info": {
   "codemirror_mode": {
    "name": "ipython",
    "version": 2
   },
   "file_extension": ".py",
   "mimetype": "text/x-python",
   "name": "python",
   "nbconvert_exporter": "python",
   "pygments_lexer": "ipython2",
   "version": "2.7.6"
  }
 },
 "nbformat": 4,
 "nbformat_minor": 5
}
