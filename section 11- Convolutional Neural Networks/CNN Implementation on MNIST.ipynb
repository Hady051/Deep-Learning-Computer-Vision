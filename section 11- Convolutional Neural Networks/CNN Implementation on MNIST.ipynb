{
 "cells": [
  {
   "metadata": {},
   "cell_type": "markdown",
   "source": "# CNN on MNIST",
   "id": "a90a4515aa82341b"
  },
  {
   "metadata": {},
   "cell_type": "markdown",
   "source": "#### Importing the Libraries",
   "id": "a943c2b8940901d"
  },
  {
   "metadata": {
    "ExecuteTime": {
     "end_time": "2025-06-27T18:01:52.999157Z",
     "start_time": "2025-06-27T18:01:48.589410Z"
    }
   },
   "cell_type": "code",
   "source": [
    "import numpy as np\n",
    "import matplotlib\n",
    "# matplotlib.use(\"TkAgg\")\n",
    "import matplotlib.pyplot as plt\n",
    "\n",
    "import keras\n",
    "from keras.datasets import mnist  # // loading the mnist dataset is from keras not sklearn\n",
    "from keras.models import Sequential\n",
    "from keras.layers import Dense  # // DNN\n",
    "from keras.optimizers import Adam\n",
    "from keras.utils import to_categorical  # // multi-classification (One Hot Encoding)\n",
    "\n",
    "import random\n",
    "\n",
    "## New imports\n",
    "from keras.layers import Flatten\n",
    "from keras.layers import Conv2D  # // it's not in layers.convolutional as in the video anymore\n",
    "from keras.layers import MaxPooling2D  # // it's not in layers.convolutional as in the video anymore\n",
    "\n",
    "from keras.layers import Dropout\n",
    "from keras.models import Model   # // to get the class API"
   ],
   "id": "22e9f0238d35bf0",
   "outputs": [],
   "execution_count": 1
  },
  {
   "metadata": {},
   "cell_type": "markdown",
   "source": "#### Importing the Data/ Train Test Split",
   "id": "7525f9429a88a2e3"
  },
  {
   "cell_type": "code",
   "id": "initial_id",
   "metadata": {
    "collapsed": true,
    "ExecuteTime": {
     "end_time": "2025-06-27T18:01:53.419616Z",
     "start_time": "2025-06-27T18:01:53.176958Z"
    }
   },
   "source": [
    "np.random.seed(0)\n",
    "\n",
    "# // here, we won't use the train_test_split function: (X_train, X_test, y_train, y_test)\n",
    "# // instead:\n",
    "# (X_train, y_train), (X_test, y_test), X:input features (MNIST images), 28x28 pixels\n",
    "\n",
    "(images_train, labels_train), (images_test, labels_test) = mnist.load_data()\n",
    "\n",
    "# // this returns 60,000 MNIST images to the train set and 10,000 ones to the test set\n",
    "\n",
    "# !! print(\"images_train.shape = \", images_train.shape)  # // images_train.shape =  (60000, 28, 28)\n",
    "# !! print(\"images_test.shape = \", images_test.shape)    # // images_test.shape =  (10000, 28, 28)\n",
    "# !! print(\"The number of labels: \", labels_train.shape[0] )\n",
    "# // this shows 60,000 which is 60,000 labels for the 60,000 images"
   ],
   "outputs": [],
   "execution_count": 2
  },
  {
   "metadata": {},
   "cell_type": "markdown",
   "source": "#### assert Method (ensure the imported data is accurate)",
   "id": "8727d86d21797612"
  },
  {
   "metadata": {
    "ExecuteTime": {
     "end_time": "2025-06-27T18:01:53.454416Z",
     "start_time": "2025-06-27T18:01:53.448311Z"
    }
   },
   "cell_type": "code",
   "source": [
    "# // This is useful whenever you want to import complex datasets.\n",
    "# // The (assert) method takes in 1 arg,\n",
    "# // the arg is usually just a condition that is either going to be True or False\n",
    "# // If the condition is met, the code will run smoothly with no issues,\n",
    "# // However, if the condition is not met, the code will stop running and will display an error to alert\n",
    "# // the user that something went wrong.\n",
    "\n",
    "# // this confirms that 60k images have 60k labels, if not, the code won't run\n",
    "assert (images_train.shape[0] == labels_train.shape[0]), \"The number of images isn't equal to the number of labels\"\n",
    "# // same for the 10k of the test set\n",
    "assert (images_test.shape[0] == labels_test.shape[0]), \"The number of images isn't equal to the number of labels\"\n",
    "# // the same goes for the shape of the images\n",
    "assert (images_train.shape[1:] == (28, 28)), \"The dimensions of the images are not 28x28.\"\n",
    "assert (images_test.shape[1:] == (28, 28)), \"The dimensions of the images are not 28x28.\""
   ],
   "id": "a643ef8be832e652",
   "outputs": [],
   "execution_count": 3
  },
  {
   "metadata": {
    "ExecuteTime": {
     "end_time": "2025-06-27T18:01:53.477261Z",
     "start_time": "2025-06-27T18:01:53.472914Z"
    }
   },
   "cell_type": "code",
   "source": [
    "number_of_samples = []\n",
    "number_of_classes = 10\n",
    "cols = 5"
   ],
   "id": "462c2789be3a8f14",
   "outputs": [],
   "execution_count": 4
  },
  {
   "metadata": {},
   "cell_type": "markdown",
   "source": "#### plotting samples of the MNIST Dataset",
   "id": "73cc3d7a629beaec"
  },
  {
   "metadata": {
    "ExecuteTime": {
     "end_time": "2025-06-27T18:01:56.006385Z",
     "start_time": "2025-06-27T18:01:53.508691Z"
    }
   },
   "cell_type": "code",
   "source": [
    "fig, axes = plt.subplots(nrows=number_of_classes, ncols=cols, figsize=(5, 8) )\n",
    "# // figsize is the size of each grid (subplot), first the width then the height\n",
    "# // You can see the effect of figsize when you minimize the pic, not maximize it.\n",
    "fig.tight_layout()\n",
    "# // this is used to automatically deal with overlapping and separates the figures/subplots better\n",
    "\n",
    "for col in range(cols): # // each col of the 5\n",
    "    for row in range(number_of_classes): # // each row(class) of the 10\n",
    "        image_selected = images_train[labels_train == row] # // this is used to split the data,\n",
    "        # // with the conditional statement [labels_train == col(name of class)],\n",
    "        # // so that row 0 will have MNIST images of class 0, etc…\n",
    "        axes[row][col].imshow(image_selected[random.randint(0, len(image_selected) - 1), : , : ],\n",
    "                          cmap=plt.get_cmap(\"gray\") )\n",
    "        # // random.randint(), gets you a random integer between the 2 integers you entered.\n",
    "        # // leave the rest blank (:), to ensure you get the full image, the full (28x28) image\n",
    "        # // the images get displayed but not properly, and that's because\n",
    "        # // the default colormap of matplotlib is (Viridis),\n",
    "        # // which is a colorful color map that is useful for some data.\n",
    "        # // in our case, we want a grayscale images.\n",
    "\n",
    "        # // if you don't want the images to be in a labeled axis\n",
    "        axes[row][col].axis(\"off\")\n",
    "\n",
    "        if col == 2:\n",
    "            axes[row][col].set_title(\"Class: \" + str(row) ) # // to name the class with the value it has\n",
    "\n",
    "            number_of_samples.append(len(image_selected) )\n",
    "        # // You need to include this inside the if block, to take only one sample of the 10 classes.\n",
    "        # // which is in col = 2 in this case. You can do another if with whatever col you want,it's the same\n",
    "        # // if you don't, 5 samples of the 10 classes (bec of no. of cols) will be added, which is WRONG."
   ],
   "id": "c6d48ffc6093c743",
   "outputs": [
    {
     "data": {
      "text/plain": [
       "<Figure size 500x800 with 50 Axes>"
      ],
      "image/png": "[encoded data removed]"
     },
     "metadata": {},
     "output_type": "display_data"
    }
   ],
   "execution_count": 5
  },
  {
   "metadata": {},
   "cell_type": "markdown",
   "source": "#### Bar plot to show the number of images each class has",
   "id": "576207f2869aebb8"
  },
  {
   "metadata": {
    "ExecuteTime": {
     "end_time": "2025-06-27T18:01:56.168685Z",
     "start_time": "2025-06-27T18:01:56.020379Z"
    }
   },
   "cell_type": "code",
   "source": [
    "print(number_of_samples)\n",
    "# // this shows the amount of images belonging to each class.\n",
    "# // [5923, 6742, 5958, 6131, 5842, 5421, 5918, 6265, 5851, 5949]\n",
    "\n",
    "# // To visualize this with a bar-plot\n",
    "\n",
    "plt.figure(figsize=(12, 4) )\n",
    "plt.bar(range(0, number_of_classes), number_of_samples, color=\"turquoise\", width=0.5)\n",
    "# // first arg is the x-coordinate (each class),\n",
    "# // 2nd arg is the y-coordinate (number of images per each class)-(number_of_samples array)\n",
    "# // width arg is the width of the bars.\n",
    "plt.title('Distribution of the training dataset')\n",
    "plt.xlabel('Class')\n",
    "plt.ylabel('Number of images')\n",
    "\n",
    "plt.show()"
   ],
   "id": "86bcf9503486aaf9",
   "outputs": [
    {
     "name": "stdout",
     "output_type": "stream",
     "text": [
      "[5923, 6742, 5958, 6131, 5842, 5421, 5918, 6265, 5851, 5949]\n"
     ]
    },
    {
     "data": {
      "text/plain": [
       "<Figure size 1200x400 with 1 Axes>"
      ],
      "image/png": "[encoded data removed]"
     },
     "metadata": {},
     "output_type": "display_data"
    }
   ],
   "execution_count": 6
  },
  {
   "metadata": {},
   "cell_type": "markdown",
   "source": "#### One Hot Encoding",
   "id": "54d132717177ec3"
  },
  {
   "metadata": {
    "ExecuteTime": {
     "end_time": "2025-06-27T18:01:56.204229Z",
     "start_time": "2025-06-27T18:01:56.196883Z"
    }
   },
   "cell_type": "code",
   "source": [
    "labels_train_OHE = to_categorical(labels_train, 10)\n",
    "labels_test_OHE = to_categorical(labels_test, 10)"
   ],
   "id": "bf9e0695070ba2ff",
   "outputs": [],
   "execution_count": 7
  },
  {
   "metadata": {},
   "cell_type": "markdown",
   "source": "#### Normalization (Feature Scaling)",
   "id": "eb1303c043044db1"
  },
  {
   "metadata": {
    "ExecuteTime": {
     "end_time": "2025-06-27T18:01:56.368098Z",
     "start_time": "2025-06-27T18:01:56.221411Z"
    }
   },
   "cell_type": "code",
   "source": [
    "# // here we just divide by 255\n",
    "images_train_N = images_train / 255\n",
    "images_test_N = images_test / 255"
   ],
   "id": "35b7e25fb5fbd60f",
   "outputs": [],
   "execution_count": 8
  },
  {
   "metadata": {},
   "cell_type": "markdown",
   "source": [
    "// well, for instance, our training data are 60k images.\n",
    "\n",
    "// Each image has a pixel intensity ranging between 0 and 255.\n",
    "\n",
    "// So now we want to scale it between 0 and 1\n",
    "\n",
    "// This normalization process is important as it scales down our features to a uniform range and decreases\n",
    "\n",
    "// variance among our data.\n",
    "\n",
    "// Due to the nature of the mathematical operations used inside the neural network.\n",
    "\n",
    "// We need to ensure that our data has low variance.\n",
    "\n",
    "// This helps the neural network better deal with the input data and to learn more quickly and accurately."
   ],
   "id": "aea0d6d76c6256bb"
  },
  {
   "metadata": {},
   "cell_type": "markdown",
   "source": "#### Flattening / Reshaping",
   "id": "8430a84ece30c310"
  },
  {
   "metadata": {
    "ExecuteTime": {
     "end_time": "2025-06-27T18:01:56.402697Z",
     "start_time": "2025-06-27T18:01:56.398042Z"
    }
   },
   "cell_type": "code",
   "source": [
    "print(\"images_train shape = \", images_train.shape)\n",
    "print(\"images_test shape = \", images_test.shape)"
   ],
   "id": "ea0663d574974188",
   "outputs": [
    {
     "name": "stdout",
     "output_type": "stream",
     "text": [
      "images_train shape =  (60000, 28, 28)\n",
      "images_test shape =  (10000, 28, 28)\n"
     ]
    }
   ],
   "execution_count": 9
  },
  {
   "metadata": {},
   "cell_type": "markdown",
   "source": [
    "// Now that we have a normalized data set, we are going to flatten our images.\n",
    "\n",
    "// We currently have images that have the shape of a two-dimensional array.\n",
    "\n",
    "// Each image is 28 by 28 pixels, 784 pixels in total.\n",
    "\n",
    "// However, due to the structure of our neural network, our input values are going to be multiplied by\n",
    "\n",
    "// The weight matrix connecting our input layer to our first hidden layer.\n",
    "\n",
    "// To conduct matrix multiplication, we must make our images one dimensional.\n",
    "\n",
    "// We cannot pass the array in the way that it's currently shaped.\n",
    "\n",
    "// That is, instead of them being 28 rows by 28 columns, we must flatten each image into a single row of 784 pixels."
   ],
   "id": "2080a5ebbdb4e96d"
  },
  {
   "metadata": {
    "ExecuteTime": {
     "end_time": "2025-06-27T18:01:56.457602Z",
     "start_time": "2025-06-27T18:01:56.450852Z"
    }
   },
   "cell_type": "code",
   "source": [
    "number_of_pixels = 28 * 28  # // 784\n",
    "images_train = images_train.reshape(images_train.shape[0], number_of_pixels )\n",
    "images_test = images_test.reshape(images_test.shape[0], number_of_pixels)\n",
    "# // we won't change the first dim (60k), we will change the 28 x 28 to 1D of 784 (flatten it to 1D)\n",
    "\n",
    "print(\"images_train new shape = \", images_train.shape) # // images_train shape = (60000, 784)\n",
    "print(\"images_test new shape = \", images_test.shape)  # // images_test shape = (10000, 784)"
   ],
   "id": "fab364346251ca76",
   "outputs": [
    {
     "name": "stdout",
     "output_type": "stream",
     "text": [
      "images_train new shape =  (60000, 784)\n",
      "images_test new shape =  (10000, 784)\n"
     ]
    }
   ],
   "execution_count": 10
  },
  {
   "metadata": {},
   "cell_type": "markdown",
   "source": "#### Flattening / Reshaping, ** modifying it",
   "id": "ddcbd6b06bfd6a81"
  },
  {
   "metadata": {
    "ExecuteTime": {
     "end_time": "2025-06-27T18:01:56.503584Z",
     "start_time": "2025-06-27T18:01:56.497797Z"
    }
   },
   "cell_type": "code",
   "source": [
    "print(\"images_train shape = \", images_train.shape)\n",
    "print(\"images_test shape = \", images_test.shape)"
   ],
   "id": "991434135cae7a28",
   "outputs": [
    {
     "name": "stdout",
     "output_type": "stream",
     "text": [
      "images_train shape =  (60000, 784)\n",
      "images_test shape =  (10000, 784)\n"
     ]
    }
   ],
   "execution_count": 11
  },
  {
   "metadata": {
    "ExecuteTime": {
     "end_time": "2025-06-27T18:01:56.544823Z",
     "start_time": "2025-06-27T18:01:56.538558Z"
    }
   },
   "cell_type": "code",
   "source": [
    "# // Previously, we needed to Flatten it into a 1D to enter the pixels as inputs into the NN\n",
    "# // in CNNs, we don't need to, but we need to add Depth to them, 1 for (Grayscale images)\n",
    "\n",
    "images_train = images_train.reshape(images_train.shape[0], 28, 28, 1)\n",
    "images_test = images_test.reshape(images_test.shape[0], 28, 28, 1)\n",
    "\n",
    "print(\"images_train new shape = \", images_train.shape)\n",
    "print(\"images_test new shape = \", images_test.shape)"
   ],
   "id": "a6c830c6a968c630",
   "outputs": [
    {
     "name": "stdout",
     "output_type": "stream",
     "text": [
      "images_train new shape =  (60000, 28, 28, 1)\n",
      "images_test new shape =  (10000, 28, 28, 1)\n"
     ]
    }
   ],
   "execution_count": 12
  },
  {
   "metadata": {},
   "cell_type": "markdown",
   "source": "## define LeNet model",
   "id": "270f5da14fbdd3cb"
  },
  {
   "metadata": {
    "ExecuteTime": {
     "end_time": "2025-06-27T18:01:56.578996Z",
     "start_time": "2025-06-27T18:01:56.570726Z"
    }
   },
   "cell_type": "code",
   "source": [
    "def leNet_model():\n",
    "    ### model layers\n",
    "    nn_model = Sequential()\n",
    "    ## Conv layer\n",
    "    nn_model.add(Conv2D(30, (5, 5), input_shape=(28, 28, 1), activation='relu',\n",
    "                        strides=1, padding=\"same\"))\n",
    "    ## Max-Pooling layer\n",
    "    nn_model.add(MaxPooling2D(pool_size=(2, 2) ) )\n",
    "    ## Conv Layer\n",
    "    nn_model.add(Conv2D(15, (3, 3), activation=\"relu\", strides=1, padding=\"same\") )\n",
    "    ## Max-pooling layer\n",
    "    nn_model.add(MaxPooling2D(pool_size=(2, 2) ) )\n",
    "    ## Flatten layer\n",
    "    nn_model.add(Flatten() )\n",
    "    ## DNN layers/ Hidden layers\n",
    "    nn_model.add(Dense(units=500, activation=\"relu\") )\n",
    "    ## ** Dropout Layer\n",
    "    nn_model.add(Dropout(0.5))\n",
    "    ## Output Layer\n",
    "    nn_model.add(Dense(units=number_of_classes, activation=\"softmax\"))\n",
    "\n",
    "    ### Compilation\n",
    "    nn_model.compile(optimizer=Adam(learning_rate=0.01), loss=\"categorical_crossentropy\",\n",
    "                     metrics=[\"accuracy\"])\n",
    "\n",
    "    return nn_model"
   ],
   "id": "d09acf605549e98a",
   "outputs": [],
   "execution_count": 13
  },
  {
   "metadata": {},
   "cell_type": "markdown",
   "source": [
    " **Description:**\n",
    "\n",
    "!! line 237: we add the Conv2D layer.\n",
    "\n",
    "'''\n",
    "\n",
    "** First argument: number of \"filters/Kernels\".\n",
    "\n",
    "// This is a number that depends on experiencing with the dataset\n",
    "\n",
    "// for MNIST dataset, 30 is a good number according to the video.\n",
    "\n",
    "// keep in mind, as the number of filters increases, the number of parameters also increases, which demands more computing power.\n",
    "\n",
    "\n",
    "** Second Argument: a Tuple to define \"the size of the filters\".\n",
    "\n",
    "// 5 x 5 is suitable for MNIST.\n",
    "\n",
    "// Remember that Kernels in CONV layer are predefined (have their own values originally).\n",
    "\n",
    "\n",
    "** Third Argument: a tuple of \"the input shape\" of the pics\n",
    "\n",
    "\n",
    "** Forth Argument: the \"Activation Function\" of the Layer. \"relu\" which we described\n",
    "\n",
    "// After the Conv layer, our 28 x 28 image is going to be reduced down to 30 feature maps each one is 24 x 24.\n",
    "\n",
    "// Therefore, the output volume of the Conv layer will have \"Feature maps\" with depth = 30\n",
    "\n",
    "// Considering that each filter is (5 x 5) and each pixel inside the filter has it's own value,\n",
    "\n",
    "/ then a \"single filter\" will have 25 values or adjustable parameters, Considering that we have 30 filters, this puts up at 30 x 25 = 750, 750 parameters.\n",
    "\n",
    "// Considering that each \"Filter\" has it's own \"Bias value\", this puts us at 780 adjustable parameters for this layer.\n",
    "\n",
    "\n",
    "** Fifth Argument: \"Strides\".\n",
    "\n",
    "// \"Strides\" is the \"Kernel\" step \"convolved\" on the image.\n",
    "\n",
    "// the smaller the \"stride\", the more the \"kernel convolution operations\" and thus the more output.\n",
    "\n",
    "// Default is 1, so we don't need to add it as well.\n",
    "\n",
    "\n",
    "** Sixth Argument: \"Padding\"\n",
    "\n",
    "// When conducting \"Conv operations\", the Spatial size of the image gets smaller, as we lose the information at the borders, even if we use a \"stride of 1.\n",
    "\n",
    "// So, \"Padding is used to preserve the \"Spatial dimensionality\" of the image.\n",
    "\n",
    "*\"half-padding\" or \"same-padding\", simply ensures the output size is the \"same\" as the input size.\n",
    "\n",
    "// we basically add two pixel thick layers of \"padding\", each pixel value = 0.\n",
    "\n",
    "// Convolving the \"Kernel\", notice now that even the info at the borders is now processed more, thus outputting an image with the \"same dimensions\", thus increasing the performance.\n",
    "\n",
    "*\"Padding arguments\" are: \"valid\", \"casual\" or \"same\", if you don't select either, the default is \"None\" or \"valid\"\n",
    "\n",
    "// \"valid\" is None, not using \"Padding\"\n",
    "\n",
    "// Here we won't use it, why?\n",
    "\n",
    "// Because, if you see the pics of the MNIST dataset, you will see\n",
    "\n",
    "/the numbers (the important thing we are focusing on) is centered on the image.\n",
    "\n",
    "'''\n",
    "\n",
    "\n",
    "!! Line 240: we add the max-pooling layer\n",
    "'''\n",
    "\n",
    "*only argument (for now): \"Pooling size\" (size of the Pooling Kernel)\n",
    "\n",
    "// (2 x 2) is sufficient\n",
    "\n",
    "// After the Pooling process, the shape of our convoluted image is going to go from a (24, 24, 30)\n",
    "\n",
    "/ to a smaller shape of (12, 12, 30)\n",
    "\n",
    "'''\n",
    "\n",
    "// We then add another \"Conv and max-pooling\" layers.\n",
    "\n",
    "!! Line 242: 2nd Conv layer\n",
    "'''\n",
    "// we are going to use \"15 filters\" on this layer as our image is smaller now, and smaller filter size.\n",
    "\n",
    "// Notice that now the input parameters entering this Conv layer is much larger of the image entering the first\n",
    "\n",
    "/ Conv layer, since it has depth = 30.\n",
    "\n",
    "// So, each filter must be applied to each Layer, which results in 15 * 30 * (3 * 3) = 4050 parameters\n",
    "\n",
    "// adding \"Bias\" 4050 + 15 = 4065 parameters\n",
    "\n",
    "// way more than 780 parameters of the initial Conv layer.\n",
    "\n",
    "// the output of this will be (10, 10, 15)\n",
    "\n",
    "'''\n",
    "\n",
    "\n",
    "\n",
    "!! Line 246: Flatten layer\n",
    "\n",
    "'''\n",
    "\n",
    "// This is used to flatten our data to enter them to the typical Deep Neural Network\n",
    "\n",
    "// This will take the output shape from the 2nd Max-Pooling layer of (1, 5, 5, 15)\n",
    "/ to (1, 375)\n",
    "\n",
    "// 1 is the None is in the summary of the NN.\n",
    "\n",
    "// You need to have the input shape entering a NN to be ** 1 row\n",
    "\n",
    "\n",
    "'''\n",
    "\n",
    "\n",
    "\n",
    "!! Line 247: DNN\n",
    "\n",
    "Number of nodes/ \"units\" = 500\n",
    "\n",
    "AF = \"relu\"\n",
    "\n",
    "// No need to define the \"input_dim\" argument\n",
    "\n",
    "'''\n",
    "\n",
    "!! Line: Dropout Layer\n",
    "// in the NB"
   ],
   "id": "35be45706ba06acb"
  },
  {
   "metadata": {},
   "cell_type": "markdown",
   "source": "#### Model's summary",
   "id": "e633bf99776eed94"
  },
  {
   "metadata": {
    "ExecuteTime": {
     "end_time": "2025-06-27T18:01:56.920636Z",
     "start_time": "2025-06-27T18:01:56.621427Z"
    }
   },
   "cell_type": "code",
   "source": [
    "nn_model = leNet_model()\n",
    "\n",
    "nn_model.summary()"
   ],
   "id": "dfe4f4a6bc38433a",
   "outputs": [
    {
     "name": "stderr",
     "output_type": "stream",
     "text": [
      "D:\\coding projects\\PyCharm projects\\new projects\\S-D-C-2\\.venv\\Lib\\site-packages\\keras\\src\\layers\\convolutional\\base_conv.py:99: UserWarning: Do not pass an `input_shape`/`input_dim` argument to a layer. When using Sequential models, prefer using an `Input(shape)` object as the first layer in the model instead.\n",
      "  super().__init__(\n"
     ]
    },
    {
     "data": {
      "text/plain": [
       "\u001B[1mModel: \"sequential\"\u001B[0m\n"
      ],
      "text/html": [
       "<pre style=\"white-space:pre;overflow-x:auto;line-height:normal;font-family:Menlo,'DejaVu Sans Mono',consolas,'Courier New',monospace\"><span style=\"font-weight: bold\">Model: \"sequential\"</span>\n",
       "</pre>\n"
      ]
     },
     "metadata": {},
     "output_type": "display_data"
    },
    {
     "data": {
      "text/plain": [
       "┏━━━━━━━━━━━━━━━━━━━━━━━━━━━━━━━━━┳━━━━━━━━━━━━━━━━━━━━━━━━━━━┳━━━━━━━━━━━━┓\n",
       "┃\u001B[1m \u001B[0m\u001B[1mLayer (type)                   \u001B[0m\u001B[1m \u001B[0m┃\u001B[1m \u001B[0m\u001B[1mOutput Shape             \u001B[0m\u001B[1m \u001B[0m┃\u001B[1m \u001B[0m\u001B[1m   Param #\u001B[0m\u001B[1m \u001B[0m┃\n",
       "┡━━━━━━━━━━━━━━━━━━━━━━━━━━━━━━━━━╇━━━━━━━━━━━━━━━━━━━━━━━━━━━╇━━━━━━━━━━━━┩\n",
       "│ conv2d (\u001B[38;5;33mConv2D\u001B[0m)                 │ (\u001B[38;5;45mNone\u001B[0m, \u001B[38;5;34m28\u001B[0m, \u001B[38;5;34m28\u001B[0m, \u001B[38;5;34m30\u001B[0m)        │        \u001B[38;5;34m780\u001B[0m │\n",
       "├─────────────────────────────────┼───────────────────────────┼────────────┤\n",
       "│ max_pooling2d (\u001B[38;5;33mMaxPooling2D\u001B[0m)    │ (\u001B[38;5;45mNone\u001B[0m, \u001B[38;5;34m14\u001B[0m, \u001B[38;5;34m14\u001B[0m, \u001B[38;5;34m30\u001B[0m)        │          \u001B[38;5;34m0\u001B[0m │\n",
       "├─────────────────────────────────┼───────────────────────────┼────────────┤\n",
       "│ conv2d_1 (\u001B[38;5;33mConv2D\u001B[0m)               │ (\u001B[38;5;45mNone\u001B[0m, \u001B[38;5;34m14\u001B[0m, \u001B[38;5;34m14\u001B[0m, \u001B[38;5;34m15\u001B[0m)        │      \u001B[38;5;34m4,065\u001B[0m │\n",
       "├─────────────────────────────────┼───────────────────────────┼────────────┤\n",
       "│ max_pooling2d_1 (\u001B[38;5;33mMaxPooling2D\u001B[0m)  │ (\u001B[38;5;45mNone\u001B[0m, \u001B[38;5;34m7\u001B[0m, \u001B[38;5;34m7\u001B[0m, \u001B[38;5;34m15\u001B[0m)          │          \u001B[38;5;34m0\u001B[0m │\n",
       "├─────────────────────────────────┼───────────────────────────┼────────────┤\n",
       "│ flatten (\u001B[38;5;33mFlatten\u001B[0m)               │ (\u001B[38;5;45mNone\u001B[0m, \u001B[38;5;34m735\u001B[0m)               │          \u001B[38;5;34m0\u001B[0m │\n",
       "├─────────────────────────────────┼───────────────────────────┼────────────┤\n",
       "│ dense (\u001B[38;5;33mDense\u001B[0m)                   │ (\u001B[38;5;45mNone\u001B[0m, \u001B[38;5;34m500\u001B[0m)               │    \u001B[38;5;34m368,000\u001B[0m │\n",
       "├─────────────────────────────────┼───────────────────────────┼────────────┤\n",
       "│ dropout (\u001B[38;5;33mDropout\u001B[0m)               │ (\u001B[38;5;45mNone\u001B[0m, \u001B[38;5;34m500\u001B[0m)               │          \u001B[38;5;34m0\u001B[0m │\n",
       "├─────────────────────────────────┼───────────────────────────┼────────────┤\n",
       "│ dense_1 (\u001B[38;5;33mDense\u001B[0m)                 │ (\u001B[38;5;45mNone\u001B[0m, \u001B[38;5;34m10\u001B[0m)                │      \u001B[38;5;34m5,010\u001B[0m │\n",
       "└─────────────────────────────────┴───────────────────────────┴────────────┘\n"
      ],
      "text/html": [
       "<pre style=\"white-space:pre;overflow-x:auto;line-height:normal;font-family:Menlo,'DejaVu Sans Mono',consolas,'Courier New',monospace\">┏━━━━━━━━━━━━━━━━━━━━━━━━━━━━━━━━━┳━━━━━━━━━━━━━━━━━━━━━━━━━━━┳━━━━━━━━━━━━┓\n",
       "┃<span style=\"font-weight: bold\"> Layer (type)                    </span>┃<span style=\"font-weight: bold\"> Output Shape              </span>┃<span style=\"font-weight: bold\">    Param # </span>┃\n",
       "┡━━━━━━━━━━━━━━━━━━━━━━━━━━━━━━━━━╇━━━━━━━━━━━━━━━━━━━━━━━━━━━╇━━━━━━━━━━━━┩\n",
       "│ conv2d (<span style=\"color: #0087ff; text-decoration-color: #0087ff\">Conv2D</span>)                 │ (<span style=\"color: #00d7ff; text-decoration-color: #00d7ff\">None</span>, <span style=\"color: #00af00; text-decoration-color: #00af00\">28</span>, <span style=\"color: #00af00; text-decoration-color: #00af00\">28</span>, <span style=\"color: #00af00; text-decoration-color: #00af00\">30</span>)        │        <span style=\"color: #00af00; text-decoration-color: #00af00\">780</span> │\n",
       "├─────────────────────────────────┼───────────────────────────┼────────────┤\n",
       "│ max_pooling2d (<span style=\"color: #0087ff; text-decoration-color: #0087ff\">MaxPooling2D</span>)    │ (<span style=\"color: #00d7ff; text-decoration-color: #00d7ff\">None</span>, <span style=\"color: #00af00; text-decoration-color: #00af00\">14</span>, <span style=\"color: #00af00; text-decoration-color: #00af00\">14</span>, <span style=\"color: #00af00; text-decoration-color: #00af00\">30</span>)        │          <span style=\"color: #00af00; text-decoration-color: #00af00\">0</span> │\n",
       "├─────────────────────────────────┼───────────────────────────┼────────────┤\n",
       "│ conv2d_1 (<span style=\"color: #0087ff; text-decoration-color: #0087ff\">Conv2D</span>)               │ (<span style=\"color: #00d7ff; text-decoration-color: #00d7ff\">None</span>, <span style=\"color: #00af00; text-decoration-color: #00af00\">14</span>, <span style=\"color: #00af00; text-decoration-color: #00af00\">14</span>, <span style=\"color: #00af00; text-decoration-color: #00af00\">15</span>)        │      <span style=\"color: #00af00; text-decoration-color: #00af00\">4,065</span> │\n",
       "├─────────────────────────────────┼───────────────────────────┼────────────┤\n",
       "│ max_pooling2d_1 (<span style=\"color: #0087ff; text-decoration-color: #0087ff\">MaxPooling2D</span>)  │ (<span style=\"color: #00d7ff; text-decoration-color: #00d7ff\">None</span>, <span style=\"color: #00af00; text-decoration-color: #00af00\">7</span>, <span style=\"color: #00af00; text-decoration-color: #00af00\">7</span>, <span style=\"color: #00af00; text-decoration-color: #00af00\">15</span>)          │          <span style=\"color: #00af00; text-decoration-color: #00af00\">0</span> │\n",
       "├─────────────────────────────────┼───────────────────────────┼────────────┤\n",
       "│ flatten (<span style=\"color: #0087ff; text-decoration-color: #0087ff\">Flatten</span>)               │ (<span style=\"color: #00d7ff; text-decoration-color: #00d7ff\">None</span>, <span style=\"color: #00af00; text-decoration-color: #00af00\">735</span>)               │          <span style=\"color: #00af00; text-decoration-color: #00af00\">0</span> │\n",
       "├─────────────────────────────────┼───────────────────────────┼────────────┤\n",
       "│ dense (<span style=\"color: #0087ff; text-decoration-color: #0087ff\">Dense</span>)                   │ (<span style=\"color: #00d7ff; text-decoration-color: #00d7ff\">None</span>, <span style=\"color: #00af00; text-decoration-color: #00af00\">500</span>)               │    <span style=\"color: #00af00; text-decoration-color: #00af00\">368,000</span> │\n",
       "├─────────────────────────────────┼───────────────────────────┼────────────┤\n",
       "│ dropout (<span style=\"color: #0087ff; text-decoration-color: #0087ff\">Dropout</span>)               │ (<span style=\"color: #00d7ff; text-decoration-color: #00d7ff\">None</span>, <span style=\"color: #00af00; text-decoration-color: #00af00\">500</span>)               │          <span style=\"color: #00af00; text-decoration-color: #00af00\">0</span> │\n",
       "├─────────────────────────────────┼───────────────────────────┼────────────┤\n",
       "│ dense_1 (<span style=\"color: #0087ff; text-decoration-color: #0087ff\">Dense</span>)                 │ (<span style=\"color: #00d7ff; text-decoration-color: #00d7ff\">None</span>, <span style=\"color: #00af00; text-decoration-color: #00af00\">10</span>)                │      <span style=\"color: #00af00; text-decoration-color: #00af00\">5,010</span> │\n",
       "└─────────────────────────────────┴───────────────────────────┴────────────┘\n",
       "</pre>\n"
      ]
     },
     "metadata": {},
     "output_type": "display_data"
    },
    {
     "data": {
      "text/plain": [
       "\u001B[1m Total params: \u001B[0m\u001B[38;5;34m377,855\u001B[0m (1.44 MB)\n"
      ],
      "text/html": [
       "<pre style=\"white-space:pre;overflow-x:auto;line-height:normal;font-family:Menlo,'DejaVu Sans Mono',consolas,'Courier New',monospace\"><span style=\"font-weight: bold\"> Total params: </span><span style=\"color: #00af00; text-decoration-color: #00af00\">377,855</span> (1.44 MB)\n",
       "</pre>\n"
      ]
     },
     "metadata": {},
     "output_type": "display_data"
    },
    {
     "data": {
      "text/plain": [
       "\u001B[1m Trainable params: \u001B[0m\u001B[38;5;34m377,855\u001B[0m (1.44 MB)\n"
      ],
      "text/html": [
       "<pre style=\"white-space:pre;overflow-x:auto;line-height:normal;font-family:Menlo,'DejaVu Sans Mono',consolas,'Courier New',monospace\"><span style=\"font-weight: bold\"> Trainable params: </span><span style=\"color: #00af00; text-decoration-color: #00af00\">377,855</span> (1.44 MB)\n",
       "</pre>\n"
      ]
     },
     "metadata": {},
     "output_type": "display_data"
    },
    {
     "data": {
      "text/plain": [
       "\u001B[1m Non-trainable params: \u001B[0m\u001B[38;5;34m0\u001B[0m (0.00 B)\n"
      ],
      "text/html": [
       "<pre style=\"white-space:pre;overflow-x:auto;line-height:normal;font-family:Menlo,'DejaVu Sans Mono',consolas,'Courier New',monospace\"><span style=\"font-weight: bold\"> Non-trainable params: </span><span style=\"color: #00af00; text-decoration-color: #00af00\">0</span> (0.00 B)\n",
       "</pre>\n"
      ]
     },
     "metadata": {},
     "output_type": "display_data"
    }
   ],
   "execution_count": 14
  },
  {
   "metadata": {},
   "cell_type": "markdown",
   "source": [
    "inp units * layer's units + Bias of L. units\n",
    "\n",
    "(375 * 500) + 500"
   ],
   "id": "d815d48b81db490e"
  },
  {
   "metadata": {},
   "cell_type": "markdown",
   "source": "#### Model Fitting",
   "id": "d738907f7d877878"
  },
  {
   "metadata": {
    "ExecuteTime": {
     "end_time": "2025-06-27T18:04:23.752398Z",
     "start_time": "2025-06-27T18:01:57.126Z"
    }
   },
   "cell_type": "code",
   "source": "nn_model_fit = nn_model.fit(images_train_N, labels_train_OHE, validation_split=0.1, batch_size=400, epochs=12, verbose=True, shuffle=True)",
   "id": "f681753c1269e57a",
   "outputs": [
    {
     "name": "stdout",
     "output_type": "stream",
     "text": [
      "Epoch 1/12\n",
      "\u001B[1m135/135\u001B[0m \u001B[32m━━━━━━━━━━━━━━━━━━━━\u001B[0m\u001B[37m\u001B[0m \u001B[1m14s\u001B[0m 85ms/step - accuracy: 0.8053 - loss: 0.6088 - val_accuracy: 0.9832 - val_loss: 0.0582\n",
      "Epoch 2/12\n",
      "\u001B[1m135/135\u001B[0m \u001B[32m━━━━━━━━━━━━━━━━━━━━\u001B[0m\u001B[37m\u001B[0m \u001B[1m12s\u001B[0m 88ms/step - accuracy: 0.9782 - loss: 0.0730 - val_accuracy: 0.9882 - val_loss: 0.0405\n",
      "Epoch 3/12\n",
      "\u001B[1m135/135\u001B[0m \u001B[32m━━━━━━━━━━━━━━━━━━━━\u001B[0m\u001B[37m\u001B[0m \u001B[1m13s\u001B[0m 94ms/step - accuracy: 0.9822 - loss: 0.0549 - val_accuracy: 0.9867 - val_loss: 0.0419\n",
      "Epoch 4/12\n",
      "\u001B[1m135/135\u001B[0m \u001B[32m━━━━━━━━━━━━━━━━━━━━\u001B[0m\u001B[37m\u001B[0m \u001B[1m12s\u001B[0m 92ms/step - accuracy: 0.9847 - loss: 0.0482 - val_accuracy: 0.9907 - val_loss: 0.0369\n",
      "Epoch 5/12\n",
      "\u001B[1m135/135\u001B[0m \u001B[32m━━━━━━━━━━━━━━━━━━━━\u001B[0m\u001B[37m\u001B[0m \u001B[1m12s\u001B[0m 86ms/step - accuracy: 0.9864 - loss: 0.0438 - val_accuracy: 0.9903 - val_loss: 0.0347\n",
      "Epoch 6/12\n",
      "\u001B[1m135/135\u001B[0m \u001B[32m━━━━━━━━━━━━━━━━━━━━\u001B[0m\u001B[37m\u001B[0m \u001B[1m12s\u001B[0m 89ms/step - accuracy: 0.9864 - loss: 0.0429 - val_accuracy: 0.9905 - val_loss: 0.0348\n",
      "Epoch 7/12\n",
      "\u001B[1m135/135\u001B[0m \u001B[32m━━━━━━━━━━━━━━━━━━━━\u001B[0m\u001B[37m\u001B[0m \u001B[1m12s\u001B[0m 88ms/step - accuracy: 0.9889 - loss: 0.0343 - val_accuracy: 0.9907 - val_loss: 0.0344\n",
      "Epoch 8/12\n",
      "\u001B[1m135/135\u001B[0m \u001B[32m━━━━━━━━━━━━━━━━━━━━\u001B[0m\u001B[37m\u001B[0m \u001B[1m12s\u001B[0m 89ms/step - accuracy: 0.9897 - loss: 0.0315 - val_accuracy: 0.9898 - val_loss: 0.0380\n",
      "Epoch 9/12\n",
      "\u001B[1m135/135\u001B[0m \u001B[32m━━━━━━━━━━━━━━━━━━━━\u001B[0m\u001B[37m\u001B[0m \u001B[1m12s\u001B[0m 87ms/step - accuracy: 0.9885 - loss: 0.0362 - val_accuracy: 0.9903 - val_loss: 0.0355\n",
      "Epoch 10/12\n",
      "\u001B[1m135/135\u001B[0m \u001B[32m━━━━━━━━━━━━━━━━━━━━\u001B[0m\u001B[37m\u001B[0m \u001B[1m12s\u001B[0m 86ms/step - accuracy: 0.9902 - loss: 0.0323 - val_accuracy: 0.9902 - val_loss: 0.0317\n",
      "Epoch 11/12\n",
      "\u001B[1m135/135\u001B[0m \u001B[32m━━━━━━━━━━━━━━━━━━━━\u001B[0m\u001B[37m\u001B[0m \u001B[1m11s\u001B[0m 84ms/step - accuracy: 0.9893 - loss: 0.0343 - val_accuracy: 0.9898 - val_loss: 0.0395\n",
      "Epoch 12/12\n",
      "\u001B[1m135/135\u001B[0m \u001B[32m━━━━━━━━━━━━━━━━━━━━\u001B[0m\u001B[37m\u001B[0m \u001B[1m12s\u001B[0m 92ms/step - accuracy: 0.9884 - loss: 0.0365 - val_accuracy: 0.9907 - val_loss: 0.0420\n"
     ]
    }
   ],
   "execution_count": 15
  },
  {
   "metadata": {},
   "cell_type": "markdown",
   "source": "#### saving/loading the model",
   "id": "3f96ce60f20f44d9"
  },
  {
   "metadata": {
    "ExecuteTime": {
     "end_time": "2025-06-27T18:05:36.321454Z",
     "start_time": "2025-06-27T18:05:36.315273Z"
    }
   },
   "cell_type": "code",
   "source": [
    "\"\"\"\n",
    "\n",
    "from keras.models import load_model\n",
    "\n",
    "# // creates a HDF5 file nn_model.save('my_model.h5')  # / the hdf5 is wrong(old way)\n",
    "\n",
    "# // creates a keras file (new way of saving)\n",
    "# nn_model.save('11.2.CNN_model_MNIST_thirdModel.keras')\n",
    "\n",
    "# // deletes the existing model\n",
    "# del nn_model\n",
    "\n",
    "# // returns a compiled model\n",
    "nn_model = load_model('11.2.CNN_model_MNIST_thirdModel.keras')\n",
    "\n",
    "\"\"\""
   ],
   "id": "c91a9769abb64166",
   "outputs": [
    {
     "data": {
      "text/plain": [
       "\"\\n\\nfrom keras.models import load_model\\n\\n# // creates a HDF5 file nn_model.save('my_model.h5')  # / the hdf5 is wrong(old way)\\n\\n# // creates a keras file (new way of saving)\\n# nn_model.save('11.2.CNN_model_MNIST_thirdModel.keras')\\n\\n# // deletes the existing model\\n# del nn_model\\n\\n# // returns a compiled model\\nnn_model = load_model('11.2.CNN_model_MNIST_thirdModel.keras')\\n\\n\""
      ]
     },
     "execution_count": 16,
     "metadata": {},
     "output_type": "execute_result"
    }
   ],
   "execution_count": 16
  },
  {
   "metadata": {},
   "cell_type": "markdown",
   "source": "#### Plotting the history (Accuracy and Error plots) ** including the Validation",
   "id": "366cd4aa0a1947e3"
  },
  {
   "metadata": {
    "ExecuteTime": {
     "end_time": "2025-06-27T18:05:36.752281Z",
     "start_time": "2025-06-27T18:05:36.503917Z"
    }
   },
   "cell_type": "code",
   "source": [
    "## Accuracy plot\n",
    "\n",
    "plt.plot(nn_model_fit.history['accuracy'], label= \"train accuracy\", color=\"blue\" )\n",
    "plt.plot(nn_model_fit.history['val_accuracy'], label=\"val accuracy\", color=\"green\" )\n",
    "\n",
    "plt.xlabel('epochs')\n",
    "# plt.legend(['accuracy'] )\n",
    "plt.legend()\n",
    "plt.title('Accuracies')\n",
    "plt.show()"
   ],
   "id": "353cd8c150bbc5ae",
   "outputs": [
    {
     "data": {
      "text/plain": [
       "<Figure size 640x480 with 1 Axes>"
      ],
      "image/png": "[encoded data removed]"
     },
     "metadata": {},
     "output_type": "display_data"
    }
   ],
   "execution_count": 18
  },
  {
   "metadata": {
    "ExecuteTime": {
     "end_time": "2025-06-27T18:05:36.994659Z",
     "start_time": "2025-06-27T18:05:36.783265Z"
    }
   },
   "cell_type": "code",
   "source": [
    "## Error plot\n",
    "\n",
    "loss_plot = plt.plot(nn_model_fit.history['loss'], label = 'train loss', color = \"red\" )\n",
    "\n",
    "val_loss_plot = plt.plot(nn_model_fit.history['val_loss'], label='val loss', color = \"orange\")\n",
    "\n",
    "plt.xlabel('epochs')\n",
    "# plt.legend(['loss'] )\n",
    "plt.legend()\n",
    "plt.title('Losses')\n",
    "plt.show()"
   ],
   "id": "92fe00ddce2567d5",
   "outputs": [
    {
     "data": {
      "text/plain": [
       "<Figure size 640x480 with 1 Axes>"
      ],
      "image/png": "[encoded data removed]"
     },
     "metadata": {},
     "output_type": "display_data"
    }
   ],
   "execution_count": 19
  },
  {
   "metadata": {},
   "cell_type": "markdown",
   "source": "#### Plotting the url MNIST image of \"2\"",
   "id": "2c02db85465a8f4a"
  },
  {
   "metadata": {
    "ExecuteTime": {
     "end_time": "2025-06-27T18:05:41.743789Z",
     "start_time": "2025-06-27T18:05:37.026344Z"
    }
   },
   "cell_type": "code",
   "source": [
    "import requests\n",
    "from PIL import Image  # // Python Imaging Library\n",
    "\n",
    "url = 'https://colah.github.io/posts/2014-10-Visualizing-MNIST/img/mnist_pca/MNIST-p1815-4.png'\n",
    "\n",
    "response = requests.get(url, stream=True)\n",
    "print(response)  # -> <Response [200]>\n",
    "\n",
    "image = Image.open(response.raw)\n",
    "plt.imshow(image)"
   ],
   "id": "5634f8eda69fa20e",
   "outputs": [
    {
     "name": "stdout",
     "output_type": "stream",
     "text": [
      "<Response [200]>\n"
     ]
    },
    {
     "data": {
      "text/plain": [
       "<matplotlib.image.AxesImage at 0x200ff7b64e0>"
      ]
     },
     "execution_count": 20,
     "metadata": {},
     "output_type": "execute_result"
    },
    {
     "data": {
      "text/plain": [
       "<Figure size 640x480 with 1 Axes>"
      ],
      "image/png": "[encoded data removed]"
     },
     "metadata": {},
     "output_type": "display_data"
    }
   ],
   "execution_count": 20
  },
  {
   "metadata": {},
   "cell_type": "markdown",
   "source": [
    "!! Line 565, 567, 568\n",
    "\n",
    "// a link for a MNIST photo of 2\n",
    "\n",
    "// this will take the url of the image.\n",
    "\n",
    "// stream arg = True so that the request doesn't download the entire image into memory\n",
    "\n",
    "// this means it returns 200 which is a signal that there is a response\n",
    "\n",
    "// we can now use the raw content of the response to obtain the image\n",
    "\n",
    "\n",
    "!! Line 570, 571\n",
    "\n",
    "// using the raw content of the response to print the image"
   ],
   "id": "b799ae12b12d878b"
  },
  {
   "metadata": {},
   "cell_type": "markdown",
   "source": "#### Manipulating the image \"2\" to suit our NN Model",
   "id": "de751e6cbeb7a09e"
  },
  {
   "metadata": {
    "ExecuteTime": {
     "end_time": "2025-06-27T18:05:41.904894Z",
     "start_time": "2025-06-27T18:05:41.790059Z"
    }
   },
   "cell_type": "code",
   "source": [
    "import cv2\n",
    "\n",
    "## Convert the image to array\n",
    "image_array = np.asarray(image)\n",
    "print(\"image_array shape: \", image_array.shape) # -> image_array shape: (131, 130, 3)"
   ],
   "id": "b820aa4f16b55466",
   "outputs": [
    {
     "name": "stdout",
     "output_type": "stream",
     "text": [
      "image_array shape:  (131, 130, 3)\n"
     ]
    }
   ],
   "execution_count": 21
  },
  {
   "metadata": {
    "ExecuteTime": {
     "end_time": "2025-06-27T18:05:41.957134Z",
     "start_time": "2025-06-27T18:05:41.951408Z"
    }
   },
   "cell_type": "code",
   "source": [
    "## Resize the image\n",
    "image_resized = cv2.resize(image_array, (28, 28))\n",
    "print(image_resized.shape)  # -> (28, 28, 3)"
   ],
   "id": "21775f582d315af3",
   "outputs": [
    {
     "name": "stdout",
     "output_type": "stream",
     "text": [
      "(28, 28, 3)\n"
     ]
    }
   ],
   "execution_count": 22
  },
  {
   "metadata": {
    "ExecuteTime": {
     "end_time": "2025-06-27T18:05:42.146299Z",
     "start_time": "2025-06-27T18:05:41.995894Z"
    }
   },
   "cell_type": "code",
   "source": [
    "## Convert image to Gray-Scale\n",
    "image_resized_GS = cv2.cvtColor(image_resized, cv2.COLOR_RGB2GRAY)\n",
    "print(image_resized_GS.shape)  # -> (28, 28)\n",
    "plt.imshow(image_resized_GS)"
   ],
   "id": "805c65e2a55ea1dd",
   "outputs": [
    {
     "name": "stdout",
     "output_type": "stream",
     "text": [
      "(28, 28)\n"
     ]
    },
    {
     "data": {
      "text/plain": [
       "<matplotlib.image.AxesImage at 0x200f8714b90>"
      ]
     },
     "execution_count": 23,
     "metadata": {},
     "output_type": "execute_result"
    },
    {
     "data": {
      "text/plain": [
       "<Figure size 640x480 with 1 Axes>"
      ],
      "image/png": "[encoded data removed]"
     },
     "metadata": {},
     "output_type": "display_data"
    }
   ],
   "execution_count": 23
  },
  {
   "metadata": {
    "ExecuteTime": {
     "end_time": "2025-06-27T18:05:42.329418Z",
     "start_time": "2025-06-27T18:05:42.184745Z"
    }
   },
   "cell_type": "code",
   "source": "plt.imshow(image_resized_GS, cmap=plt.get_cmap(\"gray\") )",
   "id": "9384b2a3ac6e3cc0",
   "outputs": [
    {
     "data": {
      "text/plain": [
       "<matplotlib.image.AxesImage at 0x200f860fb60>"
      ]
     },
     "execution_count": 24,
     "metadata": {},
     "output_type": "execute_result"
    },
    {
     "data": {
      "text/plain": [
       "<Figure size 640x480 with 1 Axes>"
      ],
      "image/png": "[encoded data removed]"
     },
     "metadata": {},
     "output_type": "display_data"
    }
   ],
   "execution_count": 24
  },
  {
   "metadata": {
    "ExecuteTime": {
     "end_time": "2025-06-27T18:05:42.496572Z",
     "start_time": "2025-06-27T18:05:42.361616Z"
    }
   },
   "cell_type": "code",
   "source": [
    "## Changing the look of the image\n",
    "image_resized_GS_bit = cv2.bitwise_not(image_resized_GS)\n",
    "plt.imshow(image_resized_GS_bit, cmap=plt.get_cmap(\"gray\") )"
   ],
   "id": "5c02fb08ece12392",
   "outputs": [
    {
     "data": {
      "text/plain": [
       "<matplotlib.image.AxesImage at 0x200f85d7080>"
      ]
     },
     "execution_count": 25,
     "metadata": {},
     "output_type": "execute_result"
    },
    {
     "data": {
      "text/plain": [
       "<Figure size 640x480 with 1 Axes>"
      ],
      "image/png": "[encoded data removed]"
     },
     "metadata": {},
     "output_type": "display_data"
    }
   ],
   "execution_count": 25
  },
  {
   "metadata": {},
   "cell_type": "markdown",
   "source": [
    "!! Lines 602, 603: Convert the image to array\n",
    "\n",
    "'''\n",
    "\n",
    "// this function wasn't discussed before, what it simply does is convert our data into an array\n",
    "\n",
    "'''\n",
    "\n",
    "\n",
    "!! Lines 606, 607: Resize the image\n",
    "\n",
    "'''\n",
    "\n",
    "// we need to resize it to 28x28, because our NN was trained on 28x28 images\n",
    "\n",
    "'''\n",
    "\n",
    "\n",
    "!! Line 611, 613, 614: Convert image to Gray-Scale\n",
    "\n",
    "'''\n",
    "\n",
    "// convert color is the name of the function\n",
    "\n",
    "// we need to convert it to grayscale,\n",
    "\n",
    "// to lower the complexity and resources consumed and also because of the upper reason.\n",
    "\n",
    "// BGR is the same as RGB\n",
    "\n",
    "// so now the image has become 2D\n",
    "\n",
    "// pic \"2\" is like that, because of the default colormap of matplotlib being that color.\n",
    "\n",
    "** Line 614 is the better way to show it.\n",
    "\n",
    "'''\n",
    "\n",
    "\n",
    "!! Lines 617, 618: Changing the look of the image\n",
    "\n",
    "'''\n",
    "\n",
    "// There is a new problem, the NN was trained on images with white numbers and black background.\n",
    "\n",
    "// to solve this, we use the function \"bitwise_not\"\n",
    "\n",
    "// what's that going to do is every 0 pixel value will be 255 and vice versa.\n",
    "\n",
    "// basically entering the pixels through a Not gate like situation.\n",
    "\n",
    "'''"
   ],
   "id": "8f4b4d83c44fef33"
  },
  {
   "metadata": {},
   "cell_type": "markdown",
   "source": "#### Doing the same manipulation we did to the images trained",
   "id": "94a79231c5fe8895"
  },
  {
   "metadata": {
    "ExecuteTime": {
     "end_time": "2025-06-27T18:15:32.948950Z",
     "start_time": "2025-06-27T18:15:32.943431Z"
    }
   },
   "cell_type": "code",
   "source": [
    "image_resized_GS_bit_N = image_resized_GS_bit / 255\n",
    "# image_resized_GS_bit_N = image_resized_GS_bit_N.reshape(1, 784)  # // 1 row and 784 cols\n",
    "image_resized_GS_bit_N = image_resized_GS_bit_N.reshape(1, 28, 28, 1)\n",
    "\n",
    "# plt.imshow(image_resized_GS_bit_N, cmap=plt.get_cmap(\"gray\"))"
   ],
   "id": "6c8bd50d5fd91703",
   "outputs": [],
   "execution_count": 27
  },
  {
   "metadata": {},
   "cell_type": "markdown",
   "source": [
    "// 'resize' is different from 'reshape'.\n",
    "\n",
    "// line 665 is for the old DNN\n",
    "\n",
    "// Line 666 is for the CNN"
   ],
   "id": "f307a2bc2c6c65d"
  },
  {
   "metadata": {
    "ExecuteTime": {
     "end_time": "2025-06-27T18:15:37.685085Z",
     "start_time": "2025-06-27T18:15:37.673544Z"
    }
   },
   "cell_type": "code",
   "source": "print(image_resized_GS_bit_N)",
   "id": "72ec6d47dcb9d12b",
   "outputs": [
    {
     "name": "stdout",
     "output_type": "stream",
     "text": [
      "[[[[0.        ]\n",
      "   [0.        ]\n",
      "   [0.        ]\n",
      "   [0.        ]\n",
      "   [0.        ]\n",
      "   [0.        ]\n",
      "   [0.        ]\n",
      "   [0.        ]\n",
      "   [0.        ]\n",
      "   [0.        ]\n",
      "   [0.        ]\n",
      "   [0.        ]\n",
      "   [0.        ]\n",
      "   [0.        ]\n",
      "   [0.        ]\n",
      "   [0.        ]\n",
      "   [0.        ]\n",
      "   [0.        ]\n",
      "   [0.        ]\n",
      "   [0.        ]\n",
      "   [0.        ]\n",
      "   [0.        ]\n",
      "   [0.        ]\n",
      "   [0.        ]\n",
      "   [0.        ]\n",
      "   [0.        ]\n",
      "   [0.        ]\n",
      "   [0.        ]]\n",
      "\n",
      "  [[0.        ]\n",
      "   [0.        ]\n",
      "   [0.        ]\n",
      "   [0.        ]\n",
      "   [0.        ]\n",
      "   [0.        ]\n",
      "   [0.        ]\n",
      "   [0.        ]\n",
      "   [0.        ]\n",
      "   [0.        ]\n",
      "   [0.        ]\n",
      "   [0.        ]\n",
      "   [0.        ]\n",
      "   [0.        ]\n",
      "   [0.        ]\n",
      "   [0.        ]\n",
      "   [0.        ]\n",
      "   [0.        ]\n",
      "   [0.        ]\n",
      "   [0.        ]\n",
      "   [0.        ]\n",
      "   [0.        ]\n",
      "   [0.        ]\n",
      "   [0.        ]\n",
      "   [0.        ]\n",
      "   [0.        ]\n",
      "   [0.        ]\n",
      "   [0.82352941]]\n",
      "\n",
      "  [[0.        ]\n",
      "   [0.        ]\n",
      "   [0.        ]\n",
      "   [0.        ]\n",
      "   [0.        ]\n",
      "   [0.        ]\n",
      "   [0.        ]\n",
      "   [0.        ]\n",
      "   [0.        ]\n",
      "   [0.        ]\n",
      "   [0.        ]\n",
      "   [0.        ]\n",
      "   [0.        ]\n",
      "   [0.        ]\n",
      "   [0.        ]\n",
      "   [0.        ]\n",
      "   [0.        ]\n",
      "   [0.        ]\n",
      "   [0.        ]\n",
      "   [0.        ]\n",
      "   [0.        ]\n",
      "   [0.        ]\n",
      "   [0.        ]\n",
      "   [0.        ]\n",
      "   [0.        ]\n",
      "   [0.        ]\n",
      "   [0.        ]\n",
      "   [0.82352941]]\n",
      "\n",
      "  [[0.        ]\n",
      "   [0.        ]\n",
      "   [0.        ]\n",
      "   [0.        ]\n",
      "   [0.        ]\n",
      "   [0.        ]\n",
      "   [0.        ]\n",
      "   [0.        ]\n",
      "   [0.        ]\n",
      "   [0.        ]\n",
      "   [0.        ]\n",
      "   [0.        ]\n",
      "   [0.        ]\n",
      "   [0.        ]\n",
      "   [0.        ]\n",
      "   [0.        ]\n",
      "   [0.        ]\n",
      "   [0.        ]\n",
      "   [0.        ]\n",
      "   [0.        ]\n",
      "   [0.        ]\n",
      "   [0.        ]\n",
      "   [0.        ]\n",
      "   [0.        ]\n",
      "   [0.        ]\n",
      "   [0.        ]\n",
      "   [0.        ]\n",
      "   [0.82352941]]\n",
      "\n",
      "  [[0.        ]\n",
      "   [0.        ]\n",
      "   [0.        ]\n",
      "   [0.        ]\n",
      "   [0.        ]\n",
      "   [0.        ]\n",
      "   [0.        ]\n",
      "   [0.        ]\n",
      "   [0.        ]\n",
      "   [0.        ]\n",
      "   [0.        ]\n",
      "   [0.        ]\n",
      "   [0.        ]\n",
      "   [0.        ]\n",
      "   [0.        ]\n",
      "   [0.        ]\n",
      "   [0.2627451 ]\n",
      "   [0.66666667]\n",
      "   [0.99607843]\n",
      "   [0.60784314]\n",
      "   [0.39215686]\n",
      "   [0.06666667]\n",
      "   [0.        ]\n",
      "   [0.        ]\n",
      "   [0.        ]\n",
      "   [0.        ]\n",
      "   [0.        ]\n",
      "   [0.82352941]]\n",
      "\n",
      "  [[0.        ]\n",
      "   [0.        ]\n",
      "   [0.        ]\n",
      "   [0.        ]\n",
      "   [0.        ]\n",
      "   [0.        ]\n",
      "   [0.        ]\n",
      "   [0.        ]\n",
      "   [0.        ]\n",
      "   [0.        ]\n",
      "   [0.        ]\n",
      "   [0.07058824]\n",
      "   [0.34901961]\n",
      "   [0.69019608]\n",
      "   [0.60784314]\n",
      "   [0.77647059]\n",
      "   [0.9372549 ]\n",
      "   [0.98823529]\n",
      "   [0.98823529]\n",
      "   [0.98823529]\n",
      "   [0.98823529]\n",
      "   [0.68235294]\n",
      "   [0.        ]\n",
      "   [0.        ]\n",
      "   [0.        ]\n",
      "   [0.        ]\n",
      "   [0.        ]\n",
      "   [0.81960784]]\n",
      "\n",
      "  [[0.        ]\n",
      "   [0.        ]\n",
      "   [0.        ]\n",
      "   [0.        ]\n",
      "   [0.        ]\n",
      "   [0.        ]\n",
      "   [0.        ]\n",
      "   [0.        ]\n",
      "   [0.        ]\n",
      "   [0.        ]\n",
      "   [0.10588235]\n",
      "   [0.91764706]\n",
      "   [0.98431373]\n",
      "   [0.98823529]\n",
      "   [0.55686275]\n",
      "   [0.10980392]\n",
      "   [0.10980392]\n",
      "   [0.10980392]\n",
      "   [0.24313725]\n",
      "   [0.87058824]\n",
      "   [0.98823529]\n",
      "   [0.96470588]\n",
      "   [0.34117647]\n",
      "   [0.        ]\n",
      "   [0.        ]\n",
      "   [0.        ]\n",
      "   [0.        ]\n",
      "   [0.82352941]]\n",
      "\n",
      "  [[0.        ]\n",
      "   [0.        ]\n",
      "   [0.        ]\n",
      "   [0.        ]\n",
      "   [0.        ]\n",
      "   [0.        ]\n",
      "   [0.        ]\n",
      "   [0.        ]\n",
      "   [0.        ]\n",
      "   [0.        ]\n",
      "   [0.10980392]\n",
      "   [0.89411765]\n",
      "   [0.95294118]\n",
      "   [0.89803922]\n",
      "   [0.46666667]\n",
      "   [0.00784314]\n",
      "   [0.00784314]\n",
      "   [0.00784314]\n",
      "   [0.07058824]\n",
      "   [0.7254902 ]\n",
      "   [0.98823529]\n",
      "   [0.96862745]\n",
      "   [0.34509804]\n",
      "   [0.        ]\n",
      "   [0.        ]\n",
      "   [0.        ]\n",
      "   [0.        ]\n",
      "   [0.82352941]]\n",
      "\n",
      "  [[0.        ]\n",
      "   [0.        ]\n",
      "   [0.        ]\n",
      "   [0.        ]\n",
      "   [0.        ]\n",
      "   [0.        ]\n",
      "   [0.        ]\n",
      "   [0.        ]\n",
      "   [0.        ]\n",
      "   [0.        ]\n",
      "   [0.        ]\n",
      "   [0.        ]\n",
      "   [0.27058824]\n",
      "   [0.        ]\n",
      "   [0.        ]\n",
      "   [0.        ]\n",
      "   [0.        ]\n",
      "   [0.        ]\n",
      "   [0.        ]\n",
      "   [0.63137255]\n",
      "   [0.98823529]\n",
      "   [0.77647059]\n",
      "   [0.        ]\n",
      "   [0.        ]\n",
      "   [0.        ]\n",
      "   [0.        ]\n",
      "   [0.        ]\n",
      "   [0.82352941]]\n",
      "\n",
      "  [[0.        ]\n",
      "   [0.        ]\n",
      "   [0.        ]\n",
      "   [0.        ]\n",
      "   [0.        ]\n",
      "   [0.        ]\n",
      "   [0.        ]\n",
      "   [0.        ]\n",
      "   [0.        ]\n",
      "   [0.        ]\n",
      "   [0.        ]\n",
      "   [0.        ]\n",
      "   [0.01568627]\n",
      "   [0.        ]\n",
      "   [0.        ]\n",
      "   [0.        ]\n",
      "   [0.        ]\n",
      "   [0.        ]\n",
      "   [0.40784314]\n",
      "   [0.94901961]\n",
      "   [0.98823529]\n",
      "   [0.77647059]\n",
      "   [0.        ]\n",
      "   [0.        ]\n",
      "   [0.        ]\n",
      "   [0.        ]\n",
      "   [0.        ]\n",
      "   [0.82352941]]\n",
      "\n",
      "  [[0.        ]\n",
      "   [0.        ]\n",
      "   [0.        ]\n",
      "   [0.        ]\n",
      "   [0.        ]\n",
      "   [0.        ]\n",
      "   [0.        ]\n",
      "   [0.        ]\n",
      "   [0.        ]\n",
      "   [0.        ]\n",
      "   [0.        ]\n",
      "   [0.        ]\n",
      "   [0.        ]\n",
      "   [0.        ]\n",
      "   [0.        ]\n",
      "   [0.        ]\n",
      "   [0.        ]\n",
      "   [0.        ]\n",
      "   [0.84313725]\n",
      "   [0.98823529]\n",
      "   [0.98823529]\n",
      "   [0.3372549 ]\n",
      "   [0.        ]\n",
      "   [0.        ]\n",
      "   [0.        ]\n",
      "   [0.        ]\n",
      "   [0.        ]\n",
      "   [0.82352941]]\n",
      "\n",
      "  [[0.        ]\n",
      "   [0.        ]\n",
      "   [0.        ]\n",
      "   [0.        ]\n",
      "   [0.        ]\n",
      "   [0.        ]\n",
      "   [0.        ]\n",
      "   [0.        ]\n",
      "   [0.        ]\n",
      "   [0.        ]\n",
      "   [0.        ]\n",
      "   [0.        ]\n",
      "   [0.        ]\n",
      "   [0.        ]\n",
      "   [0.        ]\n",
      "   [0.        ]\n",
      "   [0.        ]\n",
      "   [0.23529412]\n",
      "   [0.91764706]\n",
      "   [0.98823529]\n",
      "   [0.76862745]\n",
      "   [0.08235294]\n",
      "   [0.        ]\n",
      "   [0.        ]\n",
      "   [0.        ]\n",
      "   [0.        ]\n",
      "   [0.        ]\n",
      "   [0.82352941]]\n",
      "\n",
      "  [[0.        ]\n",
      "   [0.        ]\n",
      "   [0.        ]\n",
      "   [0.        ]\n",
      "   [0.        ]\n",
      "   [0.        ]\n",
      "   [0.        ]\n",
      "   [0.        ]\n",
      "   [0.        ]\n",
      "   [0.        ]\n",
      "   [0.        ]\n",
      "   [0.        ]\n",
      "   [0.        ]\n",
      "   [0.        ]\n",
      "   [0.        ]\n",
      "   [0.        ]\n",
      "   [0.23921569]\n",
      "   [0.94117647]\n",
      "   [0.88627451]\n",
      "   [0.98039216]\n",
      "   [0.39215686]\n",
      "   [0.        ]\n",
      "   [0.        ]\n",
      "   [0.        ]\n",
      "   [0.        ]\n",
      "   [0.        ]\n",
      "   [0.        ]\n",
      "   [0.82352941]]\n",
      "\n",
      "  [[0.        ]\n",
      "   [0.        ]\n",
      "   [0.        ]\n",
      "   [0.        ]\n",
      "   [0.        ]\n",
      "   [0.        ]\n",
      "   [0.        ]\n",
      "   [0.        ]\n",
      "   [0.        ]\n",
      "   [0.        ]\n",
      "   [0.        ]\n",
      "   [0.        ]\n",
      "   [0.        ]\n",
      "   [0.        ]\n",
      "   [0.        ]\n",
      "   [0.02352941]\n",
      "   [0.69019608]\n",
      "   [0.98823529]\n",
      "   [0.98823529]\n",
      "   [0.95686275]\n",
      "   [0.        ]\n",
      "   [0.        ]\n",
      "   [0.        ]\n",
      "   [0.        ]\n",
      "   [0.        ]\n",
      "   [0.        ]\n",
      "   [0.        ]\n",
      "   [0.82352941]]\n",
      "\n",
      "  [[0.        ]\n",
      "   [0.        ]\n",
      "   [0.        ]\n",
      "   [0.        ]\n",
      "   [0.        ]\n",
      "   [0.        ]\n",
      "   [0.        ]\n",
      "   [0.        ]\n",
      "   [0.        ]\n",
      "   [0.27843137]\n",
      "   [0.48235294]\n",
      "   [0.48235294]\n",
      "   [0.48235294]\n",
      "   [0.48235294]\n",
      "   [0.48235294]\n",
      "   [0.61960784]\n",
      "   [0.98823529]\n",
      "   [0.98823529]\n",
      "   [0.98823529]\n",
      "   [0.6627451 ]\n",
      "   [0.        ]\n",
      "   [0.        ]\n",
      "   [0.        ]\n",
      "   [0.        ]\n",
      "   [0.        ]\n",
      "   [0.        ]\n",
      "   [0.        ]\n",
      "   [0.82352941]]\n",
      "\n",
      "  [[0.        ]\n",
      "   [0.        ]\n",
      "   [0.        ]\n",
      "   [0.        ]\n",
      "   [0.        ]\n",
      "   [0.        ]\n",
      "   [0.        ]\n",
      "   [0.21176471]\n",
      "   [0.86666667]\n",
      "   [0.9372549 ]\n",
      "   [0.95294118]\n",
      "   [0.71372549]\n",
      "   [0.96470588]\n",
      "   [0.98823529]\n",
      "   [0.98823529]\n",
      "   [0.98823529]\n",
      "   [0.98823529]\n",
      "   [0.98823529]\n",
      "   [0.77254902]\n",
      "   [0.03921569]\n",
      "   [0.        ]\n",
      "   [0.        ]\n",
      "   [0.        ]\n",
      "   [0.        ]\n",
      "   [0.        ]\n",
      "   [0.        ]\n",
      "   [0.        ]\n",
      "   [0.82352941]]\n",
      "\n",
      "  [[0.        ]\n",
      "   [0.        ]\n",
      "   [0.        ]\n",
      "   [0.        ]\n",
      "   [0.        ]\n",
      "   [0.        ]\n",
      "   [0.45098039]\n",
      "   [0.73333333]\n",
      "   [0.98431373]\n",
      "   [0.83137255]\n",
      "   [0.28627451]\n",
      "   [0.        ]\n",
      "   [0.53333333]\n",
      "   [0.98823529]\n",
      "   [0.98823529]\n",
      "   [0.98823529]\n",
      "   [0.98823529]\n",
      "   [0.98823529]\n",
      "   [0.74509804]\n",
      "   [0.        ]\n",
      "   [0.        ]\n",
      "   [0.        ]\n",
      "   [0.        ]\n",
      "   [0.        ]\n",
      "   [0.        ]\n",
      "   [0.        ]\n",
      "   [0.        ]\n",
      "   [0.82352941]]\n",
      "\n",
      "  [[0.        ]\n",
      "   [0.        ]\n",
      "   [0.        ]\n",
      "   [0.        ]\n",
      "   [0.        ]\n",
      "   [0.10588235]\n",
      "   [0.91372549]\n",
      "   [0.96470588]\n",
      "   [0.54901961]\n",
      "   [0.22745098]\n",
      "   [0.05490196]\n",
      "   [0.45098039]\n",
      "   [0.94117647]\n",
      "   [0.98823529]\n",
      "   [0.98823529]\n",
      "   [0.98823529]\n",
      "   [0.98823529]\n",
      "   [0.98823529]\n",
      "   [0.85490196]\n",
      "   [0.16078431]\n",
      "   [0.        ]\n",
      "   [0.        ]\n",
      "   [0.        ]\n",
      "   [0.        ]\n",
      "   [0.        ]\n",
      "   [0.        ]\n",
      "   [0.        ]\n",
      "   [0.82352941]]\n",
      "\n",
      "  [[0.        ]\n",
      "   [0.        ]\n",
      "   [0.        ]\n",
      "   [0.        ]\n",
      "   [0.10980392]\n",
      "   [0.76862745]\n",
      "   [0.91764706]\n",
      "   [0.69019608]\n",
      "   [0.17254902]\n",
      "   [0.56078431]\n",
      "   [0.86666667]\n",
      "   [0.98823529]\n",
      "   [0.98823529]\n",
      "   [0.98431373]\n",
      "   [0.83529412]\n",
      "   [0.70588235]\n",
      "   [0.8745098 ]\n",
      "   [0.98823529]\n",
      "   [0.98823529]\n",
      "   [0.8745098 ]\n",
      "   [0.        ]\n",
      "   [0.        ]\n",
      "   [0.        ]\n",
      "   [0.        ]\n",
      "   [0.        ]\n",
      "   [0.        ]\n",
      "   [0.        ]\n",
      "   [0.82352941]]\n",
      "\n",
      "  [[0.        ]\n",
      "   [0.        ]\n",
      "   [0.        ]\n",
      "   [0.        ]\n",
      "   [0.39215686]\n",
      "   [0.98823529]\n",
      "   [0.74901961]\n",
      "   [0.58823529]\n",
      "   [0.81568627]\n",
      "   [0.9254902 ]\n",
      "   [0.98823529]\n",
      "   [0.98823529]\n",
      "   [0.98039216]\n",
      "   [0.90196078]\n",
      "   [0.18039216]\n",
      "   [0.        ]\n",
      "   [0.2745098 ]\n",
      "   [0.97254902]\n",
      "   [0.98823529]\n",
      "   [0.95686275]\n",
      "   [0.01568627]\n",
      "   [0.        ]\n",
      "   [0.        ]\n",
      "   [0.        ]\n",
      "   [0.        ]\n",
      "   [0.        ]\n",
      "   [0.        ]\n",
      "   [0.82352941]]\n",
      "\n",
      "  [[0.        ]\n",
      "   [0.        ]\n",
      "   [0.        ]\n",
      "   [0.        ]\n",
      "   [0.35686275]\n",
      "   [0.92156863]\n",
      "   [0.98823529]\n",
      "   [0.98823529]\n",
      "   [0.98823529]\n",
      "   [0.9372549 ]\n",
      "   [0.87058824]\n",
      "   [0.65490196]\n",
      "   [0.25882353]\n",
      "   [0.        ]\n",
      "   [0.        ]\n",
      "   [0.        ]\n",
      "   [0.        ]\n",
      "   [0.45098039]\n",
      "   [0.98823529]\n",
      "   [0.98823529]\n",
      "   [0.84705882]\n",
      "   [0.11372549]\n",
      "   [0.        ]\n",
      "   [0.        ]\n",
      "   [0.        ]\n",
      "   [0.        ]\n",
      "   [0.        ]\n",
      "   [0.82352941]]\n",
      "\n",
      "  [[0.        ]\n",
      "   [0.        ]\n",
      "   [0.        ]\n",
      "   [0.        ]\n",
      "   [0.28235294]\n",
      "   [0.75686275]\n",
      "   [0.93333333]\n",
      "   [0.93333333]\n",
      "   [0.93333333]\n",
      "   [0.80392157]\n",
      "   [0.63921569]\n",
      "   [0.15686275]\n",
      "   [0.01176471]\n",
      "   [0.        ]\n",
      "   [0.        ]\n",
      "   [0.        ]\n",
      "   [0.        ]\n",
      "   [0.45098039]\n",
      "   [0.98823529]\n",
      "   [0.98823529]\n",
      "   [0.96470588]\n",
      "   [0.16470588]\n",
      "   [0.        ]\n",
      "   [0.        ]\n",
      "   [0.        ]\n",
      "   [0.        ]\n",
      "   [0.        ]\n",
      "   [0.82352941]]\n",
      "\n",
      "  [[0.        ]\n",
      "   [0.        ]\n",
      "   [0.        ]\n",
      "   [0.        ]\n",
      "   [0.        ]\n",
      "   [0.01960784]\n",
      "   [0.09019608]\n",
      "   [0.09019608]\n",
      "   [0.09019608]\n",
      "   [0.03921569]\n",
      "   [0.        ]\n",
      "   [0.        ]\n",
      "   [0.        ]\n",
      "   [0.        ]\n",
      "   [0.        ]\n",
      "   [0.        ]\n",
      "   [0.        ]\n",
      "   [0.10588235]\n",
      "   [0.23137255]\n",
      "   [0.23137255]\n",
      "   [0.16862745]\n",
      "   [0.01568627]\n",
      "   [0.        ]\n",
      "   [0.        ]\n",
      "   [0.        ]\n",
      "   [0.        ]\n",
      "   [0.        ]\n",
      "   [0.81960784]]\n",
      "\n",
      "  [[0.        ]\n",
      "   [0.        ]\n",
      "   [0.        ]\n",
      "   [0.        ]\n",
      "   [0.        ]\n",
      "   [0.        ]\n",
      "   [0.        ]\n",
      "   [0.        ]\n",
      "   [0.        ]\n",
      "   [0.        ]\n",
      "   [0.        ]\n",
      "   [0.        ]\n",
      "   [0.        ]\n",
      "   [0.        ]\n",
      "   [0.        ]\n",
      "   [0.        ]\n",
      "   [0.        ]\n",
      "   [0.        ]\n",
      "   [0.        ]\n",
      "   [0.        ]\n",
      "   [0.        ]\n",
      "   [0.        ]\n",
      "   [0.        ]\n",
      "   [0.        ]\n",
      "   [0.        ]\n",
      "   [0.        ]\n",
      "   [0.        ]\n",
      "   [0.82352941]]\n",
      "\n",
      "  [[0.        ]\n",
      "   [0.        ]\n",
      "   [0.        ]\n",
      "   [0.        ]\n",
      "   [0.        ]\n",
      "   [0.        ]\n",
      "   [0.        ]\n",
      "   [0.        ]\n",
      "   [0.        ]\n",
      "   [0.        ]\n",
      "   [0.        ]\n",
      "   [0.        ]\n",
      "   [0.        ]\n",
      "   [0.        ]\n",
      "   [0.        ]\n",
      "   [0.        ]\n",
      "   [0.        ]\n",
      "   [0.        ]\n",
      "   [0.        ]\n",
      "   [0.        ]\n",
      "   [0.        ]\n",
      "   [0.        ]\n",
      "   [0.        ]\n",
      "   [0.        ]\n",
      "   [0.        ]\n",
      "   [0.        ]\n",
      "   [0.        ]\n",
      "   [0.82352941]]\n",
      "\n",
      "  [[0.        ]\n",
      "   [0.        ]\n",
      "   [0.        ]\n",
      "   [0.        ]\n",
      "   [0.        ]\n",
      "   [0.        ]\n",
      "   [0.        ]\n",
      "   [0.        ]\n",
      "   [0.        ]\n",
      "   [0.        ]\n",
      "   [0.        ]\n",
      "   [0.        ]\n",
      "   [0.        ]\n",
      "   [0.        ]\n",
      "   [0.        ]\n",
      "   [0.        ]\n",
      "   [0.        ]\n",
      "   [0.        ]\n",
      "   [0.        ]\n",
      "   [0.        ]\n",
      "   [0.        ]\n",
      "   [0.        ]\n",
      "   [0.        ]\n",
      "   [0.        ]\n",
      "   [0.        ]\n",
      "   [0.        ]\n",
      "   [0.        ]\n",
      "   [0.82352941]]\n",
      "\n",
      "  [[0.        ]\n",
      "   [0.        ]\n",
      "   [0.        ]\n",
      "   [0.        ]\n",
      "   [0.        ]\n",
      "   [0.        ]\n",
      "   [0.        ]\n",
      "   [0.        ]\n",
      "   [0.        ]\n",
      "   [0.        ]\n",
      "   [0.        ]\n",
      "   [0.        ]\n",
      "   [0.        ]\n",
      "   [0.        ]\n",
      "   [0.        ]\n",
      "   [0.        ]\n",
      "   [0.        ]\n",
      "   [0.        ]\n",
      "   [0.        ]\n",
      "   [0.        ]\n",
      "   [0.        ]\n",
      "   [0.        ]\n",
      "   [0.        ]\n",
      "   [0.        ]\n",
      "   [0.        ]\n",
      "   [0.        ]\n",
      "   [0.        ]\n",
      "   [0.82352941]]\n",
      "\n",
      "  [[0.        ]\n",
      "   [0.        ]\n",
      "   [0.        ]\n",
      "   [0.        ]\n",
      "   [0.        ]\n",
      "   [0.        ]\n",
      "   [0.        ]\n",
      "   [0.        ]\n",
      "   [0.        ]\n",
      "   [0.        ]\n",
      "   [0.        ]\n",
      "   [0.        ]\n",
      "   [0.        ]\n",
      "   [0.        ]\n",
      "   [0.        ]\n",
      "   [0.        ]\n",
      "   [0.        ]\n",
      "   [0.        ]\n",
      "   [0.        ]\n",
      "   [0.        ]\n",
      "   [0.        ]\n",
      "   [0.        ]\n",
      "   [0.        ]\n",
      "   [0.        ]\n",
      "   [0.        ]\n",
      "   [0.        ]\n",
      "   [0.        ]\n",
      "   [0.        ]]]]\n"
     ]
    }
   ],
   "execution_count": 28
  },
  {
   "metadata": {},
   "cell_type": "markdown",
   "source": "#### Model's Prediction for image \"2\"",
   "id": "521b752bb231e47e"
  },
  {
   "metadata": {
    "ExecuteTime": {
     "end_time": "2025-06-27T18:15:58.108613Z",
     "start_time": "2025-06-27T18:15:57.652947Z"
    }
   },
   "cell_type": "code",
   "source": [
    "nn_model_class_prediction = np.argmax(nn_model.predict(image_resized_GS_bit_N), axis=1)\n",
    "print(\"Model's prediction for the image of \\\"2\\\" is: \" + str(nn_model_class_prediction))"
   ],
   "id": "3be6e4d647147bda",
   "outputs": [
    {
     "name": "stdout",
     "output_type": "stream",
     "text": [
      "\u001B[1m1/1\u001B[0m \u001B[32m━━━━━━━━━━━━━━━━━━━━\u001B[0m\u001B[37m\u001B[0m \u001B[1m0s\u001B[0m 398ms/step\n",
      "Model's prediction for the image of \"2\" is: [2]\n"
     ]
    }
   ],
   "execution_count": 29
  },
  {
   "metadata": {},
   "cell_type": "markdown",
   "source": "#### Plotting the url MNIST image of \"3\"",
   "id": "54cd81d0d6a29d47"
  },
  {
   "metadata": {
    "ExecuteTime": {
     "end_time": "2025-06-27T18:16:04.730970Z",
     "start_time": "2025-06-27T18:16:03.001561Z"
    }
   },
   "cell_type": "code",
   "source": [
    "import requests\n",
    "from PIL import Image  # // Python Imaging Library\n",
    "\n",
    "url = 'https://printables.space/files/uploads/download-and-print/large-printable-numbers/3-a4-1200x1697.jpg'\n",
    "\n",
    "response = requests.get(url, stream=True)\n",
    "print(response)  # -> <Response [200]>\n",
    "\n",
    "image = Image.open(response.raw)\n",
    "plt.imshow(image)"
   ],
   "id": "86de2572c690c3c4",
   "outputs": [
    {
     "name": "stdout",
     "output_type": "stream",
     "text": [
      "<Response [200]>\n"
     ]
    },
    {
     "data": {
      "text/plain": [
       "<matplotlib.image.AxesImage at 0x200ff794dd0>"
      ]
     },
     "execution_count": 30,
     "metadata": {},
     "output_type": "execute_result"
    },
    {
     "data": {
      "text/plain": [
       "<Figure size 640x480 with 1 Axes>"
      ],
      "image/png": "[encoded data removed]"
     },
     "metadata": {},
     "output_type": "display_data"
    }
   ],
   "execution_count": 30
  },
  {
   "metadata": {},
   "cell_type": "markdown",
   "source": "#### Manipulating the image \"3\" to suit our NN Model",
   "id": "34ae0269975ab9f5"
  },
  {
   "metadata": {
    "ExecuteTime": {
     "end_time": "2025-06-27T18:16:09.509395Z",
     "start_time": "2025-06-27T18:16:09.498949Z"
    }
   },
   "cell_type": "code",
   "source": [
    "import cv2\n",
    "\n",
    "## Convert the image to array\n",
    "image_array = np.asarray(image)\n",
    "print(\"image_array shape: \", image_array.shape) # -> image_array shape: (131, 130, 3)\n",
    "\n",
    "## Resize the image\n",
    "image_resized = cv2.resize(image_array, (28, 28))\n",
    "print(image_resized.shape)  # -> (28, 28, 3)"
   ],
   "id": "19ae77d62f15a3a4",
   "outputs": [
    {
     "name": "stdout",
     "output_type": "stream",
     "text": [
      "image_array shape:  (1697, 1200, 3)\n",
      "(28, 28, 3)\n"
     ]
    }
   ],
   "execution_count": 31
  },
  {
   "metadata": {
    "ExecuteTime": {
     "end_time": "2025-06-27T18:16:11.032790Z",
     "start_time": "2025-06-27T18:16:10.901132Z"
    }
   },
   "cell_type": "code",
   "source": [
    "## Convert image to Gray-Scale\n",
    "image_resized_GS = cv2.cvtColor(image_resized, cv2.COLOR_RGB2GRAY)\n",
    "print(image_resized_GS.shape)  # -> (28, 28)\n",
    "plt.imshow(image_resized_GS)"
   ],
   "id": "de43d2d7164ef55d",
   "outputs": [
    {
     "name": "stdout",
     "output_type": "stream",
     "text": [
      "(28, 28)\n"
     ]
    },
    {
     "data": {
      "text/plain": [
       "<matplotlib.image.AxesImage at 0x200f25d8860>"
      ]
     },
     "execution_count": 32,
     "metadata": {},
     "output_type": "execute_result"
    },
    {
     "data": {
      "text/plain": [
       "<Figure size 640x480 with 1 Axes>"
      ],
      "image/png": "[encoded data removed]"
     },
     "metadata": {},
     "output_type": "display_data"
    }
   ],
   "execution_count": 32
  },
  {
   "metadata": {
    "ExecuteTime": {
     "end_time": "2025-06-27T18:16:15.541259Z",
     "start_time": "2025-06-27T18:16:15.408889Z"
    }
   },
   "cell_type": "code",
   "source": "plt.imshow(image_resized_GS, cmap=plt.get_cmap(\"gray\") )",
   "id": "fdf0390a79f7436",
   "outputs": [
    {
     "data": {
      "text/plain": [
       "<matplotlib.image.AxesImage at 0x200ffab68d0>"
      ]
     },
     "execution_count": 33,
     "metadata": {},
     "output_type": "execute_result"
    },
    {
     "data": {
      "text/plain": [
       "<Figure size 640x480 with 1 Axes>"
      ],
      "image/png": "[encoded data removed]"
     },
     "metadata": {},
     "output_type": "display_data"
    }
   ],
   "execution_count": 33
  },
  {
   "metadata": {
    "ExecuteTime": {
     "end_time": "2025-06-27T18:16:44.642827Z",
     "start_time": "2025-06-27T18:16:44.247914Z"
    }
   },
   "cell_type": "code",
   "source": [
    "## Changing the look of the image\n",
    "image_resized_GS_bit = cv2.bitwise_not(image_resized_GS)\n",
    "plt.imshow(image_resized_GS_bit, cmap=plt.get_cmap(\"gray\") )"
   ],
   "id": "15e74997e749717c",
   "outputs": [
    {
     "data": {
      "text/plain": [
       "<matplotlib.image.AxesImage at 0x20097aea990>"
      ]
     },
     "execution_count": 35,
     "metadata": {},
     "output_type": "execute_result"
    },
    {
     "data": {
      "text/plain": [
       "<Figure size 640x480 with 1 Axes>"
      ],
      "image/png": "[encoded data removed]"
     },
     "metadata": {},
     "output_type": "display_data"
    }
   ],
   "execution_count": 35
  },
  {
   "metadata": {},
   "cell_type": "markdown",
   "source": "#### Doing the same manipulation we did to the images trained",
   "id": "fcd3d8d19f0e44e1"
  },
  {
   "metadata": {
    "ExecuteTime": {
     "end_time": "2025-06-27T18:16:48.802437Z",
     "start_time": "2025-06-27T18:16:48.796947Z"
    }
   },
   "cell_type": "code",
   "source": [
    "image_resized_GS_bit_N = image_resized_GS_bit / 255\n",
    "# image_resized_GS_bit_N = image_resized_GS_bit_N.reshape(1, 784)  # // 1 row and 784 cols\n",
    "image_resized_GS_bit_N = image_resized_GS_bit_N.reshape(1, 28, 28, 1)"
   ],
   "id": "3622464c165fe405",
   "outputs": [],
   "execution_count": 36
  },
  {
   "metadata": {
    "ExecuteTime": {
     "end_time": "2025-06-27T18:16:50.684187Z",
     "start_time": "2025-06-27T18:16:50.545735Z"
    }
   },
   "cell_type": "code",
   "source": "plt.imshow(image_resized_GS_bit, cmap=plt.get_cmap(\"gray\"))",
   "id": "994a297ad83b649c",
   "outputs": [
    {
     "data": {
      "text/plain": [
       "<matplotlib.image.AxesImage at 0x20097ae9190>"
      ]
     },
     "execution_count": 37,
     "metadata": {},
     "output_type": "execute_result"
    },
    {
     "data": {
      "text/plain": [
       "<Figure size 640x480 with 1 Axes>"
      ],
      "image/png": "[encoded data removed]"
     },
     "metadata": {},
     "output_type": "display_data"
    }
   ],
   "execution_count": 37
  },
  {
   "metadata": {},
   "cell_type": "markdown",
   "source": "#### Model's Prediction for image \"3\"",
   "id": "e589d13b620d12c9"
  },
  {
   "metadata": {
    "ExecuteTime": {
     "end_time": "2025-06-27T18:16:57.835315Z",
     "start_time": "2025-06-27T18:16:57.769243Z"
    }
   },
   "cell_type": "code",
   "source": [
    "nn_model_class_prediction = np.argmax(nn_model.predict(image_resized_GS_bit_N), axis=1)\n",
    "print(\"Model's prediction for the image of \\\"3\\\" is: \" + str(nn_model_class_prediction))"
   ],
   "id": "8fdc102accd7e490",
   "outputs": [
    {
     "name": "stdout",
     "output_type": "stream",
     "text": [
      "\u001B[1m1/1\u001B[0m \u001B[32m━━━━━━━━━━━━━━━━━━━━\u001B[0m\u001B[37m\u001B[0m \u001B[1m0s\u001B[0m 20ms/step\n",
      "Model's prediction for the image of \"3\" is: [3]\n"
     ]
    }
   ],
   "execution_count": 38
  }
 ],
 "metadata": {
  "kernelspec": {
   "display_name": "Python 3",
   "language": "python",
   "name": "python3"
  },
  "language_info": {
   "codemirror_mode": {
    "name": "ipython",
    "version": 2
   },
   "file_extension": ".py",
   "mimetype": "text/x-python",
   "name": "python",
   "nbconvert_exporter": "python",
   "pygments_lexer": "ipython2",
   "version": "2.7.6"
  }
 },
 "nbformat": 4,
 "nbformat_minor": 5
}
