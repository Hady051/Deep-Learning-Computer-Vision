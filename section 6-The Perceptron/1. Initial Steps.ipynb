{
 "cells": [
  {
   "metadata": {},
   "cell_type": "markdown",
   "source": "## Initial steps - making and plotting the points",
   "id": "c8359b0e63e374e0"
  },
  {
   "cell_type": "code",
   "id": "initial_id",
   "metadata": {
    "collapsed": true,
    "ExecuteTime": {
     "end_time": "2025-06-27T13:36:37.620703Z",
     "start_time": "2025-06-27T13:36:35.447987Z"
    }
   },
   "source": [
    "import numpy as np\n",
    "import matplotlib.pyplot as plt\n",
    "import matplotlib"
   ],
   "outputs": [],
   "execution_count": 1
  },
  {
   "metadata": {
    "ExecuteTime": {
     "end_time": "2025-06-27T13:36:38.044247Z",
     "start_time": "2025-06-27T13:36:37.826420Z"
    }
   },
   "cell_type": "code",
   "source": [
    "number_of_points = 50\n",
    "\n",
    "np.random.seed(3) # // to make the random variables constant\n",
    "\n",
    "random_x1_values = np.random.normal(10, 2, number_of_points)  # // points according to the horizontal axis\n",
    "# print(random_x1_values)\n",
    "random_x2_values = np.random.normal(12, 2, number_of_points)  # // points according to the vertical axis\n",
    "\n",
    "top_region_points = np.array([random_x1_values, random_x2_values]).T\n",
    "print(top_region_points)   # // this way we will have each row has 2 elements (points location)->(x1, x2)"
   ],
   "id": "afe3100631a59b59",
   "outputs": [
    {
     "name": "stdout",
     "output_type": "stream",
     "text": [
      "[[13.57725695 14.02636688]\n",
      " [10.8730197  13.70559568]\n",
      " [10.19299494 14.216375  ]\n",
      " [ 6.27301459 14.23878131]\n",
      " [ 9.44522359 14.97508626]\n",
      " [ 9.29048204  9.76339863]\n",
      " [ 9.83451704 13.69166681]\n",
      " [ 8.74599865  8.27822094]\n",
      " [ 9.91236366 10.79422979]\n",
      " [ 9.04556394  8.17105591]\n",
      " [ 7.37227049 14.09629502]\n",
      " [11.76924476 14.66747564]\n",
      " [11.76263608 11.60517064]\n",
      " [13.41914613 15.54929006]\n",
      " [10.10006728 10.65054498]\n",
      " [ 9.19064517 12.30123373]\n",
      " [ 8.9092801  12.30589141]\n",
      " [ 6.90704537  9.87160945]\n",
      " [11.96473487 12.87589322]\n",
      " [ 7.79786474 15.87795692]\n",
      " [ 7.62990695  9.95013825]\n",
      " [ 9.5887002  13.79867689]\n",
      " [12.97229671 11.6909863 ]\n",
      " [10.47343253 15.53925461]\n",
      " [ 7.95242972 12.9675767 ]\n",
      " [ 8.5740136  13.3524328 ]\n",
      " [11.25048993 13.28632656]\n",
      " [ 9.67897327 12.49817341]\n",
      " [ 8.4623273   9.20847299]\n",
      " [ 9.53993856 14.78332582]\n",
      " [11.49011253  9.25866197]\n",
      " [13.95222157 12.47712638]\n",
      " [ 7.51175334 13.22815418]\n",
      " [ 8.74716618 10.32417545]\n",
      " [ 8.39246781 12.29012643]\n",
      " [ 5.16183365 14.33576457]\n",
      " [ 8.15241596 11.95179106]\n",
      " [ 7.95224848 10.22268516]\n",
      " [12.24795592  6.1685245 ]\n",
      " [ 9.73617153 10.05631899]\n",
      " [ 6.75342911 10.81784252]\n",
      " [11.2933509  10.96716526]\n",
      " [ 9.28745848 10.08000764]\n",
      " [ 6.51371793 12.75459047]\n",
      " [ 8.80670072 10.85058316]\n",
      " [ 8.82281124 11.78109133]\n",
      " [ 8.2522354  13.3581432 ]\n",
      " [10.05942763 10.28912566]\n",
      " [ 5.50348446 11.39958785]\n",
      " [ 9.46447627 16.31629868]]\n"
     ]
    }
   ],
   "execution_count": 2
  },
  {
   "metadata": {
    "ExecuteTime": {
     "end_time": "2025-06-27T13:36:38.078111Z",
     "start_time": "2025-06-27T13:36:38.071922Z"
    }
   },
   "cell_type": "code",
   "source": [
    "## bottom region\n",
    "random_x1_values_2 = np.random.normal(5, 2, number_of_points)\n",
    "random_x2_values_2 = np.random.normal(6, 2, number_of_points)\n",
    "bottom_region_points = np.array([random_x1_values_2, random_x2_values_2]).T"
   ],
   "id": "300b2e54a65a93cb",
   "outputs": [],
   "execution_count": 3
  },
  {
   "metadata": {},
   "cell_type": "markdown",
   "source": "## display the points",
   "id": "bf4551c5d04c84a9"
  },
  {
   "metadata": {
    "ExecuteTime": {
     "end_time": "2025-06-27T13:36:38.699703Z",
     "start_time": "2025-06-27T13:36:38.099541Z"
    }
   },
   "cell_type": "code",
   "source": [
    "_, axis = plt.subplots(figsize=(4, 4) )\n",
    "# // this returns a tuple, so we can unpack it to fig, axis, since we won't use fig, leave it blank\n",
    "axis.scatter(top_region_points[:, 0], top_region_points[:, 1], color='r')\n",
    "# // the horizontal points(coordinates) and the vertical points(coordinates), the color\n",
    "axis.scatter(bottom_region_points[:, 0], bottom_region_points[:, 1], color='b')\n",
    "# // the horizontal points(coordinates) and the vertical points(coordinates), the color\n",
    "plt.show()"
   ],
   "id": "4a92acdf1f3b2cb8",
   "outputs": [
    {
     "data": {
      "text/plain": [
       "<Figure size 400x400 with 1 Axes>"
      ],
      "image/png": "[encoded data removed]"
     },
     "metadata": {},
     "output_type": "display_data"
    }
   ],
   "execution_count": 4
  }
 ],
 "metadata": {
  "kernelspec": {
   "display_name": "Python 3",
   "language": "python",
   "name": "python3"
  },
  "language_info": {
   "codemirror_mode": {
    "name": "ipython",
    "version": 2
   },
   "file_extension": ".py",
   "mimetype": "text/x-python",
   "name": "python",
   "nbconvert_exporter": "python",
   "pygments_lexer": "ipython2",
   "version": "2.7.6"
  }
 },
 "nbformat": 4,
 "nbformat_minor": 5
}
