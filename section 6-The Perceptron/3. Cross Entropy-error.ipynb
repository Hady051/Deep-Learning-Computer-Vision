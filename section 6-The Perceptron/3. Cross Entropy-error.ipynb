{
 "cells": [
  {
   "cell_type": "code",
   "id": "initial_id",
   "metadata": {
    "collapsed": true,
    "ExecuteTime": {
     "end_time": "2025-06-27T13:51:52.400220Z",
     "start_time": "2025-06-27T13:51:51.883739Z"
    }
   },
   "source": [
    "import numpy as np\n",
    "import matplotlib.pyplot as plt\n",
    "import matplotlib"
   ],
   "outputs": [],
   "execution_count": 1
  },
  {
   "metadata": {},
   "cell_type": "markdown",
   "source": "#### function-drawing the line",
   "id": "ae9034a7b6c89c86"
  },
  {
   "metadata": {
    "ExecuteTime": {
     "end_time": "2025-06-27T13:51:52.600989Z",
     "start_time": "2025-06-27T13:51:52.596916Z"
    }
   },
   "cell_type": "code",
   "source": [
    "def draw_line(x, y):\n",
    "    line = plt.plot(x, y)"
   ],
   "id": "fceefc91a1dbefd4",
   "outputs": [],
   "execution_count": 2
  },
  {
   "metadata": {},
   "cell_type": "markdown",
   "source": "#### function-sigmoid",
   "id": "17a1fcb2aaab62cf"
  },
  {
   "metadata": {
    "ExecuteTime": {
     "end_time": "2025-06-27T13:51:52.618657Z",
     "start_time": "2025-06-27T13:51:52.614039Z"
    }
   },
   "cell_type": "code",
   "source": [
    "def sigmoid(input):\n",
    "    return 1 / (1 + np.exp(-input) )"
   ],
   "id": "4b41e6b2bfccb964",
   "outputs": [],
   "execution_count": 3
  },
  {
   "metadata": {},
   "cell_type": "markdown",
   "source": "## Function-calculating the error",
   "id": "9fb1248851dc7e46"
  },
  {
   "metadata": {
    "ExecuteTime": {
     "end_time": "2025-06-27T13:51:52.637211Z",
     "start_time": "2025-06-27T13:51:52.631416Z"
    }
   },
   "cell_type": "code",
   "source": [
    "def calculate_error(line_parameters, points, label):\n",
    "    m = points.shape[0] # // returns a tuple of our arrays dimension\n",
    "    linear_combination = points * line_parameters\n",
    "    p = sigmoid(linear_combination)\n",
    "    # // the CE-error equation, y = label\n",
    "    cross_entropy = -1 * (np.log(p).T * label + np.log(1 - p).T * (1 - label))\n",
    "    # print(\"cross_entropy\", cross_entropy.shape)\n",
    "    ce_error = cross_entropy / m\n",
    "    print(\"ce_error = \", ce_error)\n",
    "    print(\"the cross entropy error is: \", ce_error[0][0] * 100, \"%\")\n",
    "    return ce_error"
   ],
   "id": "c92d0a31dce08cd",
   "outputs": [],
   "execution_count": 4
  },
  {
   "metadata": {},
   "cell_type": "markdown",
   "source": "#### Initial steps - making and plotting the points",
   "id": "1135cef16e6a8613"
  },
  {
   "metadata": {
    "ExecuteTime": {
     "end_time": "2025-06-27T13:51:52.655881Z",
     "start_time": "2025-06-27T13:51:52.649130Z"
    }
   },
   "cell_type": "code",
   "source": [
    "number_of_points = 50\n",
    "\n",
    "np.random.seed(3)\n",
    "\n",
    "## bias\n",
    "bias_every_point = np.ones(number_of_points)\n",
    "\n",
    "random_x1_values = np.random.normal(10, 2, number_of_points)  # // points according to the horizontal axis\n",
    "random_x2_values = np.random.normal(12, 2, number_of_points)  # // points according to the vertical axis\n",
    "top_region_points = np.array([random_x1_values, random_x2_values, bias_every_point]).T\n",
    "\n",
    "## bottom region\n",
    "random_x1_values_2 = np.random.normal(5, 2, number_of_points)\n",
    "random_x2_values_2 = np.random.normal(6, 2, number_of_points)\n",
    "bottom_region_points = np.array([random_x1_values_2, random_x2_values_2, bias_every_point]).T\n",
    "\n",
    "## all points\n",
    "all_points = np.vstack((top_region_points, bottom_region_points))\n",
    "\n",
    "## Line\n",
    "w1 = -0.2\n",
    "w2 = -0.35\n",
    "b = 3.5  # // bias value\n",
    "line_parameters = np.matrix([w1, w2, b]).T # // took the transpose ,so we can multiply it by all_points\n",
    "x1 = np.array([bottom_region_points[:, 0].min() - 2, top_region_points[:, 0].max() + 2] )\n",
    "# // here I took the min from the horizontal points of the bottom region,\n",
    "# // and the max from the horizontal points of the top region\n",
    "\n",
    "x2 = -b/w2 - (w1 * x1)/w2\n",
    "\n",
    "## Label\n",
    "y = np.array([np.zeros(number_of_points), np.ones(number_of_points)]).reshape(number_of_points * 2, 1)\n",
    "# // we basically make the first 50 points zeros and the second 50 points ones\n",
    "# print(y)"
   ],
   "id": "fca3649bd8191060",
   "outputs": [],
   "execution_count": 5
  },
  {
   "metadata": {},
   "cell_type": "markdown",
   "source": "#### Display the points",
   "id": "b5a11e1de134139b"
  },
  {
   "metadata": {
    "ExecuteTime": {
     "end_time": "2025-06-27T13:51:52.816196Z",
     "start_time": "2025-06-27T13:51:52.683186Z"
    }
   },
   "cell_type": "code",
   "source": [
    "\n",
    "_, axis = plt.subplots(figsize=(4, 4) )\n",
    "\n",
    "axis.scatter(top_region_points[:, 0], top_region_points[:, 1], color='r')\n",
    "axis.scatter(bottom_region_points[:, 0], bottom_region_points[:, 1], color='b')\n",
    "draw_line(x1, x2)\n",
    "plt.show()"
   ],
   "id": "62cd7549b27337eb",
   "outputs": [
    {
     "data": {
      "text/plain": [
       "<Figure size 400x400 with 1 Axes>"
      ],
      "image/png": "[encoded data removed]"
     },
     "metadata": {},
     "output_type": "display_data"
    }
   ],
   "execution_count": 6
  },
  {
   "metadata": {},
   "cell_type": "markdown",
   "source": "## Error",
   "id": "d1e6bbfe6eb0d2d4"
  },
  {
   "metadata": {
    "ExecuteTime": {
     "end_time": "2025-06-27T13:51:52.843629Z",
     "start_time": "2025-06-27T13:51:52.836841Z"
    }
   },
   "cell_type": "code",
   "source": "calculate_error(line_parameters, all_points, y)",
   "id": "fe6c6c1207764704",
   "outputs": [
    {
     "name": "stdout",
     "output_type": "stream",
     "text": [
      "ce_error =  [[0.32324719]]\n",
      "the cross entropy error is:  [[32.32471868]] %\n"
     ]
    },
    {
     "data": {
      "text/plain": [
       "matrix([[0.32324719]])"
      ]
     },
     "execution_count": 7,
     "metadata": {},
     "output_type": "execute_result"
    }
   ],
   "execution_count": 7
  }
 ],
 "metadata": {
  "kernelspec": {
   "display_name": "Python 3",
   "language": "python",
   "name": "python3"
  },
  "language_info": {
   "codemirror_mode": {
    "name": "ipython",
    "version": 2
   },
   "file_extension": ".py",
   "mimetype": "text/x-python",
   "name": "python",
   "nbconvert_exporter": "python",
   "pygments_lexer": "ipython2",
   "version": "2.7.6"
  }
 },
 "nbformat": 4,
 "nbformat_minor": 5
}
