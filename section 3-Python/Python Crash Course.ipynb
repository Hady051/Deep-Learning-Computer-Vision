{
 "cells": [
  {
   "metadata": {},
   "cell_type": "markdown",
   "source": "### New additions to Python",
   "id": "41faee3cbb3b5825"
  },
  {
   "cell_type": "code",
   "id": "initial_id",
   "metadata": {
    "collapsed": true,
    "ExecuteTime": {
     "end_time": "2025-06-27T11:45:15.294051Z",
     "start_time": "2025-06-27T11:45:15.286875Z"
    }
   },
   "source": [
    "## declaring a variable immediately with print and saving it\n",
    "print(num:=15)\n",
    "print(num)\n",
    "\n",
    "# ** printf method (the newer one)\n",
    "print(f\"this person is {'tall'}, {'slim'} and {'blonde'}\" )"
   ],
   "outputs": [
    {
     "name": "stdout",
     "output_type": "stream",
     "text": [
      "15\n",
      "15\n",
      "this person is tall, slim and blonde\n"
     ]
    }
   ],
   "execution_count": 1
  },
  {
   "metadata": {},
   "cell_type": "markdown",
   "source": "### Arithmetic Operations",
   "id": "263bf56b818e47d7"
  },
  {
   "metadata": {
    "ExecuteTime": {
     "end_time": "2025-06-27T11:45:15.514633Z",
     "start_time": "2025-06-27T11:45:15.510079Z"
    }
   },
   "cell_type": "code",
   "source": [
    "print(1 + 1)\n",
    "\n",
    "print(1 - 1)\n",
    "\n",
    "print(7 * 7)\n",
    "\n",
    "print(10 / 5)\n",
    "\n",
    "print(6 + 9 * 3 + 3)\n",
    "\n",
    "print( (6 + 9) * (3 + 3) )\n",
    "\n",
    "# / modulus operator (remainder)\n",
    "\n",
    "print(6 % 2)  # / gives 0  (6-2-2-2)\n",
    "\n",
    "print(9 % 2)  # / gives 1\n",
    "\n",
    "# / exponent (power)\n",
    "\n",
    "print(6 ** 2)   # gives 36\n",
    "\n",
    "# / double-slash: divides and rounds down to the nearest integer\n",
    "\n",
    "print(13 // 2) # / division gives 6.5 but here it gives 6\n"
   ],
   "id": "d84db9856579f8ba",
   "outputs": [
    {
     "name": "stdout",
     "output_type": "stream",
     "text": [
      "2\n",
      "0\n",
      "49\n",
      "2.0\n",
      "36\n",
      "90\n",
      "0\n",
      "1\n",
      "36\n",
      "6\n"
     ]
    }
   ],
   "execution_count": 2
  },
  {
   "metadata": {},
   "cell_type": "markdown",
   "source": "### Variables",
   "id": "89d344948ccb27d"
  },
  {
   "metadata": {
    "ExecuteTime": {
     "end_time": "2025-06-27T11:45:15.547081Z",
     "start_time": "2025-06-27T11:45:15.541158Z"
    }
   },
   "cell_type": "code",
   "source": [
    "age = 25\n",
    "print(age)\n",
    "name = 'Jane'\n",
    "gender = 'female'\n",
    "\n",
    "age, name, gender = 27, 'Rana', 'female'\n",
    "print(age)\n",
    "print(name)\n",
    "\n",
    "# blood type = 'AB' # / this is wrong, as space shouldn't be used to declare variables\n",
    "blood_type = 'AB'\n",
    "\n",
    "age = 20\n",
    "age = age + 5\n",
    "print(age)\n",
    "\n",
    "age += 5\n",
    "print(age)\n",
    "\n",
    "age -= 5\n",
    "print(age)"
   ],
   "id": "93fb24b8803330a0",
   "outputs": [
    {
     "name": "stdout",
     "output_type": "stream",
     "text": [
      "25\n",
      "27\n",
      "Rana\n",
      "25\n",
      "30\n",
      "25\n"
     ]
    }
   ],
   "execution_count": 3
  },
  {
   "metadata": {},
   "cell_type": "markdown",
   "source": "### Numeric Data Types",
   "id": "f43ad38bafe45677"
  },
  {
   "metadata": {
    "ExecuteTime": {
     "end_time": "2025-06-27T11:45:15.590162Z",
     "start_time": "2025-06-27T11:45:15.584446Z"
    }
   },
   "cell_type": "code",
   "source": [
    "x = 7\n",
    "y = 3\n",
    "z = x / y\n",
    "print(z)\n",
    "\n",
    "print(type(x) )  # / integer\n",
    "\n",
    "x = 7.0\n",
    "print(type(x) )  # / float\n",
    "\n",
    "print(type(7/3.5) ) # / float (2.0)\n",
    "\n",
    "print(type(int(7/3.5) ) ) # / integer (2), because I converted into int\n",
    "\n",
    "w = int(3.7)  # / gives int 3\n",
    "\n",
    "float_num = float(3)\n",
    "print(float_num)  # / gives float 3.0"
   ],
   "id": "39b8022f50011cc9",
   "outputs": [
    {
     "name": "stdout",
     "output_type": "stream",
     "text": [
      "2.3333333333333335\n",
      "<class 'int'>\n",
      "<class 'float'>\n",
      "<class 'float'>\n",
      "<class 'int'>\n",
      "3.0\n"
     ]
    }
   ],
   "execution_count": 4
  },
  {
   "metadata": {},
   "cell_type": "markdown",
   "source": "### String Data Types",
   "id": "b2a097ec8481e916"
  },
  {
   "metadata": {
    "ExecuteTime": {
     "end_time": "2025-06-27T11:45:15.639005Z",
     "start_time": "2025-06-27T11:45:15.632990Z"
    }
   },
   "cell_type": "code",
   "source": [
    "name = 'Hady'\n",
    "print(name)\n",
    "print(type(name) )\n",
    "\n",
    "# dialogue = \" Ameer said \"Hello John\", to which John replied\"Hello Ameer\" \"\n",
    "# / this one is wrong and to fix it, I need to use single quotes for the variable\n",
    "dialogue = ' Ameer said \"Hello John\", to which John replied \"Hello Ameer\" '\n",
    "print(dialogue)\n",
    "\n",
    "# dialogue = ' Ameer said \"Hello John\", to which John replied \"you're the best\" '\n",
    "# / this is wrong because you can't use single quote inside double quote.\n",
    "# / to fix it: use *backslash* to include this quote\n",
    "\n",
    "dialogue = ' Ameer said \"Hello John\", to which John replied \"you\\'re the best\" '\n",
    "print(dialogue)\n",
    "\n",
    "segment_1 = 'I\\'m 25'\n",
    "segment_2 = 'years old'\n",
    "full_sentence = segment_1 + ' ' + segment_2 + '. '\n",
    "print(full_sentence)\n",
    "long_sentence = full_sentence * 10\n",
    "print(long_sentence)\n",
    "\n",
    "# / len function\n",
    "print(len(long_sentence) )"
   ],
   "id": "686bd279f5e942b7",
   "outputs": [
    {
     "name": "stdout",
     "output_type": "stream",
     "text": [
      "Hady\n",
      "<class 'str'>\n",
      " Ameer said \"Hello John\", to which John replied \"Hello Ameer\" \n",
      " Ameer said \"Hello John\", to which John replied \"you're the best\" \n",
      "I'm 25 years old. \n",
      "I'm 25 years old. I'm 25 years old. I'm 25 years old. I'm 25 years old. I'm 25 years old. I'm 25 years old. I'm 25 years old. I'm 25 years old. I'm 25 years old. I'm 25 years old. \n",
      "180\n"
     ]
    }
   ],
   "execution_count": 5
  },
  {
   "metadata": {},
   "cell_type": "markdown",
   "source": "### Booleans",
   "id": "c674c2b40c294bc7"
  },
  {
   "metadata": {
    "ExecuteTime": {
     "end_time": "2025-06-27T11:45:15.701300Z",
     "start_time": "2025-06-27T11:45:15.692761Z"
    }
   },
   "cell_type": "code",
   "source": [
    "this_is_cool = True\n",
    "this_is_not_cool = False\n",
    "\n",
    "comparison_operation = 1 < 2\n",
    "print(comparison_operation)\n",
    "\n",
    "# / *or*: needs only one True statement, to give True, while *and* needs both statements to be True to give True\n",
    "comparison_operation = 1 < 2 or 2 < 3\n",
    "print(comparison_operation) # / gives True\n",
    "\n",
    "comparison_operation = 1 < 2 or 2 > 3\n",
    "print(comparison_operation)  # / gives True\n",
    "\n",
    "comparison_operation = 1 < 2 and 2 > 3\n",
    "print(comparison_operation) # / gives False\n",
    "\n",
    "comparison_operation = not 1 < 2\n",
    "print(comparison_operation) # / gives False"
   ],
   "id": "77d711c9beeabe9a",
   "outputs": [
    {
     "name": "stdout",
     "output_type": "stream",
     "text": [
      "True\n",
      "True\n",
      "True\n",
      "False\n",
      "False\n"
     ]
    }
   ],
   "execution_count": 6
  },
  {
   "metadata": {},
   "cell_type": "markdown",
   "source": "### Methods",
   "id": "5757a17b4e253461"
  },
  {
   "metadata": {
    "ExecuteTime": {
     "end_time": "2025-06-27T11:45:15.778127Z",
     "start_time": "2025-06-27T11:45:15.768591Z"
    }
   },
   "cell_type": "code",
   "source": [
    "movie_title = 'Harry Potter and the prisoner of Azkaban'\n",
    "print(movie_title.upper() )\n",
    "print(movie_title.lower() )\n",
    "print(movie_title.count('a') )"
   ],
   "id": "98caafdbe8dc8f01",
   "outputs": [
    {
     "name": "stdout",
     "output_type": "stream",
     "text": [
      "HARRY POTTER AND THE PRISONER OF AZKABAN\n",
      "harry potter and the prisoner of azkaban\n",
      "4\n"
     ]
    }
   ],
   "execution_count": 7
  },
  {
   "metadata": {},
   "cell_type": "markdown",
   "source": "### Lists",
   "id": "6686a94398b641de"
  },
  {
   "metadata": {
    "ExecuteTime": {
     "end_time": "2025-06-27T11:45:15.856106Z",
     "start_time": "2025-06-27T11:45:15.845844Z"
    }
   },
   "cell_type": "code",
   "source": [
    "# / the first element in a list has index 0 and so on\n",
    "names = ['John', 'Jane', 'Joe']\n",
    "print(names[0] )\n",
    "\n",
    "random_variable = [True, False, 'Hello', 1, 1.2]\n",
    "rv_length = len(random_variable) # / gives 5\n",
    "print(random_variable[rv_length - 1] ) # / will give error that the index is out of reach"
   ],
   "id": "688697b047d27872",
   "outputs": [
    {
     "name": "stdout",
     "output_type": "stream",
     "text": [
      "John\n",
      "1.2\n"
     ]
    }
   ],
   "execution_count": 8
  },
  {
   "metadata": {},
   "cell_type": "markdown",
   "source": "### Slicing",
   "id": "44cb19b44a864730"
  },
  {
   "metadata": {
    "ExecuteTime": {
     "end_time": "2025-06-27T11:45:15.928061Z",
     "start_time": "2025-06-27T11:45:15.922735Z"
    }
   },
   "cell_type": "code",
   "source": [
    "# / the upper index is exclusive, meaning that it doesn't get selected\n",
    "ordered_numbers = [0, 1, 2, 3, 4, 5, 6, 7, 8, 9, 10]\n",
    "print(ordered_numbers[2:10] )\n",
    "\n",
    "print(ordered_numbers[2:len(ordered_numbers)] )\n",
    "print(ordered_numbers[ : ] )\n",
    "\n",
    "print( list(range(0, 100, 2) ) )\n",
    "print( list(range(0, 100, 5) ) )\n",
    "\n",
    "show_title = 'Game of Thrones'\n",
    "print(show_title[2:] )"
   ],
   "id": "9c2f00ae9da916a9",
   "outputs": [
    {
     "name": "stdout",
     "output_type": "stream",
     "text": [
      "[2, 3, 4, 5, 6, 7, 8, 9]\n",
      "[2, 3, 4, 5, 6, 7, 8, 9, 10]\n",
      "[0, 1, 2, 3, 4, 5, 6, 7, 8, 9, 10]\n",
      "[0, 2, 4, 6, 8, 10, 12, 14, 16, 18, 20, 22, 24, 26, 28, 30, 32, 34, 36, 38, 40, 42, 44, 46, 48, 50, 52, 54, 56, 58, 60, 62, 64, 66, 68, 70, 72, 74, 76, 78, 80, 82, 84, 86, 88, 90, 92, 94, 96, 98]\n",
      "[0, 5, 10, 15, 20, 25, 30, 35, 40, 45, 50, 55, 60, 65, 70, 75, 80, 85, 90, 95]\n",
      "me of Thrones\n"
     ]
    }
   ],
   "execution_count": 9
  },
  {
   "metadata": {},
   "cell_type": "markdown",
   "source": "### Membership Operators",
   "id": "b6dbde92e88e4b46"
  },
  {
   "metadata": {
    "ExecuteTime": {
     "end_time": "2025-06-27T11:45:15.971653Z",
     "start_time": "2025-06-27T11:45:15.966182Z"
    }
   },
   "cell_type": "code",
   "source": [
    "months = ['January', 'February', 'March']\n",
    "print('June' in months)  # / gives False\n",
    "print('January' in months)  # / gives True\n",
    "print('June' not in months)  # / gives True\n",
    "\n",
    "course = 'python crash course'\n",
    "print('crash' in course)\n",
    "print('rash' in course) # / gives True"
   ],
   "id": "2059638bd9545417",
   "outputs": [
    {
     "name": "stdout",
     "output_type": "stream",
     "text": [
      "False\n",
      "True\n",
      "True\n",
      "True\n",
      "True\n"
     ]
    }
   ],
   "execution_count": 10
  },
  {
   "metadata": {},
   "cell_type": "markdown",
   "source": "### Mutability",
   "id": "2d0333cbe184fa1"
  },
  {
   "metadata": {
    "ExecuteTime": {
     "end_time": "2025-06-27T11:45:16.024104Z",
     "start_time": "2025-06-27T11:45:16.018760Z"
    }
   },
   "cell_type": "code",
   "source": [
    "# / Mutability: something that's liable to change / changeable\n",
    "# / ** lists are mutable ordered sequence of elements\n",
    "grocery_list = ['bananas', 'apples', 'cauliflower']\n",
    "grocery_list[2] = 'rutabagas'\n",
    "\n",
    "print(grocery_list)\n",
    "\n",
    "misspelled_vegetable = 'cucomber'\n",
    "# misspelled_vegetable[3] = 'u'      # / this will create an error because strings are immutable"
   ],
   "id": "b1c906a50330ef78",
   "outputs": [
    {
     "name": "stdout",
     "output_type": "stream",
     "text": [
      "['bananas', 'apples', 'rutabagas']\n"
     ]
    }
   ],
   "execution_count": 11
  },
  {
   "metadata": {},
   "cell_type": "markdown",
   "source": "### Mutability II",
   "id": "1d1fcc45078788e1"
  },
  {
   "metadata": {
    "ExecuteTime": {
     "end_time": "2025-06-27T11:45:16.065554Z",
     "start_time": "2025-06-27T11:45:16.058844Z"
    }
   },
   "cell_type": "code",
   "source": [
    "name = 'Ameer'\n",
    "other_name = name\n",
    "name = 'John'\n",
    "print(name)          # / John\n",
    "print(other_name)    # / Ameer\n",
    "\n",
    "\n",
    "books = ['The Catcher in the Rye', 'The Mist', 'Lord of the Rings']\n",
    "more_books = books\n",
    "books[0] = 'A song of ice and fire'\n",
    "print(books)          # / ['A song of ice and fire', 'The Mist', 'Lord of the Rings']\n",
    "print(more_books)     # / ['A song of ice and fire', 'The Mist', 'Lord of the Rings']\n",
    "\n",
    "# / which describes mutability and it's importance"
   ],
   "id": "eae53ee87c3da2e7",
   "outputs": [
    {
     "name": "stdout",
     "output_type": "stream",
     "text": [
      "John\n",
      "Ameer\n",
      "['A song of ice and fire', 'The Mist', 'Lord of the Rings']\n",
      "['A song of ice and fire', 'The Mist', 'Lord of the Rings']\n"
     ]
    }
   ],
   "execution_count": 12
  },
  {
   "metadata": {},
   "cell_type": "markdown",
   "source": "### Functions and methods",
   "id": "ab20e048c4f19744"
  },
  {
   "metadata": {},
   "cell_type": "markdown",
   "source": "#### Functions",
   "id": "958b66bcd320ecf"
  },
  {
   "metadata": {
    "ExecuteTime": {
     "end_time": "2025-06-27T11:45:16.131772Z",
     "start_time": "2025-06-27T11:45:16.125371Z"
    }
   },
   "cell_type": "code",
   "source": [
    "# ** max function\n",
    "numbers = [4, 3, 7, 4]\n",
    "print(len(numbers) )\n",
    "print(max(numbers) )\n",
    "\n",
    "names = ['Thomas', 'Gio', 'Zack']\n",
    "print(max(names) )  # / the max is the string that appears last based on alphabetical order\n",
    "\n",
    "\n",
    "#names = ['Thomas', 'Gio', 'Zack', 1]\n",
    "#print(max(names) )  # / here the result can't be done because the data types are not comparable.\n",
    "\n",
    "# ** min function\n",
    "print(min(numbers) )\n",
    "print(min(names) )\n",
    "\n",
    "# ** sorted function\n",
    "print(sorted(numbers) )\n",
    "print(sorted(names) )"
   ],
   "id": "735807da13039752",
   "outputs": [
    {
     "name": "stdout",
     "output_type": "stream",
     "text": [
      "4\n",
      "7\n",
      "Zack\n",
      "3\n",
      "Gio\n",
      "[3, 4, 4, 7]\n",
      "['Gio', 'Thomas', 'Zack']\n"
     ]
    }
   ],
   "execution_count": 13
  },
  {
   "metadata": {},
   "cell_type": "markdown",
   "source": "#### Methods",
   "id": "39668c340198d095"
  },
  {
   "metadata": {
    "ExecuteTime": {
     "end_time": "2025-06-27T11:45:16.176715Z",
     "start_time": "2025-06-27T11:45:16.170312Z"
    }
   },
   "cell_type": "code",
   "source": [
    "# / methods are different from functions because methods depend on the data type\n",
    "\n",
    "# ** join method\n",
    "months = '-'.join(['Jan', 'Feb', 'Mar'] )\n",
    "print(months)\n",
    "\n",
    "months = ' '.join(['Jan', 'Feb', 'Mar'] )\n",
    "print(months)\n",
    "\n",
    "# ** format method\n",
    "\n",
    "print('This person is {}, {} and {}'.format('tall', 'slim', 'blond') )\n",
    "\n",
    "# ** printf method (the newer one)\n",
    "print(f'this person is {'tall'}, {'slim'} and {'blond'}')\n",
    "\n",
    "# ** append method / adds an element to the end of a list\n",
    "months = ['Jan', 'Feb', 'Mar']\n",
    "months.append('Apr')\n",
    "print(months)"
   ],
   "id": "d1c8e2331511129c",
   "outputs": [
    {
     "name": "stdout",
     "output_type": "stream",
     "text": [
      "Jan-Feb-Mar\n",
      "Jan Feb Mar\n",
      "This person is tall, slim and blond\n",
      "this person is tall, slim and blond\n",
      "['Jan', 'Feb', 'Mar', 'Apr']\n"
     ]
    }
   ],
   "execution_count": 14
  },
  {
   "metadata": {},
   "cell_type": "markdown",
   "source": "### Tuples",
   "id": "c4433f7a053dc2ed"
  },
  {
   "metadata": {
    "ExecuteTime": {
     "end_time": "2025-06-27T11:45:16.217032Z",
     "start_time": "2025-06-27T11:45:16.211414Z"
    }
   },
   "cell_type": "code",
   "source": [
    "# / Tuples: are **Immutable ordered sequence of elements\n",
    "# / use brackets ( ) or parenthesis\n",
    "\n",
    "traits = ('tall', 'slim', 'blond')\n",
    "height = traits[0]\n",
    "build = traits[1]\n",
    "print(height, build)\n",
    "\n",
    "#traits[0] = 'short'  # / will give an error\n",
    "\n",
    "\n",
    "traits = 'tall', 'slim', 'blond'    # / **this is the same as above\n",
    "\n",
    "# *Tuple unpacking\n",
    "height, build, hair = traits\n",
    "print(hair)\n",
    "\n",
    "height, build, hair = 'tall', 'slim', 'blond'\n",
    "print(hair)"
   ],
   "id": "2a5469d1f04916ba",
   "outputs": [
    {
     "name": "stdout",
     "output_type": "stream",
     "text": [
      "tall slim\n",
      "blond\n",
      "blond\n"
     ]
    }
   ],
   "execution_count": 15
  },
  {
   "metadata": {},
   "cell_type": "markdown",
   "source": "### Sets",
   "id": "8afb16b46a1576d4"
  },
  {
   "metadata": {
    "ExecuteTime": {
     "end_time": "2025-06-27T11:45:16.266834Z",
     "start_time": "2025-06-27T11:45:16.262400Z"
    }
   },
   "cell_type": "code",
   "source": [
    "# / sets: **Mutable, **unordered, **unique sequence of elements\n",
    "# / use curly brackets { }\n",
    "duplicate_numbers = {1, 2, 1, 2, 3, 3, 5}\n",
    "unique_numbers = set(duplicate_numbers)   # / to convert to set if it wasn't a set\n",
    "print(duplicate_numbers)\n",
    "print(unique_numbers)  # / will output the same thing\n",
    "\n",
    "unique_numbers.add(4)\n",
    "print(unique_numbers)"
   ],
   "id": "5989a308f12259e9",
   "outputs": [
    {
     "name": "stdout",
     "output_type": "stream",
     "text": [
      "{1, 2, 3, 5}\n",
      "{1, 2, 3, 5}\n",
      "{1, 2, 3, 4, 5}\n"
     ]
    }
   ],
   "execution_count": 16
  },
  {
   "metadata": {},
   "cell_type": "markdown",
   "source": "### Dictionaries",
   "id": "21de10d3b85ff77a"
  },
  {
   "metadata": {
    "ExecuteTime": {
     "end_time": "2025-06-27T11:45:16.317481Z",
     "start_time": "2025-06-27T11:45:16.310981Z"
    }
   },
   "cell_type": "code",
   "source": [
    "# / Dictionary: is composed of key:value, they are **unordered\n",
    "# / use curly braces { }\n",
    "# / dictionaries are indexed by their keys\n",
    "\n",
    "inventory = {'banana': 1.29, 'apples': 2.99, 'papayas': 1.39 }\n",
    "print(inventory['banana'] )\n",
    "\n",
    "inventory['banana'] = 2.99\n",
    "print(inventory)\n",
    "\n",
    "banana_price = inventory.get('banana')\n",
    "print(banana_price)\n",
    "\n",
    "strawberry_price = inventory.get('strawberry')\n",
    "print(strawberry_price) # / prints none\n",
    "\n",
    "print('papayas' in inventory)"
   ],
   "id": "7ab226cadf5f42a9",
   "outputs": [
    {
     "name": "stdout",
     "output_type": "stream",
     "text": [
      "1.29\n",
      "{'banana': 2.99, 'apples': 2.99, 'papayas': 1.39}\n",
      "2.99\n",
      "None\n",
      "True\n"
     ]
    }
   ],
   "execution_count": 17
  },
  {
   "metadata": {},
   "cell_type": "markdown",
   "source": "### Compound Data Structures",
   "id": "7f4941eb7bbd55a2"
  },
  {
   "metadata": {
    "ExecuteTime": {
     "end_time": "2025-06-27T11:45:16.366033Z",
     "start_time": "2025-06-27T11:45:16.361015Z"
    }
   },
   "cell_type": "code",
   "source": [
    "grocery_items = {'banana': {'price': 2.99, 'origin': 'Guatemala'},\n",
    "                 'apple': {'price': 1.29, 'origin': 'UK'},\n",
    "                 'papayas': {'price': 2.39, 'origin': 'Costa Rica'}\n",
    "                 }\n",
    "\n",
    "print(grocery_items['apple'] )\n",
    "\n",
    "print(grocery_items['apple']['origin'] )"
   ],
   "id": "6a973c4e442bcd55",
   "outputs": [
    {
     "name": "stdout",
     "output_type": "stream",
     "text": [
      "{'price': 1.29, 'origin': 'UK'}\n",
      "UK\n"
     ]
    }
   ],
   "execution_count": 18
  },
  {
   "metadata": {},
   "cell_type": "markdown",
   "source": "### if, else",
   "id": "616536123b43432c"
  },
  {
   "metadata": {
    "ExecuteTime": {
     "end_time": "2025-06-27T11:45:16.429627Z",
     "start_time": "2025-06-27T11:45:16.419648Z"
    }
   },
   "cell_type": "code",
   "source": [
    "grocery_items = {'bananas': 2.99, 'apples':1.29, 'papayas': 2.39}\n",
    "\n",
    "item = 'brussel sprouts'\n",
    "\n",
    "if item in grocery_items:\n",
    "    print('found the ', item)\n",
    "else:\n",
    "    print('couldn\\'t find the', item)\n",
    "    grocery_items.update({item: 1.49} )\n",
    "    print('just added the item, here is the updated grocery list', grocery_items)"
   ],
   "id": "78e1f2dac9b8280b",
   "outputs": [
    {
     "name": "stdout",
     "output_type": "stream",
     "text": [
      "couldn't find the brussel sprouts\n",
      "just added the item, here is the updated grocery list {'bananas': 2.99, 'apples': 1.29, 'papayas': 2.39, 'brussel sprouts': 1.49}\n"
     ]
    }
   ],
   "execution_count": 19
  },
  {
   "metadata": {},
   "cell_type": "markdown",
   "source": "### elif",
   "id": "b26590e2d03b971f"
  },
  {
   "metadata": {
    "ExecuteTime": {
     "end_time": "2025-06-27T11:45:16.547948Z",
     "start_time": "2025-06-27T11:45:16.535313Z"
    }
   },
   "cell_type": "code",
   "source": [
    "grocery_items = {'bananas': 2.99, 'apples': 1.29, 'papayas': 2.39}\n",
    "\n",
    "item, price = 'rutabagas', 3.56\n",
    "\n",
    "if item in grocery_items:\n",
    "    print('found the ', item)\n",
    "\n",
    "elif price > 2.99:\n",
    "    print('too expensive for inventory')\n",
    "\n",
    "else:\n",
    "    print('couldn\\'t find the', item)\n",
    "    grocery_items.update({item: price} )\n",
    "    print('just added the item, here is the updated grocery list', grocery_items)"
   ],
   "id": "cdc511b7e18d511a",
   "outputs": [
    {
     "name": "stdout",
     "output_type": "stream",
     "text": [
      "too expensive for inventory\n"
     ]
    }
   ],
   "execution_count": 20
  },
  {
   "metadata": {
    "ExecuteTime": {
     "end_time": "2025-06-27T11:45:16.640129Z",
     "start_time": "2025-06-27T11:45:16.630223Z"
    }
   },
   "cell_type": "code",
   "source": [
    "daytime = 'dawn'\n",
    "\n",
    "if daytime == 'dawn':\n",
    "    print('still asleep')\n",
    "elif daytime == 'morning':\n",
    "    print('time to go to work')\n",
    "elif daytime == 'noon':\n",
    "    print('time to take a lunch break')\n",
    "elif daytime == 'afternoon':\n",
    "    print('time to go home')\n",
    "else:\n",
    "    print('time to go to sleep')"
   ],
   "id": "749293fd31a629fc",
   "outputs": [
    {
     "name": "stdout",
     "output_type": "stream",
     "text": [
      "still asleep\n"
     ]
    }
   ],
   "execution_count": 21
  },
  {
   "metadata": {},
   "cell_type": "markdown",
   "source": "### Complex Comparisons",
   "id": "1f19607e3d3026bd"
  },
  {
   "metadata": {
    "ExecuteTime": {
     "end_time": "2025-06-27T11:45:16.736458Z",
     "start_time": "2025-06-27T11:45:16.727257Z"
    }
   },
   "cell_type": "code",
   "source": [
    "reynolds_number = 5000\n",
    "\n",
    "if 2000 < reynolds_number < 10000:\n",
    "    print('flow regime is transitional')"
   ],
   "id": "573ac30cd10ba3b3",
   "outputs": [
    {
     "name": "stdout",
     "output_type": "stream",
     "text": [
      "flow regime is transitional\n"
     ]
    }
   ],
   "execution_count": 22
  },
  {
   "metadata": {
    "ExecuteTime": {
     "end_time": "2025-06-27T11:45:16.851141Z",
     "start_time": "2025-06-27T11:45:16.839930Z"
    }
   },
   "cell_type": "code",
   "source": [
    "reynolds_number = 1000\n",
    "\n",
    "if reynolds_number > 2000 and reynolds_number < 10000:\n",
    "    print('flow is transitional')\n",
    "\n",
    "if reynolds_number <= 2000 or reynolds_number >= 10000:\n",
    "    print('flow isn\\'t transitional')"
   ],
   "id": "35ee35dd1d745a24",
   "outputs": [
    {
     "name": "stdout",
     "output_type": "stream",
     "text": [
      "flow isn't transitional\n"
     ]
    }
   ],
   "execution_count": 23
  },
  {
   "metadata": {},
   "cell_type": "markdown",
   "source": "### for loops",
   "id": "2db9221ee9231480"
  },
  {
   "metadata": {
    "ExecuteTime": {
     "end_time": "2025-06-27T11:45:16.954768Z",
     "start_time": "2025-06-27T11:45:16.942389Z"
    }
   },
   "cell_type": "code",
   "source": [
    "months = ['Jan', 'Feb', 'Mar']\n",
    "\n",
    "for month in months:\n",
    "    print(month)\n",
    "\n",
    "for num in range(0, 100):\n",
    "    print(num)\n",
    "\n",
    "for num in range(0, 100):\n",
    "    print('hello')"
   ],
   "id": "4795868915ec498c",
   "outputs": [
    {
     "name": "stdout",
     "output_type": "stream",
     "text": [
      "Jan\n",
      "Feb\n",
      "Mar\n",
      "0\n",
      "1\n",
      "2\n",
      "3\n",
      "4\n",
      "5\n",
      "6\n",
      "7\n",
      "8\n",
      "9\n",
      "10\n",
      "11\n",
      "12\n",
      "13\n",
      "14\n",
      "15\n",
      "16\n",
      "17\n",
      "18\n",
      "19\n",
      "20\n",
      "21\n",
      "22\n",
      "23\n",
      "24\n",
      "25\n",
      "26\n",
      "27\n",
      "28\n",
      "29\n",
      "30\n",
      "31\n",
      "32\n",
      "33\n",
      "34\n",
      "35\n",
      "36\n",
      "37\n",
      "38\n",
      "39\n",
      "40\n",
      "41\n",
      "42\n",
      "43\n",
      "44\n",
      "45\n",
      "46\n",
      "47\n",
      "48\n",
      "49\n",
      "50\n",
      "51\n",
      "52\n",
      "53\n",
      "54\n",
      "55\n",
      "56\n",
      "57\n",
      "58\n",
      "59\n",
      "60\n",
      "61\n",
      "62\n",
      "63\n",
      "64\n",
      "65\n",
      "66\n",
      "67\n",
      "68\n",
      "69\n",
      "70\n",
      "71\n",
      "72\n",
      "73\n",
      "74\n",
      "75\n",
      "76\n",
      "77\n",
      "78\n",
      "79\n",
      "80\n",
      "81\n",
      "82\n",
      "83\n",
      "84\n",
      "85\n",
      "86\n",
      "87\n",
      "88\n",
      "89\n",
      "90\n",
      "91\n",
      "92\n",
      "93\n",
      "94\n",
      "95\n",
      "96\n",
      "97\n",
      "98\n",
      "99\n",
      "hello\n",
      "hello\n",
      "hello\n",
      "hello\n",
      "hello\n",
      "hello\n",
      "hello\n",
      "hello\n",
      "hello\n",
      "hello\n",
      "hello\n",
      "hello\n",
      "hello\n",
      "hello\n",
      "hello\n",
      "hello\n",
      "hello\n",
      "hello\n",
      "hello\n",
      "hello\n",
      "hello\n",
      "hello\n",
      "hello\n",
      "hello\n",
      "hello\n",
      "hello\n",
      "hello\n",
      "hello\n",
      "hello\n",
      "hello\n",
      "hello\n",
      "hello\n",
      "hello\n",
      "hello\n",
      "hello\n",
      "hello\n",
      "hello\n",
      "hello\n",
      "hello\n",
      "hello\n",
      "hello\n",
      "hello\n",
      "hello\n",
      "hello\n",
      "hello\n",
      "hello\n",
      "hello\n",
      "hello\n",
      "hello\n",
      "hello\n",
      "hello\n",
      "hello\n",
      "hello\n",
      "hello\n",
      "hello\n",
      "hello\n",
      "hello\n",
      "hello\n",
      "hello\n",
      "hello\n",
      "hello\n",
      "hello\n",
      "hello\n",
      "hello\n",
      "hello\n",
      "hello\n",
      "hello\n",
      "hello\n",
      "hello\n",
      "hello\n",
      "hello\n",
      "hello\n",
      "hello\n",
      "hello\n",
      "hello\n",
      "hello\n",
      "hello\n",
      "hello\n",
      "hello\n",
      "hello\n",
      "hello\n",
      "hello\n",
      "hello\n",
      "hello\n",
      "hello\n",
      "hello\n",
      "hello\n",
      "hello\n",
      "hello\n",
      "hello\n",
      "hello\n",
      "hello\n",
      "hello\n",
      "hello\n",
      "hello\n",
      "hello\n",
      "hello\n",
      "hello\n",
      "hello\n",
      "hello\n"
     ]
    }
   ],
   "execution_count": 24
  },
  {
   "metadata": {
    "ExecuteTime": {
     "end_time": "2025-06-27T11:45:17.012856Z",
     "start_time": "2025-06-27T11:45:17.005805Z"
    }
   },
   "cell_type": "code",
   "source": [
    "names = ['hillary', 'diana', 'brian']\n",
    "\n",
    "for index in range(len(names) ):\n",
    "    names[index] = names[index].title()\n",
    "\n",
    "print(names)"
   ],
   "id": "448db63527b891ac",
   "outputs": [
    {
     "name": "stdout",
     "output_type": "stream",
     "text": [
      "['Hillary', 'Diana', 'Brian']\n"
     ]
    }
   ],
   "execution_count": 25
  },
  {
   "metadata": {},
   "cell_type": "markdown",
   "source": "### for loops II",
   "id": "63eac73120f0a8c9"
  },
  {
   "metadata": {
    "ExecuteTime": {
     "end_time": "2025-06-27T11:45:17.059141Z",
     "start_time": "2025-06-27T11:45:17.053545Z"
    }
   },
   "cell_type": "code",
   "source": [
    "movies = {'Titanic': 1997, 'Finding Nemo': 2003}\n",
    "\n",
    "for key in movies:\n",
    "    print(key)\n",
    "\n",
    "for key, value in movies.items():\n",
    "    print(key, value)\n",
    "\n",
    "for key, value in movies.items():\n",
    "    print('the movie {}, was made in {}'.format(key, value) )"
   ],
   "id": "402156799ba2c1f0",
   "outputs": [
    {
     "name": "stdout",
     "output_type": "stream",
     "text": [
      "Titanic\n",
      "Finding Nemo\n",
      "Titanic 1997\n",
      "Finding Nemo 2003\n",
      "the movie Titanic, was made in 1997\n",
      "the movie Finding Nemo, was made in 2003\n"
     ]
    }
   ],
   "execution_count": 26
  },
  {
   "metadata": {},
   "cell_type": "markdown",
   "source": "### While loops",
   "id": "fd2a161e55d2b69c"
  },
  {
   "metadata": {
    "ExecuteTime": {
     "end_time": "2025-06-27T11:45:17.114468Z",
     "start_time": "2025-06-27T11:45:17.107726Z"
    }
   },
   "cell_type": "code",
   "source": [
    "random_number = 20\n",
    "\n",
    "while random_number <= 30:\n",
    "    print(random_number)\n",
    "    random_number += 1"
   ],
   "id": "d8dd94c40e2e41f1",
   "outputs": [
    {
     "name": "stdout",
     "output_type": "stream",
     "text": [
      "20\n",
      "21\n",
      "22\n",
      "23\n",
      "24\n",
      "25\n",
      "26\n",
      "27\n",
      "28\n",
      "29\n",
      "30\n"
     ]
    }
   ],
   "execution_count": 27
  },
  {
   "metadata": {},
   "cell_type": "markdown",
   "source": "### Break and continue",
   "id": "f31ae7ab34b35a55"
  },
  {
   "metadata": {
    "ExecuteTime": {
     "end_time": "2025-06-27T11:45:17.164144Z",
     "start_time": "2025-06-27T11:45:17.158641Z"
    }
   },
   "cell_type": "code",
   "source": [
    "# / continue: jumps over one iteration of a loop / skips it\n",
    "# / break: jumps out of the loop completely\n",
    "\n",
    "numbers = list(range(0, 10) )\n",
    "print(numbers)\n",
    "\n",
    "for number in numbers:\n",
    "    if number % 2 != 0:\n",
    "        continue\n",
    "    print(number)\n",
    "\n",
    "for number in numbers:\n",
    "    if number % 2 != 0:\n",
    "        break\n",
    "    print(number)"
   ],
   "id": "e54bd5838d32b356",
   "outputs": [
    {
     "name": "stdout",
     "output_type": "stream",
     "text": [
      "[0, 1, 2, 3, 4, 5, 6, 7, 8, 9]\n",
      "0\n",
      "2\n",
      "4\n",
      "6\n",
      "8\n",
      "0\n"
     ]
    }
   ],
   "execution_count": 28
  },
  {
   "metadata": {},
   "cell_type": "markdown",
   "source": "### Functions",
   "id": "e86bfaabb7ad85fb"
  },
  {
   "metadata": {
    "ExecuteTime": {
     "end_time": "2025-06-27T11:45:17.201688Z",
     "start_time": "2025-06-27T11:45:17.195170Z"
    }
   },
   "cell_type": "code",
   "source": [
    "def num_square(num):\n",
    "    return print(num * num)\n",
    "\n",
    "num_square(6)\n",
    "\n",
    "def rectangle_area(length, width):\n",
    "    return print('The rectangle area is: ', length * width)\n",
    "\n",
    "rectangle_area(5, 4)"
   ],
   "id": "8cc300d4cc2154a0",
   "outputs": [
    {
     "name": "stdout",
     "output_type": "stream",
     "text": [
      "36\n",
      "The rectangle area is:  20\n"
     ]
    }
   ],
   "execution_count": 29
  },
  {
   "metadata": {
    "ExecuteTime": {
     "end_time": "2025-06-27T11:45:40.721688Z",
     "start_time": "2025-06-27T11:45:17.244573Z"
    }
   },
   "cell_type": "code",
   "source": [
    "def BMI_calculator():\n",
    "    weight = int(input('enter your weight in KG: ') )\n",
    "    print(f'your weight: {weight} KG')\n",
    "    height = int(input('enter your height in cm: ') )\n",
    "    print(f'your height: {height} m')\n",
    "\n",
    "    return print('your BMI from the givens is: ', (weight / (height ** 2) ) * 10000 )\n",
    "\n",
    "\n",
    "BMI_calculator()"
   ],
   "id": "8f047410fb07f3d0",
   "outputs": [
    {
     "name": "stdout",
     "output_type": "stream",
     "text": [
      "your weight: 90 KG\n",
      "your height: 170 m\n",
      "your BMI from the givens is:  31.141868512110726\n"
     ]
    }
   ],
   "execution_count": 30
  },
  {
   "metadata": {},
   "cell_type": "markdown",
   "source": "### Scope",
   "id": "135ae4e9044aacd4"
  },
  {
   "metadata": {
    "ExecuteTime": {
     "end_time": "2025-06-27T11:45:40.779936Z",
     "start_time": "2025-06-27T11:45:40.772627Z"
    }
   },
   "cell_type": "code",
   "source": [
    "# / local variable: variable names assigned within a function\n",
    "# / can only be accessed within the block in which they were declared\n",
    "# / global variable: variable names assigned at the top level of a module file\n",
    "# / can be accessed in every part of the program\n",
    "\n",
    "number = 2\n",
    "\n",
    "def random_function():\n",
    "    name = 'Bill'\n",
    "    number = 5\n",
    "\n",
    "# print(name) # / will give an error\n",
    "print(number)"
   ],
   "id": "e0d910e096418b1e",
   "outputs": [
    {
     "name": "stdout",
     "output_type": "stream",
     "text": [
      "2\n"
     ]
    }
   ],
   "execution_count": 31
  },
  {
   "metadata": {},
   "cell_type": "markdown",
   "source": "### Doc Strings / comment",
   "id": "7cfa7b4eda4f81d3"
  },
  {
   "metadata": {
    "ExecuteTime": {
     "end_time": "2025-06-27T11:45:40.824722Z",
     "start_time": "2025-06-27T11:45:40.820240Z"
    }
   },
   "cell_type": "code",
   "source": [
    "def rectangle_area(length, width):\n",
    "    ##INPUT:\n",
    "    # // this function takes in two parameters length and width\n",
    "\n",
    "    ## OUTPUT:\n",
    "\n",
    "    # // calculates the area of a rectangle based on the length and width provided by the user,\n",
    "    # // where area = length * width\n",
    "\n",
    "    return length * width"
   ],
   "id": "5aaf1ccfb63c88ee",
   "outputs": [],
   "execution_count": 32
  },
  {
   "metadata": {},
   "cell_type": "markdown",
   "source": "### Lambda and higher order Functions",
   "id": "dd6b1cd25b3b6c26"
  },
  {
   "metadata": {
    "ExecuteTime": {
     "end_time": "2025-06-27T11:45:40.862170Z",
     "start_time": "2025-06-27T11:45:40.855604Z"
    }
   },
   "cell_type": "code",
   "source": [
    "numbers = [1, 2, 3, 4, 5, 6]\n",
    "\n",
    "# ** filter function\n",
    "\n",
    "#def even_or_odd(number):\n",
    "#    return number % 2 == 0\n",
    "\n",
    "\n",
    "#print( list(filter(even_or_odd, numbers ) ) )\n",
    "\n",
    "# ** lambda operation\n",
    "\n",
    "print( list(filter(lambda number: number % 2 == 0, numbers ) ) )"
   ],
   "id": "1060547303667d58",
   "outputs": [
    {
     "name": "stdout",
     "output_type": "stream",
     "text": [
      "[2, 4, 6]\n"
     ]
    }
   ],
   "execution_count": 33
  }
 ],
 "metadata": {
  "kernelspec": {
   "display_name": "Python 3",
   "language": "python",
   "name": "python3"
  },
  "language_info": {
   "codemirror_mode": {
    "name": "ipython",
    "version": 2
   },
   "file_extension": ".py",
   "mimetype": "text/x-python",
   "name": "python",
   "nbconvert_exporter": "python",
   "pygments_lexer": "ipython2",
   "version": "2.7.6"
  }
 },
 "nbformat": 4,
 "nbformat_minor": 5
}
