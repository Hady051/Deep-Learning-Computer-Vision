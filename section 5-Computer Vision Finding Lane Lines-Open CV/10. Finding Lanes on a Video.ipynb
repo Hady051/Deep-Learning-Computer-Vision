{
 "cells": [
  {
   "metadata": {},
   "cell_type": "markdown",
   "source": "## Finding Lanes on a Video",
   "id": "976b2e86718ab61"
  },
  {
   "metadata": {},
   "cell_type": "markdown",
   "source": "#### Optimization but cutting unnecessary bits out",
   "id": "6fbd8d617199e587"
  },
  {
   "metadata": {
    "ExecuteTime": {
     "end_time": "2025-06-27T13:33:52.331607Z",
     "start_time": "2025-06-27T13:33:51.847081Z"
    }
   },
   "cell_type": "code",
   "source": [
    "\n",
    "import cv2\n",
    "import numpy as np\n",
    "\n",
    "\n",
    "def canny(image):\n",
    "    gray_image = cv2.cvtColor(image, cv2.COLOR_RGB2GRAY)\n",
    "    smooth_image = cv2.GaussianBlur(gray_image, (5,5), 0)\n",
    "    canny_image = cv2.Canny(smooth_image, 50, 150)\n",
    "    return canny_image\n",
    "\n",
    "\n",
    "def region_of_interest(image):\n",
    "    image_bottom = image.shape[0] # // 704 biggest height\n",
    "    #triangle = np.array([ (200, image_bottom), (1100, image_bottom), (550, 250) ])\n",
    "    # // added square brackets so that it can be an array because of the requirement of the fillpoly() function\n",
    "    polygon = np.array( [ [ (200, image_bottom), (1100, image_bottom), (550, 250) ] ]  )\n",
    "    mask_image = np.zeros_like(image) # // black image(mask) to put the polygon in\n",
    "    cv2.fillPoly(mask_image, polygon, 255) # // now the polygon is in the mask, in white color\n",
    "    masked_image = cv2.bitwise_and(image, mask_image)\n",
    "    return masked_image\n",
    "\n",
    "\n",
    "def display_lines(image, lines):\n",
    "    # // create a mask picture for the lines\n",
    "    line_image = np.zeros_like(image)\n",
    "    if lines is not None:\n",
    "        for line in lines:\n",
    "            #print(line)  # // this shows each line that isn't none, is 2D, we need to change it to 1D\n",
    "            x1, y1, x2, y2 = line.reshape(4)\n",
    "            cv2.line(line_image, (x1, y1), (x2, y2), (0, 255, 0), 10) # // now the line is merged\n",
    "            # // until now this shows the lines in the masked image but in a correct position thanks to Hough function\n",
    "            #cv2.line(line_image, (x1, y1), (x2, y2), (0, 0, 255), 17)\n",
    "            #cv2.line(line_image, (x1, y1), (x2, y2), (255, 0, 0), 17)\n",
    "    return line_image\n",
    "\n",
    "\n",
    "# // this was done at the end of average_slope_intercept function\n",
    "def make_coordinates(image, line_parameters):\n",
    "    #slope, intercept = line_parameters\n",
    "    try:                                        # // ***solution for ERROR when there is a gap between lines\n",
    "        slope, intercept = line_parameters\n",
    "    except TypeError:\n",
    "        slope, intercept = 0.01, 0.01\n",
    "    # // with this part above, I don't need the if statement \"if len()\"\n",
    "\n",
    "    y1 = image.shape[0]                         # // 704\n",
    "    y2 = int(y1 * (3/5) )                       # // 422\n",
    "    # // can change it to (2/5) to make the lines taller\n",
    "    x1 = int( (y1 - intercept) / slope)           # // depends on the slope and y-intercept\n",
    "    x2 = int( (y2 - intercept) / slope)           # // depends on the slope and y-intercept\n",
    "    return np.array([x1, y1, x2, y2])\n",
    "\n",
    "\n",
    "def average_slope_intercept(image, lines):\n",
    "    left_fit = []\n",
    "    right_fit = []\n",
    "    #if lines is None:    # // **this is among the solution of the video not working midway\n",
    "    #    return None      # // it doesn't matter much\n",
    "\n",
    "    for line in lines:\n",
    "        x1, y1, x2, y2 = line.reshape(4)\n",
    "        parameters = np.polyfit((x1, x2), (y1, y2), 1)\n",
    "        #print(parameters)  # // this shows the slope as the first element and the y-intercept as the second.\n",
    "        slope = parameters[0]\n",
    "        intercept = parameters[1]\n",
    "        if slope < 0:\n",
    "            left_fit.append( (slope, intercept) )\n",
    "        else:\n",
    "            right_fit.append( (slope, intercept) )\n",
    "    #print(left_fit) # // this shows all the slopes and y-intercepts of the lines on the left\n",
    "    #print(right_fit) # // this shows all the slopes and y-intercepts of the lines on the right\n",
    "\n",
    "    #if len(left_fit) and len(right_fit):  # // ** among the solution of video stopping\n",
    "\n",
    "    left_fit_average = np.average(left_fit, axis=0)\n",
    "    right_fit_average = np.average(right_fit, axis=0)\n",
    "\n",
    "    average_LeftLine = make_coordinates(image, left_fit_average)\n",
    "    average_RightLine = make_coordinates(image, right_fit_average)\n",
    "\n",
    "    averaged_lines = [average_LeftLine, average_RightLine]\n",
    "    return averaged_lines   # // this was changed, but it doesn't do anything different\n",
    "\n",
    "    #return np.array([average_LeftLine, average_RightLine]) # // the original\n",
    "\n",
    "\n",
    "#@\"\"\""
   ],
   "id": "c90fc324a7810ab3",
   "outputs": [],
   "execution_count": 1
  },
  {
   "metadata": {},
   "cell_type": "markdown",
   "source": "#### Capturing a video and showing the lines on it-the relatively course code",
   "id": "35031e82ba139f90"
  },
  {
   "metadata": {
    "ExecuteTime": {
     "end_time": "2025-06-27T13:34:10.450173Z",
     "start_time": "2025-06-27T13:33:52.531345Z"
    }
   },
   "cell_type": "code",
   "source": [
    "video_path = 'test2.mp4'\n",
    "video = cv2.VideoCapture(video_path)\n",
    "\n",
    "while video.isOpened():\n",
    "    _, pic_frame = video.read()            # // replace lane_image by frame\n",
    "\n",
    "    # // edge detected image/canny\n",
    "    edgeDetected_image = canny(pic_frame)\n",
    "\n",
    "    # // masked_lane_image\n",
    "    masked_lane_image = region_of_interest(edgeDetected_image)\n",
    "\n",
    "    # // the lines by Hough Transform\n",
    "    lines = cv2.HoughLinesP(masked_lane_image, 2, np.pi / 180, 100, np.array([]), minLineLength=40, maxLineGap=5)\n",
    "\n",
    "    # // the averaged lines optimization\n",
    "    averaged_lines = average_slope_intercept(pic_frame, lines)\n",
    "\n",
    "    # // the optimized average lines\n",
    "    avg_lines_image = display_lines(pic_frame, averaged_lines)\n",
    "\n",
    "    # // the lane image with lines\n",
    "    lane_image_with_lines = cv2.addWeighted(pic_frame, 0.8, avg_lines_image, 1, 1)\n",
    "\n",
    "    # // showing the video\n",
    "    cv2.imshow('Lane Video with the Lines', lane_image_with_lines)\n",
    "    # // ** to show each frame in a 1 millisecond,\n",
    "    # // we will add an if statement to add keyboard key to stop the video manually\n",
    "    if cv2.waitKey(1) & 0xFF == ord('s'): # // type 's' to close\n",
    "        break\n",
    "\n",
    "# // these 2 functions are used to close the video properly\n",
    "video.release()\n",
    "cv2.destroyAllWindows()"
   ],
   "id": "9810ec5aa65a9f95",
   "outputs": [
    {
     "name": "stderr",
     "output_type": "stream",
     "text": [
      "D:\\coding projects\\PyCharm projects\\new projects\\S-D-C-2\\.venv\\Lib\\site-packages\\numpy\\lib\\function_base.py:520: RuntimeWarning: Mean of empty slice.\n",
      "  avg = a.mean(axis, **keepdims_kw)\n",
      "D:\\coding projects\\PyCharm projects\\new projects\\S-D-C-2\\.venv\\Lib\\site-packages\\numpy\\core\\_methods.py:129: RuntimeWarning: invalid value encountered in scalar divide\n",
      "  ret = ret.dtype.type(ret / rcount)\n"
     ]
    },
    {
     "ename": "KeyboardInterrupt",
     "evalue": "",
     "output_type": "error",
     "traceback": [
      "\u001B[1;31m---------------------------------------------------------------------------\u001B[0m",
      "\u001B[1;31mKeyboardInterrupt\u001B[0m                         Traceback (most recent call last)",
      "Cell \u001B[1;32mIn[2], line 20\u001B[0m\n\u001B[0;32m     17\u001B[0m averaged_lines \u001B[38;5;241m=\u001B[39m average_slope_intercept(pic_frame, lines)\n\u001B[0;32m     19\u001B[0m \u001B[38;5;66;03m# // the optimized average lines\u001B[39;00m\n\u001B[1;32m---> 20\u001B[0m avg_lines_image \u001B[38;5;241m=\u001B[39m \u001B[43mdisplay_lines\u001B[49m\u001B[43m(\u001B[49m\u001B[43mpic_frame\u001B[49m\u001B[43m,\u001B[49m\u001B[43m \u001B[49m\u001B[43maveraged_lines\u001B[49m\u001B[43m)\u001B[49m\n\u001B[0;32m     22\u001B[0m \u001B[38;5;66;03m# // the lane image with lines\u001B[39;00m\n\u001B[0;32m     23\u001B[0m lane_image_with_lines \u001B[38;5;241m=\u001B[39m cv2\u001B[38;5;241m.\u001B[39maddWeighted(pic_frame, \u001B[38;5;241m0.8\u001B[39m, avg_lines_image, \u001B[38;5;241m1\u001B[39m, \u001B[38;5;241m1\u001B[39m)\n",
      "Cell \u001B[1;32mIn[1], line 25\u001B[0m, in \u001B[0;36mdisplay_lines\u001B[1;34m(image, lines)\u001B[0m\n\u001B[0;32m     23\u001B[0m \u001B[38;5;28;01mdef\u001B[39;00m \u001B[38;5;21mdisplay_lines\u001B[39m(image, lines):\n\u001B[0;32m     24\u001B[0m     \u001B[38;5;66;03m# // create a mask picture for the lines\u001B[39;00m\n\u001B[1;32m---> 25\u001B[0m     line_image \u001B[38;5;241m=\u001B[39m \u001B[43mnp\u001B[49m\u001B[38;5;241;43m.\u001B[39;49m\u001B[43mzeros_like\u001B[49m\u001B[43m(\u001B[49m\u001B[43mimage\u001B[49m\u001B[43m)\u001B[49m\n\u001B[0;32m     26\u001B[0m     \u001B[38;5;28;01mif\u001B[39;00m lines \u001B[38;5;129;01mis\u001B[39;00m \u001B[38;5;129;01mnot\u001B[39;00m \u001B[38;5;28;01mNone\u001B[39;00m:\n\u001B[0;32m     27\u001B[0m         \u001B[38;5;28;01mfor\u001B[39;00m line \u001B[38;5;129;01min\u001B[39;00m lines:\n\u001B[0;32m     28\u001B[0m             \u001B[38;5;66;03m#print(line)  # // this shows each line that isn't none, is 2D, we need to change it to 1D\u001B[39;00m\n",
      "File \u001B[1;32mD:\\coding projects\\PyCharm projects\\new projects\\S-D-C-2\\.venv\\Lib\\site-packages\\numpy\\core\\numeric.py:132\u001B[0m, in \u001B[0;36mzeros_like\u001B[1;34m(a, dtype, order, subok, shape)\u001B[0m\n\u001B[0;32m    130\u001B[0m \u001B[38;5;66;03m# needed instead of a 0 to get same result as zeros for string dtypes\u001B[39;00m\n\u001B[0;32m    131\u001B[0m z \u001B[38;5;241m=\u001B[39m zeros(\u001B[38;5;241m1\u001B[39m, dtype\u001B[38;5;241m=\u001B[39mres\u001B[38;5;241m.\u001B[39mdtype)\n\u001B[1;32m--> 132\u001B[0m \u001B[43mmultiarray\u001B[49m\u001B[38;5;241;43m.\u001B[39;49m\u001B[43mcopyto\u001B[49m\u001B[43m(\u001B[49m\u001B[43mres\u001B[49m\u001B[43m,\u001B[49m\u001B[43m \u001B[49m\u001B[43mz\u001B[49m\u001B[43m,\u001B[49m\u001B[43m \u001B[49m\u001B[43mcasting\u001B[49m\u001B[38;5;241;43m=\u001B[39;49m\u001B[38;5;124;43m'\u001B[39;49m\u001B[38;5;124;43munsafe\u001B[39;49m\u001B[38;5;124;43m'\u001B[39;49m\u001B[43m)\u001B[49m\n\u001B[0;32m    133\u001B[0m \u001B[38;5;28;01mreturn\u001B[39;00m res\n",
      "\u001B[1;31mKeyboardInterrupt\u001B[0m: "
     ]
    }
   ],
   "execution_count": 2
  },
  {
   "cell_type": "code",
   "execution_count": null,
   "id": "initial_id",
   "metadata": {
    "collapsed": true
   },
   "outputs": [],
   "source": [
    ""
   ]
  }
 ],
 "metadata": {
  "kernelspec": {
   "display_name": "Python 3",
   "language": "python",
   "name": "python3"
  },
  "language_info": {
   "codemirror_mode": {
    "name": "ipython",
    "version": 2
   },
   "file_extension": ".py",
   "mimetype": "text/x-python",
   "name": "python",
   "nbconvert_exporter": "python",
   "pygments_lexer": "ipython2",
   "version": "2.7.6"
  }
 },
 "nbformat": 4,
 "nbformat_minor": 5
}
