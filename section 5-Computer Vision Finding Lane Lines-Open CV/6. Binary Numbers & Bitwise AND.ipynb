{
 "cells": [
  {
   "metadata": {},
   "cell_type": "markdown",
   "source": "## Bitwise AND",
   "id": "4cf31eeb2599ae91"
  },
  {
   "metadata": {
    "ExecuteTime": {
     "end_time": "2025-06-27T13:20:34.667689Z",
     "start_time": "2025-06-27T13:20:32.902658Z"
    }
   },
   "cell_type": "code",
   "source": [
    "import cv2\n",
    "import numpy as np\n",
    "\n",
    "\n",
    "def canny(image):\n",
    "    gray_image = cv2.cvtColor(image, cv2.COLOR_RGB2GRAY)\n",
    "    smooth_image = cv2.GaussianBlur(gray_image, (5,5), 0)\n",
    "    canny_image = cv2.Canny(smooth_image, 50, 150)\n",
    "    return canny_image"
   ],
   "id": "ae45543aeb74253f",
   "outputs": [],
   "execution_count": 1
  },
  {
   "cell_type": "code",
   "id": "initial_id",
   "metadata": {
    "collapsed": true,
    "ExecuteTime": {
     "end_time": "2025-06-27T13:20:35.071349Z",
     "start_time": "2025-06-27T13:20:35.065774Z"
    }
   },
   "source": [
    "# // making a function to identify the region of interest\n",
    "\n",
    "def region_of_interest(image):\n",
    "    image_bottom = image.shape[0] # // 704 biggest height\n",
    "    #triangle = np.array([ (200, image_bottom), (1100, image_bottom), (550, 250) ])\n",
    "    # // added square brackets so that it can be an array because of the requirement of the fillpoly() function\n",
    "    polygon = np.array( [ [ (200, image_bottom), (1100, image_bottom), (550, 250) ] ] )\n",
    "    mask_image = np.zeros_like(image) # // black image(mask) to put the polygon in\n",
    "    cv2.fillPoly(mask_image, polygon, 255) # // now the polygon is in the mask, with white color\n",
    "    masked_image = cv2.bitwise_and(image, mask_image)\n",
    "    return masked_image"
   ],
   "outputs": [],
   "execution_count": 2
  },
  {
   "metadata": {
    "ExecuteTime": {
     "end_time": "2025-06-27T13:21:15.582489Z",
     "start_time": "2025-06-27T13:21:02.516457Z"
    }
   },
   "cell_type": "code",
   "source": [
    "path = 'test_image.jpg'\n",
    "image = cv2.imread(path)\n",
    "print(image.shape)  # // (704, 1279, 3)\n",
    "\n",
    "image_2 = np.copy(image)\n",
    "edgeDetected_image = canny(image_2)\n",
    "\n",
    "# // just putting the result of ROI in a function\n",
    "masked_lane_image = region_of_interest(edgeDetected_image)\n",
    "\n",
    "# // showing the edge detected image\n",
    "#cv2.imshow('Edge DetectedImage', edgeDetected_image)\n",
    "#cv2.waitKey(0)\n",
    "\n",
    "# // showing the new ROI image\n",
    "cv2.imshow('Masked Lane pic', masked_lane_image)\n",
    "cv2.waitKey(0)"
   ],
   "id": "f69e3121cab9c22a",
   "outputs": [
    {
     "name": "stdout",
     "output_type": "stream",
     "text": [
      "(704, 1279, 3)\n"
     ]
    },
    {
     "data": {
      "text/plain": [
       "-1"
      ]
     },
     "execution_count": 3,
     "metadata": {},
     "output_type": "execute_result"
    }
   ],
   "execution_count": 3
  }
 ],
 "metadata": {
  "kernelspec": {
   "display_name": "Python 3",
   "language": "python",
   "name": "python3"
  },
  "language_info": {
   "codemirror_mode": {
    "name": "ipython",
    "version": 2
   },
   "file_extension": ".py",
   "mimetype": "text/x-python",
   "name": "python",
   "nbconvert_exporter": "python",
   "pygments_lexer": "ipython2",
   "version": "2.7.6"
  }
 },
 "nbformat": 4,
 "nbformat_minor": 5
}
