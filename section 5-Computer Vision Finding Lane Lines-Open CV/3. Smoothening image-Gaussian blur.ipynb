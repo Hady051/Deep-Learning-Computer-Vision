{
 "cells": [
  {
   "metadata": {},
   "cell_type": "markdown",
   "source": "## filtering the image",
   "id": "68952d24bd68ad67"
  },
  {
   "metadata": {
    "ExecuteTime": {
     "end_time": "2025-06-27T12:37:33.709431Z",
     "start_time": "2025-06-27T12:37:33.531170Z"
    }
   },
   "cell_type": "code",
   "source": [
    "import cv2\n",
    "import numpy as np\n",
    "\n",
    "## original image\n",
    "path = 'test_image.jpg'\n",
    "image = cv2.imread(path)\n",
    "\n",
    "#cv2.imshow('Original Image', image)\n",
    "#cv2.waitKey(0)"
   ],
   "id": "c9effcf6cc183aa3",
   "outputs": [],
   "execution_count": 1
  },
  {
   "metadata": {
    "ExecuteTime": {
     "end_time": "2025-06-27T12:37:34.239982Z",
     "start_time": "2025-06-27T12:37:33.922503Z"
    }
   },
   "cell_type": "code",
   "source": [
    "## grayscale image\n",
    "image_2 = np.copy(image)\n",
    "gray_image = cv2.cvtColor(image_2, cv2.COLOR_RGB2GRAY)\n",
    "\n",
    "#cv2.imshow('Grayscale Image', gray_image)\n",
    "#cv2.waitKey(0)"
   ],
   "id": "f7945523bc10caf",
   "outputs": [],
   "execution_count": 2
  },
  {
   "metadata": {
    "ExecuteTime": {
     "end_time": "2025-06-27T12:37:50.315961Z",
     "start_time": "2025-06-27T12:37:34.261109Z"
    }
   },
   "cell_type": "code",
   "source": [
    "## Filtered image\n",
    "smooth_image = cv2.GaussianBlur(gray_image, (5,5), 0)\n",
    "\n",
    "cv2.imshow('Smoothened Image', smooth_image)\n",
    "cv2.waitKey(0)"
   ],
   "id": "226f09aa649ca819",
   "outputs": [
    {
     "data": {
      "text/plain": [
       "-1"
      ]
     },
     "execution_count": 3,
     "metadata": {},
     "output_type": "execute_result"
    }
   ],
   "execution_count": 3
  }
 ],
 "metadata": {
  "kernelspec": {
   "display_name": "Python 3",
   "language": "python",
   "name": "python3"
  },
  "language_info": {
   "codemirror_mode": {
    "name": "ipython",
    "version": 2
   },
   "file_extension": ".py",
   "mimetype": "text/x-python",
   "name": "python",
   "nbconvert_exporter": "python",
   "pygments_lexer": "ipython2",
   "version": "2.7.6"
  }
 },
 "nbformat": 4,
 "nbformat_minor": 5
}
