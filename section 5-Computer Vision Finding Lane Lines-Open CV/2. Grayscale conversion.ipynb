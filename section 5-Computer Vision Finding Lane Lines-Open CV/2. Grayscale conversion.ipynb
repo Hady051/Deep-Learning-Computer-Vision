{
 "cells": [
  {
   "metadata": {},
   "cell_type": "markdown",
   "source": "## Grayscale",
   "id": "a8a994b307852959"
  },
  {
   "cell_type": "code",
   "id": "initial_id",
   "metadata": {
    "collapsed": true,
    "ExecuteTime": {
     "end_time": "2025-06-27T12:35:42.153474Z",
     "start_time": "2025-06-27T12:35:24.079734Z"
    }
   },
   "source": [
    "import cv2\n",
    "import numpy as np\n",
    "\n",
    "path = 'test_image.jpg'\n",
    "image = cv2.imread(path)\n",
    "cv2.imshow('Original Pic', image)\n",
    "cv2.waitKey(0)"
   ],
   "outputs": [
    {
     "data": {
      "text/plain": [
       "-1"
      ]
     },
     "execution_count": 1,
     "metadata": {},
     "output_type": "execute_result"
    }
   ],
   "execution_count": 1
  },
  {
   "metadata": {
    "ExecuteTime": {
     "end_time": "2025-06-27T12:35:48.489511Z",
     "start_time": "2025-06-27T12:35:42.455160Z"
    }
   },
   "cell_type": "code",
   "source": [
    "lane_image = np.copy(image)\n",
    "gray_image = cv2.cvtColor(lane_image, cv2.COLOR_RGB2GRAY)\n",
    "cv2.imshow('Grayscaled Image', gray_image)\n",
    "cv2.waitKey(0)"
   ],
   "id": "73ed8e93fe88188e",
   "outputs": [
    {
     "data": {
      "text/plain": [
       "-1"
      ]
     },
     "execution_count": 2,
     "metadata": {},
     "output_type": "execute_result"
    }
   ],
   "execution_count": 2
  }
 ],
 "metadata": {
  "kernelspec": {
   "display_name": "Python 3",
   "language": "python",
   "name": "python3"
  },
  "language_info": {
   "codemirror_mode": {
    "name": "ipython",
    "version": 2
   },
   "file_extension": ".py",
   "mimetype": "text/x-python",
   "name": "python",
   "nbconvert_exporter": "python",
   "pygments_lexer": "ipython2",
   "version": "2.7.6"
  }
 },
 "nbformat": 4,
 "nbformat_minor": 5
}
