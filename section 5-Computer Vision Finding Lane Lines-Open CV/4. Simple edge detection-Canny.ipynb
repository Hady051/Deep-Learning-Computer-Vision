{
 "cells": [
  {
   "metadata": {},
   "cell_type": "markdown",
   "source": "## Simple edge detection-Canny",
   "id": "7ba388e1a201e108"
  },
  {
   "metadata": {
    "ExecuteTime": {
     "end_time": "2025-06-27T12:40:45.700010Z",
     "start_time": "2025-06-27T12:40:45.544611Z"
    }
   },
   "cell_type": "code",
   "source": [
    "import numpy as np\n",
    "import cv2"
   ],
   "id": "ea03bcd95ece3ba2",
   "outputs": [],
   "execution_count": 1
  },
  {
   "metadata": {
    "ExecuteTime": {
     "end_time": "2025-06-27T12:40:45.929744Z",
     "start_time": "2025-06-27T12:40:45.902950Z"
    }
   },
   "cell_type": "code",
   "source": [
    "## loading the image\n",
    "\n",
    "path = 'test_image.jpg'\n",
    "image = cv2.imread(path)\n",
    "\n",
    "#cv2.imshow('Original Image', image)\n",
    "#cv2.waitKey(0)"
   ],
   "id": "745ccd4bb5247ad",
   "outputs": [],
   "execution_count": 2
  },
  {
   "cell_type": "code",
   "id": "initial_id",
   "metadata": {
    "collapsed": true,
    "ExecuteTime": {
     "end_time": "2025-06-27T12:40:45.967136Z",
     "start_time": "2025-06-27T12:40:45.951520Z"
    }
   },
   "source": [
    "## grayscale\n",
    "\n",
    "image_2 = np.copy(image)\n",
    "gray_image = cv2.cvtColor(image_2, cv2.COLOR_RGB2GRAY)\n",
    "\n",
    "#cv2.imshow('Grayscale Image', gray_image)\n",
    "#cv2.waitKey(0)"
   ],
   "outputs": [],
   "execution_count": 3
  },
  {
   "metadata": {
    "ExecuteTime": {
     "end_time": "2025-06-27T12:40:45.986676Z",
     "start_time": "2025-06-27T12:40:45.978975Z"
    }
   },
   "cell_type": "code",
   "source": [
    "## Smoothening\n",
    "\n",
    "smooth_image = cv2.GaussianBlur(gray_image, (5,5), 0)\n",
    "\n",
    "#cv2.imshow('Smooth Image', smooth_image)\n",
    "#cv2.waitKey(0)"
   ],
   "id": "8cfc2475d3dfa6c1",
   "outputs": [],
   "execution_count": 4
  },
  {
   "metadata": {
    "ExecuteTime": {
     "end_time": "2025-06-27T12:41:02.876203Z",
     "start_time": "2025-06-27T12:40:46.002760Z"
    }
   },
   "cell_type": "code",
   "source": [
    "## edge detection/ Canny function\n",
    "\n",
    "# // canny method automatically applies gaussian blur, so we didn't need the smoothened code\n",
    "\n",
    "canny_image = cv2.Canny(smooth_image, 50, 150)\n",
    "\n",
    "cv2.imshow('Edge detected image', canny_image)\n",
    "cv2.waitKey(0)"
   ],
   "id": "10aa536ef29f1b79",
   "outputs": [
    {
     "data": {
      "text/plain": [
       "-1"
      ]
     },
     "execution_count": 5,
     "metadata": {},
     "output_type": "execute_result"
    }
   ],
   "execution_count": 5
  }
 ],
 "metadata": {
  "kernelspec": {
   "display_name": "Python 3",
   "language": "python",
   "name": "python3"
  },
  "language_info": {
   "codemirror_mode": {
    "name": "ipython",
    "version": 2
   },
   "file_extension": ".py",
   "mimetype": "text/x-python",
   "name": "python",
   "nbconvert_exporter": "python",
   "pygments_lexer": "ipython2",
   "version": "2.7.6"
  }
 },
 "nbformat": 4,
 "nbformat_minor": 5
}
