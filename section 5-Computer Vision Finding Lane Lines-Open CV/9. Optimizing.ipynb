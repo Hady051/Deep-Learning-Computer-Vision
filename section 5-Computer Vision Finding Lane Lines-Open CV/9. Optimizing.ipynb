{
 "cells": [
  {
   "metadata": {},
   "cell_type": "markdown",
   "source": "## Optimizing - taking the average of the lines",
   "id": "4d2f7195214518a2"
  },
  {
   "cell_type": "code",
   "id": "initial_id",
   "metadata": {
    "collapsed": true,
    "ExecuteTime": {
     "end_time": "2025-06-27T13:29:54.548526Z",
     "start_time": "2025-06-27T13:29:54.400326Z"
    }
   },
   "source": [
    "\n",
    "import cv2\n",
    "import numpy as np\n",
    "\n",
    "\n",
    "def canny(image):\n",
    "    gray_image = cv2.cvtColor(image, cv2.COLOR_RGB2GRAY)\n",
    "    smooth_image = cv2.GaussianBlur(gray_image, (5,5), 0)\n",
    "    canny_image = cv2.Canny(smooth_image, 50, 150)\n",
    "    return canny_image\n",
    "\n",
    "\n",
    "def region_of_interest(image):\n",
    "    image_bottom = image.shape[0] # // 704 biggest height\n",
    "    #triangle = np.array([ (200, image_bottom), (1100, image_bottom), (550, 250) ])\n",
    "    # // added square brackets so that it can be an array because of the requirement of the fillpoly() function\n",
    "    polygon = np.array( [ [ (200, image_bottom), (1100, image_bottom), (550, 250) ] ] )\n",
    "    mask_image = np.zeros_like(image) # // black image(mask) to put the polygon in\n",
    "    cv2.fillPoly(mask_image, polygon, 255) # // now the polygon is in the mask, in white color\n",
    "    masked_image = cv2.bitwise_and(image, mask_image)\n",
    "    return masked_image\n",
    "\n",
    "\n",
    "def display_lines(image, lines):\n",
    "    # // create a mask picture for the lines\n",
    "    line_image = np.zeros_like(image)\n",
    "    if lines is not None:\n",
    "        for line in lines:\n",
    "            #print(line)  # // this shows each line that isn't none, is 2D, we need to change it to 1D\n",
    "            x1, y1, x2, y2 = line.reshape(4)\n",
    "            cv2.line(line_image, (x1, y1), (x2, y2), (255, 0, 0), 10) # // now the line is merged\n",
    "            # // until now this shows the lines in the masked image but in a correct position thanks to Hough function\n",
    "    return line_image"
   ],
   "outputs": [],
   "execution_count": 1
  },
  {
   "metadata": {
    "ExecuteTime": {
     "end_time": "2025-06-27T13:29:54.754993Z",
     "start_time": "2025-06-27T13:29:54.751102Z"
    }
   },
   "cell_type": "code",
   "source": [
    "# // this was done at the end of average_slope_intercept function\n",
    "def make_coordinates(image, line_parameters):\n",
    "    slope, intercept = line_parameters\n",
    "    y1 = image.shape[0]                         # // 704\n",
    "    y2 = int(y1 * (3/5) )                       # // 422\n",
    "    x1 = int( (y1-intercept) / slope)           # // depends on the slope and y-intercept\n",
    "    x2 = int( (y2-intercept) / slope)           # // depends on the slope and y-intercept\n",
    "    return np.array([x1, y1, x2, y2])"
   ],
   "id": "72f3d244ed62b345",
   "outputs": [],
   "execution_count": 2
  },
  {
   "metadata": {
    "ExecuteTime": {
     "end_time": "2025-06-27T13:29:54.794221Z",
     "start_time": "2025-06-27T13:29:54.788226Z"
    }
   },
   "cell_type": "code",
   "source": [
    "def average_slope_intercept(image, lines):\n",
    "    left_fit = []\n",
    "    right_fit = []\n",
    "    for line in lines:\n",
    "        x1, y1, x2, y2 = line.reshape(4)\n",
    "        parameters = np.polyfit((x1, x2), (y1, y2), 1)\n",
    "        #print(parameters)  # // this shows the slope as the first element and the y-intercept as the second.\n",
    "        slope = parameters[0]\n",
    "        intercept = parameters[1]\n",
    "        if slope < 0:\n",
    "            left_fit.append( (slope, intercept) )\n",
    "        else:\n",
    "            right_fit.append( (slope, intercept) )\n",
    "    #print(left_fit) # // this shows all the slopes and y-intercepts of the lines on the left\n",
    "    #print(right_fit) # // this shows all the slopes and y-intercepts of the lines on the right\n",
    "    left_fit_average = np.average(left_fit, axis=0)\n",
    "    right_fit_average = np.average(right_fit, axis=0)\n",
    "    #print('left ', left_fit_average)\n",
    "    #print('right ', right_fit_average)\n",
    "    average_LeftLine = make_coordinates(image, left_fit_average)\n",
    "    average_RightLine = make_coordinates(image, right_fit_average)\n",
    "\n",
    "    return np.array([average_LeftLine, average_RightLine])"
   ],
   "id": "33e14db9b532f4c7",
   "outputs": [],
   "execution_count": 3
  },
  {
   "metadata": {
    "ExecuteTime": {
     "end_time": "2025-06-27T13:29:54.852892Z",
     "start_time": "2025-06-27T13:29:54.816824Z"
    }
   },
   "cell_type": "code",
   "source": [
    "path = 'test_image.jpg'\n",
    "image = cv2.imread(path)\n",
    "#print(image.shape)  # // (704, 1279, 3)\n",
    "\n",
    "lane_image = np.copy(image)\n",
    "edgeDetected_image = canny(lane_image)"
   ],
   "id": "65697dc696cc0c80",
   "outputs": [],
   "execution_count": 4
  },
  {
   "metadata": {
    "ExecuteTime": {
     "end_time": "2025-06-27T13:29:54.884965Z",
     "start_time": "2025-06-27T13:29:54.874579Z"
    }
   },
   "cell_type": "code",
   "source": [
    "# // showing the edge detected image\n",
    "'''\n",
    "#cv2.imshow('Edge DetectedImage', edgeDetected_image)\n",
    "#cv2.waitKey(0)\n",
    "'''\n",
    "\n",
    "\n",
    "# // just putting the result of ROI in a function\n",
    "masked_lane_image = region_of_interest(edgeDetected_image)\n",
    "\n",
    "\n",
    "# // showing the new ROI image\n",
    "'''\n",
    "#cv2.imshow('Masked Lane pic', masked_lane_image)\n",
    "#cv2.waitKey(0)\n",
    "'''"
   ],
   "id": "3b2bf21d6637825f",
   "outputs": [
    {
     "data": {
      "text/plain": [
       "\"\\n#cv2.imshow('Masked Lane pic', masked_lane_image)\\n#cv2.waitKey(0)\\n\""
      ]
     },
     "execution_count": 5,
     "metadata": {},
     "output_type": "execute_result"
    }
   ],
   "execution_count": 5
  },
  {
   "metadata": {
    "ExecuteTime": {
     "end_time": "2025-06-27T13:29:55.157746Z",
     "start_time": "2025-06-27T13:29:54.920386Z"
    }
   },
   "cell_type": "code",
   "source": [
    "\n",
    "# // the lines by Hough Transform\n",
    "lines = cv2.HoughLinesP(masked_lane_image, 2, np.pi/180, 100, np.array([]), minLineLength=40, maxLineGap=5)\n",
    "\n",
    "\n",
    "# // the averaged lines optimization\n",
    "averaged_lines = average_slope_intercept(lane_image, lines)\n",
    "\n",
    "\n",
    "# // the masked image with the lines, taking the same parameters of the og pic\n",
    "#lines_image = display_lines(lane_image, lines)\n",
    "\n",
    "\n",
    "# // showing the masked line image\n",
    "'''\n",
    "cv2.imshow('Lines masked pic', lines_image)\n",
    "cv2.waitKey(0)\n",
    "'''"
   ],
   "id": "45f3b701d3bbfffd",
   "outputs": [
    {
     "data": {
      "text/plain": [
       "\"\\ncv2.imshow('Lines masked pic', lines_image)\\ncv2.waitKey(0)\\n\""
      ]
     },
     "execution_count": 6,
     "metadata": {},
     "output_type": "execute_result"
    }
   ],
   "execution_count": 6
  },
  {
   "metadata": {
    "ExecuteTime": {
     "end_time": "2025-06-27T13:30:50.806444Z",
     "start_time": "2025-06-27T13:29:55.180313Z"
    }
   },
   "cell_type": "code",
   "source": [
    "\n",
    "# // the optimized average lines\n",
    "avg_lines_image = display_lines(lane_image, averaged_lines)\n",
    "\n",
    "\n",
    "# // showing the masked optimised average lines\n",
    "#'''\n",
    "cv2.imshow('Lines masked pic', avg_lines_image)\n",
    "cv2.waitKey(0)\n",
    "#'''\n",
    "\n",
    "\n",
    "# // we then blend the blue lines to the actual image, and since the rest of the mask image is black, we can use\n",
    "# // addWeighted function since the intensity of the pixels in the mask image except for the lines is 0 and adding with\n",
    "# // 0 doesn't make any difference.\n",
    "\n",
    "# // we are now showing the optimised average lines\n",
    "lane_image_with_lines = cv2.addWeighted(lane_image, 0.8, avg_lines_image, 1, 1)\n",
    "\n",
    "\n",
    "# // showing the lane with the lines image\n",
    "cv2.imshow('Lane with the Lines pic', lane_image_with_lines)\n",
    "cv2.waitKey(0)\n",
    "\n",
    "\n",
    "#@\"\"\""
   ],
   "id": "9a558412d41c8b37",
   "outputs": [
    {
     "data": {
      "text/plain": [
       "-1"
      ]
     },
     "execution_count": 7,
     "metadata": {},
     "output_type": "execute_result"
    }
   ],
   "execution_count": 7
  }
 ],
 "metadata": {
  "kernelspec": {
   "display_name": "Python 3",
   "language": "python",
   "name": "python3"
  },
  "language_info": {
   "codemirror_mode": {
    "name": "ipython",
    "version": 2
   },
   "file_extension": ".py",
   "mimetype": "text/x-python",
   "name": "python",
   "nbconvert_exporter": "python",
   "pygments_lexer": "ipython2",
   "version": "2.7.6"
  }
 },
 "nbformat": 4,
 "nbformat_minor": 5
}
