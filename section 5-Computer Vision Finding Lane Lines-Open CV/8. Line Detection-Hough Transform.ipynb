{
 "cells": [
  {
   "metadata": {},
   "cell_type": "markdown",
   "source": "## Hough Transform",
   "id": "7e44459d13f4a524"
  },
  {
   "cell_type": "code",
   "id": "initial_id",
   "metadata": {
    "collapsed": true,
    "ExecuteTime": {
     "end_time": "2025-06-27T13:25:57.357769Z",
     "start_time": "2025-06-27T13:25:57.023680Z"
    }
   },
   "source": [
    "import cv2\n",
    "import numpy as np"
   ],
   "outputs": [],
   "execution_count": 1
  },
  {
   "metadata": {
    "ExecuteTime": {
     "end_time": "2025-06-27T13:25:57.837034Z",
     "start_time": "2025-06-27T13:25:57.827020Z"
    }
   },
   "cell_type": "code",
   "source": [
    "def canny(image):\n",
    "    gray_image = cv2.cvtColor(image, cv2.COLOR_RGB2GRAY)\n",
    "    smooth_image = cv2.GaussianBlur(gray_image, (5,5), 0)\n",
    "    canny_image = cv2.Canny(smooth_image, 50, 150)\n",
    "    return canny_image"
   ],
   "id": "abaa9b5b17a13572",
   "outputs": [],
   "execution_count": 2
  },
  {
   "metadata": {
    "ExecuteTime": {
     "end_time": "2025-06-27T13:25:57.898505Z",
     "start_time": "2025-06-27T13:25:57.886293Z"
    }
   },
   "cell_type": "code",
   "source": [
    "def region_of_interest(image):\n",
    "    image_bottom = image.shape[0] # // 704 biggest height\n",
    "    #triangle = np.array([ (200, image_bottom), (1100, image_bottom), (550, 250) ])\n",
    "    # // added square brackets so that it can be an array because of the requirement of the fillpoly() function\n",
    "    polygon = np.array( [ [ (200, image_bottom), (1100, image_bottom), (550, 250) ] ] )\n",
    "    mask_image = np.zeros_like(image) # // black image(mask) to put the polygon in\n",
    "    cv2.fillPoly(mask_image, polygon, 255) # // now the polygon is in the mask, in white color\n",
    "    masked_image = cv2.bitwise_and(image, mask_image)\n",
    "    return masked_image"
   ],
   "id": "c2349a7a4c17a38d",
   "outputs": [],
   "execution_count": 3
  },
  {
   "metadata": {
    "ExecuteTime": {
     "end_time": "2025-06-27T13:25:57.948410Z",
     "start_time": "2025-06-27T13:25:57.939427Z"
    }
   },
   "cell_type": "code",
   "source": [
    "def display_lines(image, lines):\n",
    "    # // create a mask picture for the lines\n",
    "    line_image = np.zeros_like(image)\n",
    "    if lines is not None:\n",
    "        for line in lines:\n",
    "            #print(line)  # // this shows each line that isn't none, is 2D, we need to change it to 1D\n",
    "            x1, y1, x2, y2 = line.reshape(4)\n",
    "            cv2.line(line_image, (x1, y1), (x2, y2), (255, 0, 0), 10) # // now the line is merged\n",
    "            # // until now this shows the lines in the masked image but in a correct position thanks to Hough function\n",
    "\n",
    "    return line_image"
   ],
   "id": "bf0f516b0a72a4d7",
   "outputs": [],
   "execution_count": 4
  },
  {
   "metadata": {
    "ExecuteTime": {
     "end_time": "2025-06-27T13:26:38.510142Z",
     "start_time": "2025-06-27T13:25:57.978516Z"
    }
   },
   "cell_type": "code",
   "source": [
    "path = 'test_image.jpg'\n",
    "image = cv2.imread(path)\n",
    "#print(image.shape)  # // (704, 1279, 3)\n",
    "\n",
    "lane_image = np.copy(image)\n",
    "edgeDetected_image = canny(lane_image)\n",
    "\n",
    "# // showing the edge detected image\n",
    "#cv2.imshow('Edge DetectedImage', edgeDetected_image)\n",
    "#cv2.waitKey(0)\n",
    "\n",
    "# // just putting the result of ROI in a function\n",
    "masked_lane_image = region_of_interest(edgeDetected_image)\n",
    "\n",
    "# // showing the new ROI image\n",
    "#cv2.imshow('Masked Lane pic', masked_lane_image)\n",
    "#cv2.waitKey(0)\n",
    "\n",
    "# // the lines by Hough Transform\n",
    "lines = cv2.HoughLinesP(masked_lane_image, 2, np.pi/180, 100, np.array([]), minLineLength=40, maxLineGap=5)\n",
    "\n",
    "# // the masked image with the lines, taking the same parameters of the og pic\n",
    "lines_image = display_lines(lane_image, lines)\n",
    "\n",
    "# // showing the masked line image\n",
    "cv2.imshow('Lines masked pic', lines_image)\n",
    "cv2.waitKey(0)\n",
    "\n",
    "# // we then blend the blue lines to the actual image, and since the rest of the mask image is black, we can use\n",
    "# // addWeighted function since the intensity of the pixels in the mask image except for the lines is 0 and adding with\n",
    "# // 0 doesn't make any difference."
   ],
   "id": "103cd11dfc81e0ab",
   "outputs": [
    {
     "data": {
      "text/plain": [
       "-1"
      ]
     },
     "execution_count": 5,
     "metadata": {},
     "output_type": "execute_result"
    }
   ],
   "execution_count": 5
  },
  {
   "metadata": {
    "ExecuteTime": {
     "end_time": "2025-06-27T13:26:42.734527Z",
     "start_time": "2025-06-27T13:26:38.558400Z"
    }
   },
   "cell_type": "code",
   "source": [
    "lane_image_with_lines = cv2.addWeighted(lane_image, 0.8, lines_image, 1, 1)\n",
    "\n",
    "# // showing the lane with the lines image\n",
    "cv2.imshow('Lane with the Lines pic', lane_image_with_lines)\n",
    "cv2.waitKey(0)"
   ],
   "id": "fcdd6e35a6d8d23c",
   "outputs": [
    {
     "data": {
      "text/plain": [
       "-1"
      ]
     },
     "execution_count": 6,
     "metadata": {},
     "output_type": "execute_result"
    }
   ],
   "execution_count": 6
  }
 ],
 "metadata": {
  "kernelspec": {
   "display_name": "Python 3",
   "language": "python",
   "name": "python3"
  },
  "language_info": {
   "codemirror_mode": {
    "name": "ipython",
    "version": 2
   },
   "file_extension": ".py",
   "mimetype": "text/x-python",
   "name": "python",
   "nbconvert_exporter": "python",
   "pygments_lexer": "ipython2",
   "version": "2.7.6"
  }
 },
 "nbformat": 4,
 "nbformat_minor": 5
}
