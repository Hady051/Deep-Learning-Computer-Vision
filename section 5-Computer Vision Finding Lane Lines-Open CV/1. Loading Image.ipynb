{
 "cells": [
  {
   "metadata": {},
   "cell_type": "markdown",
   "source": "## Loading an image",
   "id": "82266dc8b3332bbb"
  },
  {
   "metadata": {
    "ExecuteTime": {
     "end_time": "2025-06-27T12:32:48.077367Z",
     "start_time": "2025-06-27T12:32:48.071941Z"
    }
   },
   "cell_type": "code",
   "source": [
    "# path = 'D:\\\\coding projects\\\\PyCharm projects\\\\new projects\\\\S-D-C-2'\n",
    "#                   '\\\\section 5-Computer Vision Finding Lane Lines-Open CV\\\\Image\\\\test_image.jpg'\n",
    "# image = cv2.imread(path)\n",
    "\n",
    "\n",
    "# path = r'D:\\coding projects\\PyCharm projects\\new projects\\S-D-C-2\\section 5-Computer Vision Finding Lane Lines-Open CV\\Image\\test_image.jpg'\n",
    "# image = cv2.imread(path)"
   ],
   "id": "d485b154bf7fe0fc",
   "outputs": [],
   "execution_count": 1
  },
  {
   "cell_type": "code",
   "id": "initial_id",
   "metadata": {
    "collapsed": true,
    "ExecuteTime": {
     "end_time": "2025-06-27T12:34:18.360270Z",
     "start_time": "2025-06-27T12:34:05.804837Z"
    }
   },
   "source": [
    "import cv2\n",
    "\n",
    "image = cv2.imread('test_image.jpg') # / this is the image inside the same folder,\n",
    "# / so we can just type the name of the pic without needing\n",
    "# / to type the absolute path\n",
    "\n",
    "cv2.imshow('test', image)\n",
    "cv2.waitKey(0)"
   ],
   "outputs": [
    {
     "data": {
      "text/plain": [
       "-1"
      ]
     },
     "execution_count": 1,
     "metadata": {},
     "output_type": "execute_result"
    }
   ],
   "execution_count": 1
  },
  {
   "metadata": {},
   "cell_type": "code",
   "outputs": [],
   "execution_count": null,
   "source": "",
   "id": "f1766690d8d67013"
  }
 ],
 "metadata": {
  "kernelspec": {
   "display_name": "Python 3",
   "language": "python",
   "name": "python3"
  },
  "language_info": {
   "codemirror_mode": {
    "name": "ipython",
    "version": 2
   },
   "file_extension": ".py",
   "mimetype": "text/x-python",
   "name": "python",
   "nbconvert_exporter": "python",
   "pygments_lexer": "ipython2",
   "version": "2.7.6"
  }
 },
 "nbformat": 4,
 "nbformat_minor": 5
}
